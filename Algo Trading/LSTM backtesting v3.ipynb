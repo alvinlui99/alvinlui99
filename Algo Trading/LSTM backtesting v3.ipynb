{
 "cells": [
  {
   "cell_type": "markdown",
   "metadata": {},
   "source": [
    "Changes from v2:\n",
    "\n",
    "1. ATR is calculated inside strategy s.t. it can be used to calculate take profit and stop loss\n",
    "2. implemented PCA to reduce dimension"
   ]
  },
  {
   "cell_type": "markdown",
   "metadata": {},
   "source": [
    "## Import Library"
   ]
  },
  {
   "cell_type": "code",
   "execution_count": 21,
   "metadata": {},
   "outputs": [],
   "source": [
    "from humpback import *\n",
    "\n",
    "import pandas as pd\n",
    "import numpy as np\n",
    "from datetime import datetime\n",
    "import ta\n",
    "\n",
    "from sklearn.model_selection import train_test_split\n",
    "from sklearn.preprocessing import MinMaxScaler\n",
    "from sklearn.decomposition import PCA\n",
    "\n",
    "from keras.models import Sequential\n",
    "from keras.layers import LSTM, Dense, Dropout\n",
    "\n",
    "from backtesting import Backtest, Strategy"
   ]
  },
  {
   "cell_type": "code",
   "execution_count": 22,
   "metadata": {},
   "outputs": [],
   "source": [
    "import warnings\n",
    "warnings.filterwarnings('ignore')"
   ]
  },
  {
   "cell_type": "markdown",
   "metadata": {},
   "source": [
    "## Defining Functions"
   ]
  },
  {
   "cell_type": "markdown",
   "metadata": {},
   "source": [
    "Functions in this section would be moved to humpback.py after testing for tidiness"
   ]
  },
  {
   "cell_type": "markdown",
   "metadata": {},
   "source": [
    "https://keras.io/examples/timeseries/timeseries_traffic_forecasting/"
   ]
  },
  {
   "cell_type": "markdown",
   "metadata": {},
   "source": [
    "## Defining Model"
   ]
  },
  {
   "cell_type": "code",
   "execution_count": 26,
   "metadata": {},
   "outputs": [],
   "source": [
    "class MyModel:\n",
    "    def __init__(self):\n",
    "        self.optimizer = 'adam'\n",
    "        self.loss      = 'mean_squared_error'\n",
    "\n",
    "    def trainModel(self, data_X, data_y, epochs: int = 20, batch_size: int = 32) -> None:\n",
    "        self.trainScaler_X(data_X)\n",
    "        self.trainScaler_y(data_y)\n",
    "\n",
    "        self.trainPCA(data_X)\n",
    "        eigen_X = self.pca.transform(self.scaler_X.transform(data_X))\n",
    "\n",
    "        self.model = Sequential()\n",
    "        self.model.add(LSTM(units=50,\n",
    "                            return_sequences=True,\n",
    "                            input_shape=(data_X.shape[1],1)))\n",
    "        self.model.add(Dropout(0.2))\n",
    "\n",
    "        self.model.add(LSTM(units=50,\n",
    "                            return_sequences=True))\n",
    "        self.model.add(Dropout(0.2))\n",
    "\n",
    "        self.model.add(LSTM(units=50,\n",
    "                            return_sequences=True))\n",
    "        self.model.add(Dropout(0.2))\n",
    "\n",
    "        self.model.add(LSTM(units=50))\n",
    "        self.model.add(Dropout(0.2))\n",
    "\n",
    "        self.model.add(Dense(units=1))\n",
    "\n",
    "        self.model.compile(optimizer=self.optimizer,\n",
    "                           loss=self.loss)\n",
    "\n",
    "        self.model.fit(eigen_X,\n",
    "                       self.scaler_y.transform(data_y),\n",
    "                       epochs=epochs,\n",
    "                       batch_size=batch_size)\n",
    "    \n",
    "    def trainScaler_X(self, data_X) -> None:\n",
    "        self.scaler_X = MinMaxScaler()\n",
    "        self.scaler_X.fit(data_X)\n",
    "\n",
    "    def trainScaler_y(self, data_y) -> None:\n",
    "        self.scaler_y = MinMaxScaler()\n",
    "        self.scaler_y.fit(data_y)\n",
    "\n",
    "    def predictModel(self, data_X):\n",
    "        \"\"\"output a predicted y given X\n",
    "\n",
    "        Args:\n",
    "            data_X (DataFrame): a pd.DataFrame of single row. Unscaled.\n",
    "\n",
    "        Returns:\n",
    "            unscaled prediction\n",
    "        \"\"\"\n",
    "        scaled_X = self.scaler_X.transform(data_X)\n",
    "        eigen_X = self.pca.transform(scaled_X)\n",
    "        predict = self.model.predict(eigen_X)\n",
    "        return self.scaler_y.inverse_transform(predict)\n",
    "    \n",
    "    def trainPCA(self, data_X) -> None:\n",
    "        self.pca = PCA(n_components=3)\n",
    "        self.pca.fit(data_X)\n",
    "\n",
    "    def get_model(self):\n",
    "        return self.model"
   ]
  },
  {
   "cell_type": "markdown",
   "metadata": {},
   "source": [
    "## Defining Strategy"
   ]
  },
  {
   "cell_type": "code",
   "execution_count": null,
   "metadata": {},
   "outputs": [],
   "source": [
    "class MyStr(Strategy):\n",
    "    # Variables:\n",
    "    # train_size = 0.7\n",
    "    buy_threshold  =  .005\n",
    "    sell_threshold = -.005\n",
    "\n",
    "    # hardcoded 10000 training size\n",
    "    N_train = 3500\n",
    "\n",
    "    def init(self):\n",
    "        # Declare indicators you will use in the strategy:\n",
    "        self.getData()\n",
    "        self.model_init()\n",
    "\n",
    "    def next(self):\n",
    "        if len(self.data) < self.N_train:\n",
    "            return\n",
    "\n",
    "\n",
    "        X = featureGeneration(self.data.df.iloc[-120:])\n",
    "        X, _ = getXy(X, 'Return')\n",
    "        forecast = self.model.predictModel(X.iloc[[-1]])[0]\n",
    "        \n",
    "        atr_tp_sl = atr(self.data.df)\n",
    "\n",
    "        if forecast > self.buy_threshold and not self.position.is_long:\n",
    "            tp = self.data.Close[-1] + 2 * atr_tp_sl[-1]\n",
    "            sl = self.data.Close[-1] - 2 * atr_tp_sl[-1]\n",
    "            self.buy(size=.2, tp=tp, sl=sl)\n",
    "\n",
    "        if forecast < self.sell_threshold and not self.position.is_short:\n",
    "            tp = self.data.Close[-1] - 2 * atr_tp_sl[-1]\n",
    "            sl = self.data.Close[-1] + 2 * atr_tp_sl[-1]\n",
    "            self.sell(size=.2, tp=tp, sl=sl)\n",
    "\n",
    "########################################\n",
    "\n",
    "    def getData(self):\n",
    "        data_train = getReturn(self.data.df)\n",
    "        data_train = featureGeneration(data_train)\n",
    "        self.X_train, self.y_train = getXy(data_train.iloc[:-self.N_train,])\n",
    "\n",
    "    def model_init(self):\n",
    "        self.model = MyModel()\n",
    "        self.model.trainModel(self.X_train, self.y_train, epochs=4)\n",
    "\n",
    "    def get_model(self):\n",
    "        return self.model.get_model()\n"
   ]
  },
  {
   "cell_type": "code",
   "execution_count": null,
   "metadata": {},
   "outputs": [],
   "source": [
    "class WalkForwardStr(MyStr):\n",
    "    def next(self):\n",
    "        # Skip the cold start period with too few values available\n",
    "        if len(self.data) < len(self.y_train):\n",
    "            return\n",
    "            \n",
    "        if len(self.data) % 500:\n",
    "            return super().next()\n",
    "\n",
    "        # Retrain on last N_TRAIN values\n",
    "        self.getData()\n",
    "        self.model_init()\n",
    "\n",
    "        # Now that the model is fitted, \n",
    "        # proceed the same as in MLTrainOnceStrategy\n",
    "        super().next()"
   ]
  },
  {
   "cell_type": "markdown",
   "metadata": {},
   "source": [
    "## Parameters"
   ]
  },
  {
   "cell_type": "markdown",
   "metadata": {},
   "source": [
    "This section contains all the parameters."
   ]
  },
  {
   "cell_type": "code",
   "execution_count": null,
   "metadata": {},
   "outputs": [],
   "source": [
    "# This chunk specifies the data\n",
    "\n",
    "symbol = 'BTCUSDT'\n",
    "interval = '1h'\n",
    "\n",
    "start_str = int(datetime(2020,1,1,0,0).timestamp() * 1000)\n",
    "# end_str    = int(datetime(2020,12,31,0,0).timestamp() * 1000)\n",
    "end_str    = int(datetime(2023,12,31,0,0).timestamp() * 1000)"
   ]
  },
  {
   "cell_type": "markdown",
   "metadata": {},
   "source": [
    "## Obtain data"
   ]
  },
  {
   "cell_type": "markdown",
   "metadata": {},
   "source": [
    "This section outputs training and testing data for the use of the following sections."
   ]
  },
  {
   "cell_type": "code",
   "execution_count": null,
   "metadata": {},
   "outputs": [],
   "source": [
    "client = connectBinanceAPI()"
   ]
  },
  {
   "cell_type": "code",
   "execution_count": null,
   "metadata": {},
   "outputs": [],
   "source": [
    "data_raw = getBinanceData(client=client,\n",
    "                          symbol=symbol,\n",
    "                          interval=interval,\n",
    "                          start_str=start_str,\n",
    "                          end_str=end_str)"
   ]
  },
  {
   "cell_type": "markdown",
   "metadata": {},
   "source": [
    "## Backtesting"
   ]
  },
  {
   "cell_type": "code",
   "execution_count": null,
   "metadata": {},
   "outputs": [],
   "source": [
    "bt    = Backtest(data_raw, WalkForwardStr, cash = 1000000, commission=0.00075, margin=.05)\n",
    "stats = bt.run()"
   ]
  },
  {
   "cell_type": "markdown",
   "metadata": {},
   "source": [
    "## Results"
   ]
  },
  {
   "cell_type": "code",
   "execution_count": null,
   "metadata": {},
   "outputs": [],
   "source": [
    "bt.plot()"
   ]
  },
  {
   "cell_type": "code",
   "execution_count": null,
   "metadata": {},
   "outputs": [],
   "source": [
    "stats.tail()"
   ]
  },
  {
   "cell_type": "code",
   "execution_count": null,
   "metadata": {},
   "outputs": [],
   "source": [
    "stats['_equity_curve']"
   ]
  },
  {
   "cell_type": "code",
   "execution_count": null,
   "metadata": {},
   "outputs": [],
   "source": []
  },
  {
   "cell_type": "code",
   "execution_count": null,
   "metadata": {},
   "outputs": [],
   "source": []
  },
  {
   "cell_type": "code",
   "execution_count": null,
   "metadata": {},
   "outputs": [],
   "source": []
  },
  {
   "cell_type": "markdown",
   "metadata": {},
   "source": [
    "## Ad hoc"
   ]
  },
  {
   "cell_type": "code",
   "execution_count": 3,
   "metadata": {},
   "outputs": [],
   "source": [
    "# This chunk specifies the data\n",
    "\n",
    "symbol = 'BTCUSDT'\n",
    "interval = '1h'\n",
    "\n",
    "start_str = int(datetime(2020,1,1,0,0).timestamp() * 1000)\n",
    "# end_str    = int(datetime(2020,12,31,0,0).timestamp() * 1000)\n",
    "end_str    = int(datetime(2023,12,31,0,0).timestamp() * 1000)"
   ]
  },
  {
   "cell_type": "code",
   "execution_count": 4,
   "metadata": {},
   "outputs": [],
   "source": [
    "client = connectBinanceAPI()"
   ]
  },
  {
   "cell_type": "code",
   "execution_count": 11,
   "metadata": {},
   "outputs": [],
   "source": [
    "data_raw = getBinanceData(client=client,\n",
    "                          symbol=symbol,\n",
    "                          interval=interval,\n",
    "                          start_str=start_str,\n",
    "                          end_str=end_str)"
   ]
  },
  {
   "cell_type": "code",
   "execution_count": 19,
   "metadata": {},
   "outputs": [],
   "source": [
    "data_train, data_test = train_test_split(data_raw,\n",
    "                                         train_size=0.7,\n",
    "                                         shuffle=False)\n",
    "data_train, data_test = [getReturn(data, 'Close') for data in [data_train, data_test]]\n",
    "data_train, data_test = [featureGeneration(data)  for data in [data_train, data_test]]\n",
    "X_train, y_train = getXy(data_train, 'Return')\n",
    "X_test , y_test  = getXy(data_test , 'Return')"
   ]
  },
  {
   "cell_type": "code",
   "execution_count": 30,
   "metadata": {},
   "outputs": [
    {
     "name": "stdout",
     "output_type": "stream",
     "text": [
      "Epoch 1/20\n",
      "\u001b[1m764/764\u001b[0m \u001b[32m━━━━━━━━━━━━━━━━━━━━\u001b[0m\u001b[37m\u001b[0m \u001b[1m11s\u001b[0m 6ms/step - loss: 0.0166\n",
      "Epoch 2/20\n",
      "\u001b[1m764/764\u001b[0m \u001b[32m━━━━━━━━━━━━━━━━━━━━\u001b[0m\u001b[37m\u001b[0m \u001b[1m5s\u001b[0m 6ms/step - loss: 0.0016\n",
      "Epoch 3/20\n",
      "\u001b[1m764/764\u001b[0m \u001b[32m━━━━━━━━━━━━━━━━━━━━\u001b[0m\u001b[37m\u001b[0m \u001b[1m5s\u001b[0m 6ms/step - loss: 0.0013\n",
      "Epoch 4/20\n",
      "\u001b[1m764/764\u001b[0m \u001b[32m━━━━━━━━━━━━━━━━━━━━\u001b[0m\u001b[37m\u001b[0m \u001b[1m5s\u001b[0m 6ms/step - loss: 0.0011\n",
      "Epoch 5/20\n",
      "\u001b[1m764/764\u001b[0m \u001b[32m━━━━━━━━━━━━━━━━━━━━\u001b[0m\u001b[37m\u001b[0m \u001b[1m5s\u001b[0m 6ms/step - loss: 8.1289e-04\n",
      "Epoch 6/20\n",
      "\u001b[1m764/764\u001b[0m \u001b[32m━━━━━━━━━━━━━━━━━━━━\u001b[0m\u001b[37m\u001b[0m \u001b[1m5s\u001b[0m 6ms/step - loss: 7.1394e-04\n",
      "Epoch 7/20\n",
      "\u001b[1m764/764\u001b[0m \u001b[32m━━━━━━━━━━━━━━━━━━━━\u001b[0m\u001b[37m\u001b[0m \u001b[1m5s\u001b[0m 6ms/step - loss: 5.7625e-04\n",
      "Epoch 8/20\n",
      "\u001b[1m764/764\u001b[0m \u001b[32m━━━━━━━━━━━━━━━━━━━━\u001b[0m\u001b[37m\u001b[0m \u001b[1m5s\u001b[0m 6ms/step - loss: 5.7224e-04\n",
      "Epoch 9/20\n",
      "\u001b[1m764/764\u001b[0m \u001b[32m━━━━━━━━━━━━━━━━━━━━\u001b[0m\u001b[37m\u001b[0m \u001b[1m5s\u001b[0m 7ms/step - loss: 5.6193e-04\n",
      "Epoch 10/20\n",
      "\u001b[1m764/764\u001b[0m \u001b[32m━━━━━━━━━━━━━━━━━━━━\u001b[0m\u001b[37m\u001b[0m \u001b[1m5s\u001b[0m 7ms/step - loss: 5.1939e-04\n",
      "Epoch 11/20\n",
      "\u001b[1m764/764\u001b[0m \u001b[32m━━━━━━━━━━━━━━━━━━━━\u001b[0m\u001b[37m\u001b[0m \u001b[1m5s\u001b[0m 7ms/step - loss: 5.3090e-04\n",
      "Epoch 12/20\n",
      "\u001b[1m764/764\u001b[0m \u001b[32m━━━━━━━━━━━━━━━━━━━━\u001b[0m\u001b[37m\u001b[0m \u001b[1m5s\u001b[0m 7ms/step - loss: 5.7270e-04\n",
      "Epoch 13/20\n",
      "\u001b[1m764/764\u001b[0m \u001b[32m━━━━━━━━━━━━━━━━━━━━\u001b[0m\u001b[37m\u001b[0m \u001b[1m5s\u001b[0m 7ms/step - loss: 5.3210e-04\n",
      "Epoch 14/20\n",
      "\u001b[1m764/764\u001b[0m \u001b[32m━━━━━━━━━━━━━━━━━━━━\u001b[0m\u001b[37m\u001b[0m \u001b[1m5s\u001b[0m 6ms/step - loss: 5.4670e-04\n",
      "Epoch 15/20\n",
      "\u001b[1m764/764\u001b[0m \u001b[32m━━━━━━━━━━━━━━━━━━━━\u001b[0m\u001b[37m\u001b[0m \u001b[1m5s\u001b[0m 6ms/step - loss: 5.5496e-04\n",
      "Epoch 16/20\n",
      "\u001b[1m764/764\u001b[0m \u001b[32m━━━━━━━━━━━━━━━━━━━━\u001b[0m\u001b[37m\u001b[0m \u001b[1m5s\u001b[0m 6ms/step - loss: 6.1308e-04\n",
      "Epoch 17/20\n",
      "\u001b[1m764/764\u001b[0m \u001b[32m━━━━━━━━━━━━━━━━━━━━\u001b[0m\u001b[37m\u001b[0m \u001b[1m5s\u001b[0m 6ms/step - loss: 5.4953e-04\n",
      "Epoch 18/20\n",
      "\u001b[1m764/764\u001b[0m \u001b[32m━━━━━━━━━━━━━━━━━━━━\u001b[0m\u001b[37m\u001b[0m \u001b[1m5s\u001b[0m 6ms/step - loss: 5.3092e-04\n",
      "Epoch 19/20\n",
      "\u001b[1m764/764\u001b[0m \u001b[32m━━━━━━━━━━━━━━━━━━━━\u001b[0m\u001b[37m\u001b[0m \u001b[1m5s\u001b[0m 6ms/step - loss: 5.2847e-04\n",
      "Epoch 20/20\n",
      "\u001b[1m764/764\u001b[0m \u001b[32m━━━━━━━━━━━━━━━━━━━━\u001b[0m\u001b[37m\u001b[0m \u001b[1m5s\u001b[0m 6ms/step - loss: 5.2762e-04\n"
     ]
    }
   ],
   "source": [
    "myModel = MyModel()\n",
    "myModel.trainModel(X_train, y_train)"
   ]
  },
  {
   "cell_type": "code",
   "execution_count": null,
   "metadata": {},
   "outputs": [],
   "source": []
  }
 ],
 "metadata": {
  "kernelspec": {
   "display_name": "Python 3",
   "language": "python",
   "name": "python3"
  },
  "language_info": {
   "codemirror_mode": {
    "name": "ipython",
    "version": 3
   },
   "file_extension": ".py",
   "mimetype": "text/x-python",
   "name": "python",
   "nbconvert_exporter": "python",
   "pygments_lexer": "ipython3",
   "version": "3.12.4"
  }
 },
 "nbformat": 4,
 "nbformat_minor": 2
}
