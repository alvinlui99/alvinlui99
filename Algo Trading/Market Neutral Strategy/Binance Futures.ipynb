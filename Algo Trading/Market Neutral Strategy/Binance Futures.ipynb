{
 "cells": [
  {
   "cell_type": "code",
   "execution_count": 1,
   "id": "616d6297-b1d6-4d43-a4ef-0e53fa45651d",
   "metadata": {},
   "outputs": [],
   "source": [
    "from binance.um_futures import UMFutures\n",
    "# import gym\n",
    "# import json\n",
    "\n",
    "import time\n",
    "import datetime\n",
    "import numpy as np\n",
    "import pandas as pd\n",
    "# import matplotlib.pyplot as plt\n",
    "# from sklearn.preprocessing import StandardScaler\n",
    "\n",
    "pd.options.mode.copy_on_write = True"
   ]
  },
  {
   "cell_type": "code",
   "execution_count": 2,
   "id": "a5a518fe-fff2-4d4a-83b6-285b03f04ee9",
   "metadata": {},
   "outputs": [],
   "source": [
    "# Test Net API Key and Secret\n",
    "API_KEY = \"b88d219ce4b7f4408ab0f51fc8be1730b264904e48e9a6ac7c7fa716e1e18dc7\"\n",
    "API_SECRET = \"15acdeca3bb1dd761e472034c8b09bb597e165d18c69e485738ccf9a3aa4326a\""
   ]
  },
  {
   "cell_type": "code",
   "execution_count": 3,
   "id": "2a81cc6c-5605-4063-b6a2-27477dc0b8f7",
   "metadata": {},
   "outputs": [],
   "source": [
    "base_url_REST_testnet = \"https://testnet.binancefuture.com\"\n",
    "base_url_WS_testnet = \"wss://stream.binancefuture.com\""
   ]
  },
  {
   "cell_type": "code",
   "execution_count": 4,
   "id": "f502f34f-86e4-4fce-bcc7-d3ed75d75aae",
   "metadata": {},
   "outputs": [],
   "source": [
    "um_futures_client = UMFutures(key=API_KEY, secret=API_SECRET, base_url=base_url_REST_testnet)"
   ]
  },
  {
   "cell_type": "code",
   "execution_count": 5,
   "id": "9ee0a287-3541-48d2-83f5-ea6c8a8f9c5d",
   "metadata": {},
   "outputs": [],
   "source": [
    "def get_data(client,\n",
    "             symbol,\n",
    "             interval: str=\"1h\",\n",
    "             startTime: int=None,\n",
    "             endTime: int=None\n",
    "            ):\n",
    "    if startTime is None or endTime is None:\n",
    "        data = client.klines(\n",
    "            limit=5, # to be removed\n",
    "            symbol=symbol,\n",
    "            interval=interval\n",
    "        )\n",
    "    else:\n",
    "        data = client.klines(\n",
    "            symbol=symbol,\n",
    "            interval=interval,\n",
    "            limit=1500,\n",
    "            startTime=startTime,\n",
    "            endTime=endTime\n",
    "        )\n",
    "    df = pd.DataFrame(data).iloc[:, :6]\n",
    "    columns = [\n",
    "        \"Open Time\",\n",
    "        \"Open\",\n",
    "        \"High\",\n",
    "        \"Low\",\n",
    "        \"Close\",\n",
    "        \"Volume\"\n",
    "    ]\n",
    "    df.columns = columns\n",
    "    df['Open Time'] = pd.to_datetime(df['Open Time'], unit='ms')\n",
    "    df.set_index('Open Time', inplace=True)\n",
    "    columns_float = [\n",
    "        \"Open\",\n",
    "        \"High\",\n",
    "        \"Low\",\n",
    "        \"Close\",\n",
    "        \"Volume\"\n",
    "    ]\n",
    "    df[columns_float] = df[columns_float].astype(float)\n",
    "    return df"
   ]
  },
  {
   "cell_type": "code",
   "execution_count": 6,
   "id": "309b6efa-9f3e-4fa1-91c6-d8bb3a731e67",
   "metadata": {},
   "outputs": [],
   "source": [
    "def cal_rolling_zScore(df,\n",
    "                       window_size: int=14):\n",
    "    # Calculate rolling mean and rolling standard deviation\n",
    "    df['Rolling Mean'] = df['Close'].rolling(window=window_size).mean()\n",
    "    df['Rolling Std']  = df['Close'].rolling(window=window_size).std()\n",
    "    \n",
    "    # Calculate the rolling z-score\n",
    "    df['Rolling Z Score'] = (df['Close'] - df['Rolling Mean']) / df['Rolling Std']\n",
    "    return df.dropna()"
   ]
  },
  {
   "cell_type": "code",
   "execution_count": 7,
   "id": "1f112fc8-e055-449e-92a5-5da5d88cbca7",
   "metadata": {},
   "outputs": [],
   "source": [
    "symbols = ['BTCUSDT', 'ETHUSDT']"
   ]
  },
  {
   "cell_type": "markdown",
   "id": "ca9d8317-7d15-4022-95f9-7a9909d8fd29",
   "metadata": {
    "jp-MarkdownHeadingCollapsed": true
   },
   "source": [
    "## Analysis"
   ]
  },
  {
   "cell_type": "code",
   "execution_count": 8,
   "id": "67887e03-427a-4863-bf08-b95a45aa6184",
   "metadata": {},
   "outputs": [],
   "source": [
    "# startTime = datetime.datetime(2024, 1, 1, 0, 0)\n",
    "# endTime = datetime.datetime(2024, 9, 30, 0, 0)\n",
    "\n",
    "# data = {}\n",
    "\n",
    "# for symbol in symbols:\n",
    "#     for interval in intervals:\n",
    "#         data[symbol + \"_\" + interval] = get_data(client=um_futures_client,\n",
    "#                                                  symbol=symbol,\n",
    "#                                                  interval=interval,\n",
    "#                                                  startTime=int(startTime.timestamp() * 1000),\n",
    "#                                                  endTime=int(endTime.timestamp() * 1000))"
   ]
  },
  {
   "cell_type": "code",
   "execution_count": 9,
   "id": "75d5fbd8-43d3-4d18-acc3-29aef1bd94dc",
   "metadata": {
    "editable": true,
    "slideshow": {
     "slide_type": ""
    },
    "tags": []
   },
   "outputs": [],
   "source": [
    "# for d in data:\n",
    "#     data[d] = cal_rolling_zScore(data[d])"
   ]
  },
  {
   "cell_type": "code",
   "execution_count": 10,
   "id": "a5c990f1-3b06-405e-884a-c5a3833315c8",
   "metadata": {},
   "outputs": [],
   "source": [
    "# diffs = {}\n",
    "\n",
    "# for interval in intervals:\n",
    "#     asset1 = 'BTCUSDT_' + interval\n",
    "#     asset2 = 'ETHUSDT_' + interval\n",
    "#     price_ratios = (data[asset1]['Close'] / data[asset2]['Close']).values\n",
    "#     scaler = StandardScaler().fit(price_ratios.reshape(-1, 1))\n",
    "#     z_scores = scaler.transform(price_ratios.reshape(-1, 1)).flatten()\n",
    "#     diffs[interval] = pd.DataFrame({\n",
    "#         'Open Time': data[asset1]['Open Time'],\n",
    "#         'Z Diff': z_scores\n",
    "#         })"
   ]
  },
  {
   "cell_type": "code",
   "execution_count": 11,
   "id": "fe8a23f7-b4a6-4ea8-a96f-5aeeac82e2d6",
   "metadata": {},
   "outputs": [],
   "source": [
    "# plt.figure(figsize=(15,5))\n",
    "# for idx, diff in enumerate(diffs):\n",
    "#     plt.subplot(1, len(diffs), idx+1)\n",
    "#     plt.plot(diffs[diff]['Open Time'],\n",
    "#              diffs[diff]['Z Diff'])\n",
    "#     plt.title(diff)\n",
    "\n",
    "# # Adding labels and title\n",
    "# # plt.xlabel('Time')\n",
    "# # plt.ylabel('Price')\n",
    "# # plt.title('Comparison of Values from Two DataFrames')\n",
    "# # plt.legend()\n",
    "# # plt.grid()\n",
    "\n",
    "# # Show the plot\n",
    "# plt.show()"
   ]
  },
  {
   "cell_type": "markdown",
   "id": "30fb6564-f2ab-4999-912d-c9fe2bfa9595",
   "metadata": {},
   "source": [
    "## Choose 5m as trading interval"
   ]
  },
  {
   "cell_type": "code",
   "execution_count": 12,
   "id": "c470b8bc-b448-4424-a5e1-d7e317e5f94a",
   "metadata": {},
   "outputs": [],
   "source": [
    "data = {}\n",
    "for symbol in symbols:\n",
    "    df = None\n",
    "    startTime = datetime.datetime(2024, 1, 1, 0, 0)\n",
    "    while startTime < datetime.datetime(2024, 10, 1, 0, 0):\n",
    "        endTime = startTime + datetime.timedelta(days=5)\n",
    "        df_new = get_data(client=um_futures_client,\n",
    "                            symbol=symbol,\n",
    "                            interval='5m',\n",
    "                            startTime=int(startTime.timestamp() * 1000),\n",
    "                            endTime=int(endTime.timestamp() * 1000))\n",
    "        if df is None:\n",
    "            df = df_new\n",
    "        else:\n",
    "            df = pd.concat([df, df_new])\n",
    "        startTime = endTime + datetime.timedelta(minutes=5)\n",
    "    data[symbol] = df"
   ]
  },
  {
   "cell_type": "code",
   "execution_count": 13,
   "id": "d03094c0-6997-4629-ae60-9c3819f53730",
   "metadata": {},
   "outputs": [],
   "source": [
    "for symbol in symbols:\n",
    "    data[symbol] = cal_rolling_zScore(data[symbol])"
   ]
  },
  {
   "cell_type": "code",
   "execution_count": 14,
   "id": "4463b145-2056-4c90-9df5-4d15f01a47bb",
   "metadata": {},
   "outputs": [],
   "source": [
    "spread_df = pd.DataFrame(index=data['BTCUSDT'].index.intersection(data['ETHUSDT'].index))\n",
    "\n",
    "# k is the ratio between BTC and ETH\n",
    "# To calculate the adjusted spread, the formula is\n",
    "# Z_X - k * Z_Y for assets X and Y\n",
    "\n",
    "spread_df['k'] = (data['ETHUSDT']['Rolling Std'] / data['BTCUSDT']['Rolling Std']).clip(4, 0)\n",
    "spread_df['Adjusted Spread'] = data['ETHUSDT']['Rolling Z Score'] - spread_df['k'] * data['BTCUSDT']['Rolling Z Score']\n",
    "\n",
    "# When the Spread is Positive, it means that BTC is overpriced.\n",
    "# Therefore, the strategy is short BTC and long ETH"
   ]
  },
  {
   "cell_type": "markdown",
   "id": "921ba4aa-98e1-4a47-b7c8-841879937e22",
   "metadata": {},
   "source": [
    "## Simulation"
   ]
  },
  {
   "cell_type": "code",
   "execution_count": 15,
   "id": "98fe3b2b-339b-4a5a-bc74-ce1c3d04e7d8",
   "metadata": {},
   "outputs": [],
   "source": [
    "cash = 10000\n",
    "leverage = 5"
   ]
  },
  {
   "cell_type": "code",
   "execution_count": 16,
   "id": "efd496fe-ab27-4028-8a1e-91c6e2c9cc8b",
   "metadata": {},
   "outputs": [],
   "source": [
    "class Position():\n",
    "    def __init__(self):\n",
    "        self.quantity = 0\n",
    "        self.entry_price = 0\n",
    "        self.notional_size = 0\n",
    "        self.leverage = 0\n",
    "        self.margin = 0\n",
    "        \n",
    "    def open_position(self,\n",
    "                      quantity: float,\n",
    "                      price: float,\n",
    "                      leverage: int):\n",
    "        self.quantity = quantity\n",
    "        self.entry_price = price\n",
    "        self.notional_size = abs(quantity * price)\n",
    "        self.leverage = leverage\n",
    "        self.margin = self.notional_size / leverage\n",
    "\n",
    "    def __str__(self):\n",
    "        return f\"\"\"\n",
    "        Quantity = {self.quantity}\n",
    "        Entry Price = {self.entry_price}\n",
    "        Notional Size = {self.notional_size}\n",
    "        Leverage = {self.leverage}\n",
    "        Margin = {self.margin}\n",
    "        \"\"\"\n",
    "    \n",
    "    def close_position(self, price):\n",
    "        pnl = self.get_pnl(price)\n",
    "        self.reset()\n",
    "        return pnl\n",
    "    \n",
    "    def get_pnl(self, price):\n",
    "        return (price - self.entry_price) * self.quantity\n",
    "    \n",
    "    def reset(self):\n",
    "        self.quantity = 0\n",
    "        self.entry_price = 0\n",
    "        self.notional_size = 0\n",
    "        self.leverage = 0\n",
    "        self.margin = 0        "
   ]
  },
  {
   "cell_type": "code",
   "execution_count": 17,
   "id": "5b7369cf-a75b-4f94-962b-903179bac022",
   "metadata": {},
   "outputs": [],
   "source": [
    "class Account():\n",
    "    def __init__(self,\n",
    "                 positions,\n",
    "                 cash: int=10000):\n",
    "        self.cash = cash\n",
    "        self.status = None\n",
    "        self.margin_balance = 0\n",
    "        self.margin_ratio = 0\n",
    "        self.pnl = 0\n",
    "        self.positions = positions\n",
    "\n",
    "    def __str__(self):\n",
    "        return f\"\"\"\n",
    "        Cash = {self.cash}\n",
    "        Status = {self.status}\n",
    "        BTC Quantity = {self.positions['BTC'].quantity}\n",
    "        BTC Entry Price = {self.positions['BTC'].entry_price}\n",
    "        ETH Quantity = {self.positions['ETH'].quantity}\n",
    "        ETH Entry Price = {self.positions['ETH'].entry_price}\n",
    "        \"\"\"\n",
    "    \n",
    "    def open_position(self,\n",
    "                      status: str,\n",
    "                      asset_1: str,\n",
    "                      asset_2: str,\n",
    "                      price_asset_1: float,\n",
    "                      price_asset_2: float,\n",
    "                      leverage: int,\n",
    "                      k: float):\n",
    "        self.status = status\n",
    "        unit_cost = price_asset_1 + k * price_asset_2\n",
    "        quantity_asset_1 = self.cash * leverage / unit_cost\n",
    "        quantity_asset_2 = self.cash * leverage * k / unit_cost\n",
    "        \n",
    "        if status == 'Long':\n",
    "            self.positions[asset_1].open_position(-quantity_asset_1, price_asset_1, leverage)\n",
    "            self.positions[asset_2].open_position(quantity_asset_2, price_asset_2, leverage)\n",
    "        if status == 'Short':\n",
    "            self.positions[asset_1].open_position(quantity_asset_1, price_asset_1, leverage)\n",
    "            self.positions[asset_2].open_position(-quantity_asset_2, price_asset_2, leverage)\n",
    "\n",
    "    def close_position(self,\n",
    "                       asset_1,\n",
    "                       asset_2,\n",
    "                       price_asset_1,\n",
    "                       price_asset_2):\n",
    "        self.status = None\n",
    "        self.cash += self.positions[asset_1].close_position(price_asset_1)\n",
    "        self.cash += self.positions[asset_2].close_position(price_asset_2)"
   ]
  },
  {
   "cell_type": "code",
   "execution_count": 28,
   "id": "e21aee98-4f20-47e4-8977-203bfe10a1a7",
   "metadata": {},
   "outputs": [],
   "source": [
    "ETH = Position()\n",
    "BTC = Position()\n",
    "positions = {'ETH': ETH,\n",
    "             'BTC': BTC}\n",
    "account = Account(positions=positions, cash=cash)\n",
    "\n",
    "for i, row in spread_df.iterrows():\n",
    "    spread = row['Adjusted Spread']\n",
    "    k = row['k']\n",
    "    price_asset_1 = data['ETHUSDT'].loc[i, 'Close']\n",
    "    price_asset_2 = data['BTCUSDT'].loc[i, 'Close']\n",
    "\n",
    "    if account.status is None:\n",
    "        if spread < -2:\n",
    "            params = {\n",
    "                'status': 'Short',\n",
    "                'asset_1': 'ETH',\n",
    "                'asset_2': 'BTC',\n",
    "                'price_asset_1': price_asset_1,\n",
    "                'price_asset_2': price_asset_2,\n",
    "                'leverage': leverage,\n",
    "                'k': k\n",
    "            }\n",
    "            account.open_position(**params)\n",
    "        if spread > 2:\n",
    "            params = {\n",
    "                'status': 'Long',\n",
    "                'asset_1': 'ETH',\n",
    "                'asset_2': 'BTC',\n",
    "                'price_asset_1': price_asset_1,\n",
    "                'price_asset_2': price_asset_2,\n",
    "                'leverage': leverage,\n",
    "                'k': k\n",
    "            }\n",
    "            account.open_position(**params)\n",
    "    elif account.status == 'Long':\n",
    "        if spread < 0:\n",
    "            params = {\n",
    "                'asset_1': 'ETH',\n",
    "                'asset_2': 'BTC',\n",
    "                'price_asset_1': price_asset_1,\n",
    "                'price_asset_2': price_asset_2\n",
    "            }\n",
    "            account.close_position(**params)\n",
    "    elif account.status == 'Short':\n",
    "        if spread > 0:\n",
    "            params = {\n",
    "                'asset_1': 'ETH',\n",
    "                'asset_2': 'BTC',\n",
    "                'price_asset_1': price_asset_1,\n",
    "                'price_asset_2': price_asset_2\n",
    "            }\n",
    "            account.close_position(**params)"
   ]
  },
  {
   "cell_type": "code",
   "execution_count": 29,
   "id": "9f0eb031-a2e8-4522-a632-85574fab005a",
   "metadata": {},
   "outputs": [
    {
     "name": "stdout",
     "output_type": "stream",
     "text": [
      "\n",
      "        Cash = 1.672416718466222e+32\n",
      "        Status = None\n",
      "        BTC Quantity = 0\n",
      "        BTC Entry Price = 0\n",
      "        ETH Quantity = 0\n",
      "        ETH Entry Price = 0\n",
      "        \n"
     ]
    }
   ],
   "source": [
    "print(account)"
   ]
  },
  {
   "cell_type": "markdown",
   "id": "55cd29f4-0722-4f78-87c2-feaeecb896aa",
   "metadata": {},
   "source": [
    "## Trading Futures with API"
   ]
  },
  {
   "cell_type": "code",
   "execution_count": 20,
   "id": "ee2cd504-8498-4110-874b-98955750d2af",
   "metadata": {},
   "outputs": [],
   "source": [
    "# symbol = 'ETHUSDT'\n",
    "# leverage = 20"
   ]
  },
  {
   "cell_type": "code",
   "execution_count": 21,
   "id": "f24747d3-ad9e-4f06-b00f-4731cc52162d",
   "metadata": {},
   "outputs": [],
   "source": [
    "# # Change leverage\n",
    "# params = {\n",
    "#     'symbol': symbol,\n",
    "#     'leverage': leverage\n",
    "# }\n",
    "\n",
    "# response = um_futures_client.change_leverage(**params)\n",
    "# print(response)"
   ]
  },
  {
   "cell_type": "code",
   "execution_count": 22,
   "id": "a17d4cc4-0e43-4d72-8db1-a3915504c3c4",
   "metadata": {},
   "outputs": [],
   "source": [
    "# # Post a new order\n",
    "# params = {\n",
    "#     'symbol': symbol,\n",
    "#     'side': 'SELL',\n",
    "#     'type': 'LIMIT',\n",
    "#     'timeInForce': 'GTC',\n",
    "#     'quantity': 25,\n",
    "#     'price': 2540\n",
    "# }\n",
    "\n",
    "# response = um_futures_client.new_order(**params)"
   ]
  },
  {
   "cell_type": "code",
   "execution_count": 23,
   "id": "6518cff3-6b47-4691-b8c0-344ddd6dc0d6",
   "metadata": {},
   "outputs": [],
   "source": [
    "# params = {\n",
    "#     'symbol': symbol,\n",
    "#     'side': 'BUY',\n",
    "#     'type': 'MARKET',\n",
    "#     'quantity': 1\n",
    "# }\n",
    "\n",
    "# response = um_futures_client.new_order(**params)\n",
    "# print(printable_json(response))"
   ]
  },
  {
   "cell_type": "code",
   "execution_count": 24,
   "id": "32144dd0-8aca-4833-b7f2-9cf8964c647b",
   "metadata": {},
   "outputs": [],
   "source": [
    "# params = {\n",
    "#     'symbol': symbol,\n",
    "#     'side': 'SELL',\n",
    "#     'type': 'STOP_MARKET',\n",
    "#     'quantity': 1,\n",
    "#     'stopPrice': 2600\n",
    "# }\n",
    "\n",
    "# response = um_futures_client.new_order(**params)\n",
    "# print(printable_json(response))"
   ]
  },
  {
   "cell_type": "code",
   "execution_count": 25,
   "id": "1c9d0fd5-95bf-4125-b791-4a866fcb2466",
   "metadata": {},
   "outputs": [],
   "source": [
    "# # Post a new order\n",
    "# params = {\n",
    "#     'symbol': symbol\n",
    "# }\n",
    "\n",
    "# response = um_futures_client.get_position_margin_history(**params)\n",
    "# print(printable_json(response))"
   ]
  },
  {
   "cell_type": "code",
   "execution_count": 26,
   "id": "66558d10-ec67-476c-8cfb-9e0c97f3ba66",
   "metadata": {},
   "outputs": [],
   "source": [
    "# response = um_futures_client.get_position_risk(**params)\n",
    "# print(printable_json(response))"
   ]
  },
  {
   "cell_type": "code",
   "execution_count": 27,
   "id": "1f88de0f-f691-432d-97c4-0d852e965e73",
   "metadata": {},
   "outputs": [],
   "source": [
    "# def printable_json(response):\n",
    "#     return json.dumps(response, indent = 4)"
   ]
  },
  {
   "cell_type": "code",
   "execution_count": null,
   "id": "5f48c4d2-9cb4-428f-b031-10fc2bc4c026",
   "metadata": {},
   "outputs": [],
   "source": []
  },
  {
   "cell_type": "code",
   "execution_count": null,
   "id": "08cf1a9b-fe3d-49b7-91ec-06b9951fb730",
   "metadata": {},
   "outputs": [],
   "source": []
  },
  {
   "cell_type": "code",
   "execution_count": null,
   "id": "5db4c987-5ebf-44ac-be77-edd9846b7c99",
   "metadata": {},
   "outputs": [],
   "source": []
  }
 ],
 "metadata": {
  "kernelspec": {
   "display_name": "humpback",
   "language": "python",
   "name": "python3"
  },
  "language_info": {
   "codemirror_mode": {
    "name": "ipython",
    "version": 3
   },
   "file_extension": ".py",
   "mimetype": "text/x-python",
   "name": "python",
   "nbconvert_exporter": "python",
   "pygments_lexer": "ipython3",
   "version": "3.12.7"
  }
 },
 "nbformat": 4,
 "nbformat_minor": 5
}
