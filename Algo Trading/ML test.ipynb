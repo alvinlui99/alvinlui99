{
 "cells": [
  {
   "cell_type": "markdown",
   "metadata": {},
   "source": [
    "### Library"
   ]
  },
  {
   "cell_type": "code",
   "execution_count": 1,
   "metadata": {},
   "outputs": [
    {
     "name": "stderr",
     "output_type": "stream",
     "text": [
      "/Library/Frameworks/Python.framework/Versions/3.12/lib/python3.12/site-packages/backtesting/test/__init__.py:8: FutureWarning: The argument 'infer_datetime_format' is deprecated and will be removed in a future version. A strict version of it is now the default, see https://pandas.pydata.org/pdeps/0004-consistent-to-datetime-parsing.html. You can safely remove this argument.\n",
      "  return pd.read_csv(join(dirname(__file__), filename),\n",
      "/Library/Frameworks/Python.framework/Versions/3.12/lib/python3.12/site-packages/backtesting/test/__init__.py:8: FutureWarning: The argument 'infer_datetime_format' is deprecated and will be removed in a future version. A strict version of it is now the default, see https://pandas.pydata.org/pdeps/0004-consistent-to-datetime-parsing.html. You can safely remove this argument.\n",
      "  return pd.read_csv(join(dirname(__file__), filename),\n"
     ]
    }
   ],
   "source": [
    "import os\n",
    "from dotenv import load_dotenv\n",
    "\n",
    "from binance.client import Client\n",
    "\n",
    "import pandas as pd\n",
    "import numpy as np\n",
    "from datetime import datetime\n",
    "import ta\n",
    "\n",
    "from sklearn.neighbors import KNeighborsClassifier\n",
    "\n",
    "from backtesting import Backtest, Strategy"
   ]
  },
  {
   "cell_type": "markdown",
   "metadata": {},
   "source": [
    "### TA Calculation Functions"
   ]
  },
  {
   "cell_type": "markdown",
   "metadata": {},
   "source": [
    "#### SMA"
   ]
  },
  {
   "cell_type": "code",
   "execution_count": 2,
   "metadata": {},
   "outputs": [],
   "source": [
    "def sma(df, window):\n",
    "    sma = ta.trend.SMAIndicator(pd.Series(df), window=window).sma_indicator()\n",
    "    return sma"
   ]
  },
  {
   "cell_type": "markdown",
   "metadata": {},
   "source": [
    "#### RSI"
   ]
  },
  {
   "cell_type": "code",
   "execution_count": 3,
   "metadata": {},
   "outputs": [],
   "source": [
    "def rsi(df, window=14):\n",
    "    rsi = ta.momentum.RSIIndicator(pd.Series(df), window=window).rsi()\n",
    "    return rsi"
   ]
  },
  {
   "cell_type": "markdown",
   "metadata": {},
   "source": [
    "#### EMA"
   ]
  },
  {
   "cell_type": "code",
   "execution_count": 4,
   "metadata": {},
   "outputs": [],
   "source": [
    "def ema(df, period=200):\n",
    "    ema = ta.trend.EMAIndicator(pd.Series(df), window=window).ema_indicator()\n",
    "    return ema"
   ]
  },
  {
   "cell_type": "markdown",
   "metadata": {},
   "source": [
    "#### MACD"
   ]
  },
  {
   "cell_type": "code",
   "execution_count": 5,
   "metadata": {},
   "outputs": [],
   "source": [
    "def macd(df):\n",
    "    macd = ta.trend.MACD(pd.Series(df)).macd()\n",
    "    return macd"
   ]
  },
  {
   "cell_type": "markdown",
   "metadata": {},
   "source": [
    "#### Bollinger Bands"
   ]
  },
  {
   "cell_type": "code",
   "execution_count": 6,
   "metadata": {},
   "outputs": [],
   "source": [
    "def signal_h(df):\n",
    "    return ta.volatility.BollingerBands(pd.Series(df)).bollinger_hband()\n",
    "def signal_l(df):\n",
    "    return ta.volatility.BollingerBands(pd.Series(df)).bollinger_lband()"
   ]
  },
  {
   "cell_type": "markdown",
   "metadata": {},
   "source": [
    "### Strategy Class"
   ]
  },
  {
   "cell_type": "markdown",
   "metadata": {},
   "source": [
    "#### ML Strategy"
   ]
  },
  {
   "cell_type": "code",
   "execution_count": 7,
   "metadata": {},
   "outputs": [],
   "source": [
    "class MLstr(Strategy):\n",
    "    price_delta = 0.004\n",
    "    N_train = 10000\n",
    "    def init(self):        \n",
    "        # Init our model, a kNN classifier\n",
    "        self.clf = KNeighborsClassifier(7)\n",
    "\n",
    "        # Train the classifier in advance on the first N examples\n",
    "        df = self.data.df.iloc[:self.N_train]\n",
    "        X, y = get_clean_Xy(df)\n",
    "        self.clf.fit(X, y)\n",
    "\n",
    "        # Plot y for inspection\n",
    "        self.I(get_y, self.data.df, name='y_true')\n",
    "\n",
    "        # Prepare empty, all-NaN forecast indicator\n",
    "        self.forecasts = self.I(lambda: np.repeat(np.nan, len(self.data)), name='forecast')\n",
    "\n",
    "    def next(self):\n",
    "        # Skip the training, in-sample data\n",
    "        if len(self.data) < self.N_train:\n",
    "            return\n",
    "\n",
    "        # Proceed only with out-of-sample data. Prepare some variables\n",
    "        high, low, close = self.data.High, self.data.Low, self.data.Close\n",
    "        current_time = self.data.index[-1]\n",
    "\n",
    "        # Forecast the next movement\n",
    "        X = get_X(self.data.df.iloc[-1:])\n",
    "        forecast = self.clf.predict(X)[0]\n",
    "\n",
    "        # Update the plotted \"forecast\" indicator\n",
    "        self.forecasts[-1] = forecast\n",
    "\n",
    "        # If our forecast is upwards and we don't already hold a long position\n",
    "        # place a long order for 20% of available account equity. Vice versa for short.\n",
    "        # Also set target take-profit and stop-loss prices to be one price_delta\n",
    "        # away from the current closing price.\n",
    "        upper, lower = close[-1] * (1 + np.r_[1, -1] * self.price_delta)\n",
    " \n",
    "        if forecast == 1 and not self.position.is_long:\n",
    "            self.buy(size=.2, tp=upper, sl=lower)\n",
    "        elif forecast == -1 and not self.position.is_short:\n",
    "            self.sell(size=.2, tp=lower, sl=upper)\n",
    "\n",
    "        # Additionally, set aggressive stop-loss on trades that have been open \n",
    "        # for more than two days\n",
    "        for trade in self.trades:\n",
    "            if current_time - trade.entry_time > pd.Timedelta('2 days'):\n",
    "                if trade.is_long:\n",
    "                    trade.sl = max(trade.sl, low)\n",
    "                else:\n",
    "                    trade.sl = min(trade.sl, high)\n"
   ]
  },
  {
   "cell_type": "markdown",
   "metadata": {},
   "source": [
    "### ML Model\n"
   ]
  },
  {
   "cell_type": "code",
   "execution_count": 8,
   "metadata": {},
   "outputs": [],
   "source": [
    "def get_X(data):\n",
    "    return data.filter(like='X').values"
   ]
  },
  {
   "cell_type": "code",
   "execution_count": 9,
   "metadata": {},
   "outputs": [],
   "source": [
    "def get_y(data):\n",
    "    y = data['Close'].pct_change(48).shift(-48)\n",
    "    y[y.between(-.004, .004)] = 0             # Devalue returns smaller than 0.4%\n",
    "    y[y > 0] = 1\n",
    "    y[y < 0] = -1\n",
    "    return y"
   ]
  },
  {
   "cell_type": "code",
   "execution_count": 11,
   "metadata": {},
   "outputs": [],
   "source": [
    "def get_clean_Xy(data):\n",
    "    X = get_X(data)\n",
    "    y = get_y(data).value\n",
    "    isnan = np.isnan(y)\n",
    "    X = X[~isnan]\n",
    "    y = y[~isnan]\n",
    "    return X, y"
   ]
  },
  {
   "cell_type": "code",
   "execution_count": null,
   "metadata": {},
   "outputs": [],
   "source": [
    "def featureGeneration(data):\n",
    "    close = data.Close\n",
    "\n",
    "    sma10 = sma(data.Close, 10)\n",
    "    sma20 = sma(data.Close, 20)\n",
    "    sma50 = sma(data.Close, 50)\n",
    "    sma100 = sma(data.Close, 100)\n",
    "    upper = signal_h(data.Close)\n",
    "    lower = signal_l(data.Close)\n",
    "\n",
    "    # Design matrix / independent features:\n",
    "\n",
    "    # Price-derived features\n",
    "    data['X_SMA10'] = (close - sma10) / close\n",
    "    data['X_SMA20'] = (close - sma20) / close\n",
    "    data['X_SMA50'] = (close - sma50) / close\n",
    "    data['X_SMA100'] = (close - sma100) / close\n",
    "\n",
    "    data['X_DELTA_SMA10'] = (sma10 - sma20) / close\n",
    "    data['X_DELTA_SMA20'] = (sma20 - sma50) / close\n",
    "    data['X_DELTA_SMA50'] = (sma50 - sma100) / close\n",
    "\n",
    "    # Indicator features\n",
    "    data['X_MOM'] = data.Close.pct_change(periods=2)\n",
    "    data['X_BB_upper'] = (upper - close) / close\n",
    "    data['X_BB_lower'] = (lower - close) / close\n",
    "    data['X_BB_width'] = (upper - lower) / close\n",
    "\n",
    "    # Some datetime features for good measure\n",
    "    data['X_day'] = data.index.dayofweek\n",
    "    data['X_hour'] = data.index.hour\n",
    "\n",
    "    data = data.dropna().astype(float)\n",
    "    return data"
   ]
  },
  {
   "cell_type": "markdown",
   "metadata": {},
   "source": [
    "## Main"
   ]
  },
  {
   "cell_type": "markdown",
   "metadata": {},
   "source": [
    "### Binance API"
   ]
  },
  {
   "cell_type": "code",
   "execution_count": 12,
   "metadata": {},
   "outputs": [],
   "source": [
    "load_dotenv()\n",
    "API_KEY    = os.getenv('API_KEY')\n",
    "API_SECRET = os.getenv('API_SECRET')\n",
    "\n",
    "client = Client(API_KEY, API_SECRET)"
   ]
  },
  {
   "cell_type": "markdown",
   "metadata": {},
   "source": [
    "### Parameters"
   ]
  },
  {
   "cell_type": "markdown",
   "metadata": {},
   "source": [
    "### Fetch Historical Data"
   ]
  },
  {
   "cell_type": "code",
   "execution_count": 13,
   "metadata": {},
   "outputs": [],
   "source": [
    "symbol = 'BTCUSDT'\n",
    "interval = '1h'\n",
    "\n",
    "start_time = int(datetime(2020,1,1,0,0).timestamp() * 1000)\n",
    "end_time    = int(datetime(2023,12,31,0,0).timestamp() * 1000)\n",
    "\n",
    "kline = client.get_historical_klines(symbol=symbol, interval=interval, start_str=start_time, end_str=end_time)\n",
    "\n",
    "columns = ['index','Open', 'High', 'Low', 'Close', 'Volume']\n",
    "\n",
    "data = pd.DataFrame(kline)\n",
    "data = data.iloc[:, :6]\n",
    "data.columns  = columns\n",
    "data['index'] = pd.to_datetime(data['index'], unit='ms')\n",
    "data.set_index('index', inplace=True)\n",
    "data = data.astype(float)"
   ]
  },
  {
   "cell_type": "code",
   "execution_count": null,
   "metadata": {},
   "outputs": [],
   "source": [
    "def fetchData(symbol='BTCUSDT', interval='1h', start_time, end_time):\n",
    "    # start_time = int(datetime(2020,1,1,0,0).timestamp() * 1000)\n",
    "    # end_time    = int(datetime(2023,12,31,0,0).timestamp() * 1000)\n",
    "\n",
    "    kline = client.get_historical_klines(symbol=symbol, interval=interval, start_str=start_time, end_str=end_time)\n",
    "\n",
    "    columns = ['index','Open', 'High', 'Low', 'Close', 'Volume']\n",
    "\n",
    "    data = pd.DataFrame(kline)\n",
    "    data = data.iloc[:, :6]\n",
    "    data.columns  = columns\n",
    "    data['index'] = pd.to_datetime(data['index'], unit='ms')\n",
    "    data.set_index('index', inplace=True)\n",
    "    data = data.astype(float)\n",
    "\n",
    "    return data"
   ]
  },
  {
   "cell_type": "markdown",
   "metadata": {},
   "source": [
    "### Backtesting"
   ]
  },
  {
   "cell_type": "markdown",
   "metadata": {},
   "source": [
    "#### Backtesting"
   ]
  },
  {
   "cell_type": "markdown",
   "metadata": {},
   "source": [
    "#### Graph"
   ]
  },
  {
   "cell_type": "markdown",
   "metadata": {},
   "source": [
    "## For Temp Ad Hoc Testing"
   ]
  },
  {
   "cell_type": "code",
   "execution_count": 15,
   "metadata": {},
   "outputs": [
    {
     "data": {
      "text/html": [
       "<div>\n",
       "<style scoped>\n",
       "    .dataframe tbody tr th:only-of-type {\n",
       "        vertical-align: middle;\n",
       "    }\n",
       "\n",
       "    .dataframe tbody tr th {\n",
       "        vertical-align: top;\n",
       "    }\n",
       "\n",
       "    .dataframe thead th {\n",
       "        text-align: right;\n",
       "    }\n",
       "</style>\n",
       "<table border=\"1\" class=\"dataframe\">\n",
       "  <thead>\n",
       "    <tr style=\"text-align: right;\">\n",
       "      <th></th>\n",
       "      <th>Open</th>\n",
       "      <th>High</th>\n",
       "      <th>Low</th>\n",
       "      <th>Close</th>\n",
       "      <th>Volume</th>\n",
       "      <th>X_SMA10</th>\n",
       "      <th>X_SMA20</th>\n",
       "      <th>X_SMA50</th>\n",
       "      <th>X_SMA100</th>\n",
       "      <th>X_DELTA_SMA10</th>\n",
       "      <th>X_DELTA_SMA20</th>\n",
       "      <th>X_DELTA_SMA50</th>\n",
       "      <th>X_MOM</th>\n",
       "      <th>X_BB_upper</th>\n",
       "      <th>X_BB_lower</th>\n",
       "      <th>X_BB_width</th>\n",
       "      <th>X_day</th>\n",
       "      <th>X_hour</th>\n",
       "    </tr>\n",
       "    <tr>\n",
       "      <th>index</th>\n",
       "      <th></th>\n",
       "      <th></th>\n",
       "      <th></th>\n",
       "      <th></th>\n",
       "      <th></th>\n",
       "      <th></th>\n",
       "      <th></th>\n",
       "      <th></th>\n",
       "      <th></th>\n",
       "      <th></th>\n",
       "      <th></th>\n",
       "      <th></th>\n",
       "      <th></th>\n",
       "      <th></th>\n",
       "      <th></th>\n",
       "      <th></th>\n",
       "      <th></th>\n",
       "      <th></th>\n",
       "    </tr>\n",
       "  </thead>\n",
       "  <tbody>\n",
       "    <tr>\n",
       "      <th>2020-01-04 19:00:00</th>\n",
       "      <td>7306.60</td>\n",
       "      <td>7353.84</td>\n",
       "      <td>7283.01</td>\n",
       "      <td>7334.83</td>\n",
       "      <td>1966.929401</td>\n",
       "      <td>0.001912</td>\n",
       "      <td>0.000839</td>\n",
       "      <td>0.012521</td>\n",
       "      <td>0.016604</td>\n",
       "      <td>-0.001073</td>\n",
       "      <td>0.011682</td>\n",
       "      <td>0.004083</td>\n",
       "      <td>-0.002334</td>\n",
       "      <td>0.004193</td>\n",
       "      <td>-0.005871</td>\n",
       "      <td>0.010065</td>\n",
       "      <td>5.0</td>\n",
       "      <td>19.0</td>\n",
       "    </tr>\n",
       "    <tr>\n",
       "      <th>2020-01-04 20:00:00</th>\n",
       "      <td>7334.89</td>\n",
       "      <td>7352.64</td>\n",
       "      <td>7310.67</td>\n",
       "      <td>7341.06</td>\n",
       "      <td>1433.864061</td>\n",
       "      <td>0.002449</td>\n",
       "      <td>0.001423</td>\n",
       "      <td>0.012359</td>\n",
       "      <td>0.017262</td>\n",
       "      <td>-0.001026</td>\n",
       "      <td>0.010936</td>\n",
       "      <td>0.004903</td>\n",
       "      <td>0.004672</td>\n",
       "      <td>0.003371</td>\n",
       "      <td>-0.006216</td>\n",
       "      <td>0.009587</td>\n",
       "      <td>5.0</td>\n",
       "      <td>20.0</td>\n",
       "    </tr>\n",
       "    <tr>\n",
       "      <th>2020-01-04 21:00:00</th>\n",
       "      <td>7340.90</td>\n",
       "      <td>7367.31</td>\n",
       "      <td>7330.72</td>\n",
       "      <td>7350.68</td>\n",
       "      <td>869.007514</td>\n",
       "      <td>0.003561</td>\n",
       "      <td>0.002447</td>\n",
       "      <td>0.012652</td>\n",
       "      <td>0.018300</td>\n",
       "      <td>-0.001114</td>\n",
       "      <td>0.010205</td>\n",
       "      <td>0.005648</td>\n",
       "      <td>0.002161</td>\n",
       "      <td>0.002284</td>\n",
       "      <td>-0.007178</td>\n",
       "      <td>0.009462</td>\n",
       "      <td>5.0</td>\n",
       "      <td>21.0</td>\n",
       "    </tr>\n",
       "    <tr>\n",
       "      <th>2020-01-04 22:00:00</th>\n",
       "      <td>7350.72</td>\n",
       "      <td>7359.70</td>\n",
       "      <td>7342.67</td>\n",
       "      <td>7350.24</td>\n",
       "      <td>474.926109</td>\n",
       "      <td>0.002993</td>\n",
       "      <td>0.002235</td>\n",
       "      <td>0.011500</td>\n",
       "      <td>0.017994</td>\n",
       "      <td>-0.000758</td>\n",
       "      <td>0.009265</td>\n",
       "      <td>0.006494</td>\n",
       "      <td>0.001251</td>\n",
       "      <td>0.002597</td>\n",
       "      <td>-0.007067</td>\n",
       "      <td>0.009664</td>\n",
       "      <td>5.0</td>\n",
       "      <td>22.0</td>\n",
       "    </tr>\n",
       "    <tr>\n",
       "      <th>2020-01-04 23:00:00</th>\n",
       "      <td>7350.05</td>\n",
       "      <td>7363.00</td>\n",
       "      <td>7328.90</td>\n",
       "      <td>7354.11</td>\n",
       "      <td>528.793108</td>\n",
       "      <td>0.002834</td>\n",
       "      <td>0.002617</td>\n",
       "      <td>0.010996</td>\n",
       "      <td>0.018265</td>\n",
       "      <td>-0.000217</td>\n",
       "      <td>0.008379</td>\n",
       "      <td>0.007269</td>\n",
       "      <td>0.000467</td>\n",
       "      <td>0.002359</td>\n",
       "      <td>-0.007593</td>\n",
       "      <td>0.009952</td>\n",
       "      <td>5.0</td>\n",
       "      <td>23.0</td>\n",
       "    </tr>\n",
       "    <tr>\n",
       "      <th>...</th>\n",
       "      <td>...</td>\n",
       "      <td>...</td>\n",
       "      <td>...</td>\n",
       "      <td>...</td>\n",
       "      <td>...</td>\n",
       "      <td>...</td>\n",
       "      <td>...</td>\n",
       "      <td>...</td>\n",
       "      <td>...</td>\n",
       "      <td>...</td>\n",
       "      <td>...</td>\n",
       "      <td>...</td>\n",
       "      <td>...</td>\n",
       "      <td>...</td>\n",
       "      <td>...</td>\n",
       "      <td>...</td>\n",
       "      <td>...</td>\n",
       "      <td>...</td>\n",
       "    </tr>\n",
       "    <tr>\n",
       "      <th>2023-12-30 12:00:00</th>\n",
       "      <td>41893.96</td>\n",
       "      <td>42104.70</td>\n",
       "      <td>41882.71</td>\n",
       "      <td>41990.30</td>\n",
       "      <td>1042.660920</td>\n",
       "      <td>0.002097</td>\n",
       "      <td>0.001010</td>\n",
       "      <td>-0.008181</td>\n",
       "      <td>-0.013734</td>\n",
       "      <td>-0.001086</td>\n",
       "      <td>-0.009191</td>\n",
       "      <td>-0.005553</td>\n",
       "      <td>0.004383</td>\n",
       "      <td>0.006152</td>\n",
       "      <td>-0.008173</td>\n",
       "      <td>0.014325</td>\n",
       "      <td>5.0</td>\n",
       "      <td>12.0</td>\n",
       "    </tr>\n",
       "    <tr>\n",
       "      <th>2023-12-30 13:00:00</th>\n",
       "      <td>41990.31</td>\n",
       "      <td>42050.00</td>\n",
       "      <td>41886.43</td>\n",
       "      <td>42029.35</td>\n",
       "      <td>865.659130</td>\n",
       "      <td>0.002889</td>\n",
       "      <td>0.001673</td>\n",
       "      <td>-0.006753</td>\n",
       "      <td>-0.012701</td>\n",
       "      <td>-0.001216</td>\n",
       "      <td>-0.008427</td>\n",
       "      <td>-0.005948</td>\n",
       "      <td>0.003232</td>\n",
       "      <td>0.005356</td>\n",
       "      <td>-0.008702</td>\n",
       "      <td>0.014058</td>\n",
       "      <td>5.0</td>\n",
       "      <td>13.0</td>\n",
       "    </tr>\n",
       "    <tr>\n",
       "      <th>2023-12-30 14:00:00</th>\n",
       "      <td>42029.35</td>\n",
       "      <td>42300.00</td>\n",
       "      <td>42029.35</td>\n",
       "      <td>42244.12</td>\n",
       "      <td>1348.107560</td>\n",
       "      <td>0.007357</td>\n",
       "      <td>0.006524</td>\n",
       "      <td>-0.001378</td>\n",
       "      <td>-0.007458</td>\n",
       "      <td>-0.000833</td>\n",
       "      <td>-0.007903</td>\n",
       "      <td>-0.006080</td>\n",
       "      <td>0.006045</td>\n",
       "      <td>0.001012</td>\n",
       "      <td>-0.014061</td>\n",
       "      <td>0.015072</td>\n",
       "      <td>5.0</td>\n",
       "      <td>14.0</td>\n",
       "    </tr>\n",
       "    <tr>\n",
       "      <th>2023-12-30 15:00:00</th>\n",
       "      <td>42244.11</td>\n",
       "      <td>42430.00</td>\n",
       "      <td>42183.09</td>\n",
       "      <td>42374.96</td>\n",
       "      <td>1295.173300</td>\n",
       "      <td>0.009783</td>\n",
       "      <td>0.009287</td>\n",
       "      <td>0.001911</td>\n",
       "      <td>-0.004274</td>\n",
       "      <td>-0.000496</td>\n",
       "      <td>-0.007376</td>\n",
       "      <td>-0.006185</td>\n",
       "      <td>0.008223</td>\n",
       "      <td>-0.000800</td>\n",
       "      <td>-0.017774</td>\n",
       "      <td>0.016974</td>\n",
       "      <td>5.0</td>\n",
       "      <td>15.0</td>\n",
       "    </tr>\n",
       "    <tr>\n",
       "      <th>2023-12-30 16:00:00</th>\n",
       "      <td>42374.97</td>\n",
       "      <td>42606.00</td>\n",
       "      <td>42371.11</td>\n",
       "      <td>42406.97</td>\n",
       "      <td>1912.931610</td>\n",
       "      <td>0.009689</td>\n",
       "      <td>0.009587</td>\n",
       "      <td>0.002785</td>\n",
       "      <td>-0.003431</td>\n",
       "      <td>-0.000102</td>\n",
       "      <td>-0.006801</td>\n",
       "      <td>-0.006216</td>\n",
       "      <td>0.003855</td>\n",
       "      <td>-0.000046</td>\n",
       "      <td>-0.019128</td>\n",
       "      <td>0.019082</td>\n",
       "      <td>5.0</td>\n",
       "      <td>16.0</td>\n",
       "    </tr>\n",
       "  </tbody>\n",
       "</table>\n",
       "<p>34910 rows × 18 columns</p>\n",
       "</div>"
      ],
      "text/plain": [
       "                         Open      High       Low     Close       Volume  \\\n",
       "index                                                                      \n",
       "2020-01-04 19:00:00   7306.60   7353.84   7283.01   7334.83  1966.929401   \n",
       "2020-01-04 20:00:00   7334.89   7352.64   7310.67   7341.06  1433.864061   \n",
       "2020-01-04 21:00:00   7340.90   7367.31   7330.72   7350.68   869.007514   \n",
       "2020-01-04 22:00:00   7350.72   7359.70   7342.67   7350.24   474.926109   \n",
       "2020-01-04 23:00:00   7350.05   7363.00   7328.90   7354.11   528.793108   \n",
       "...                       ...       ...       ...       ...          ...   \n",
       "2023-12-30 12:00:00  41893.96  42104.70  41882.71  41990.30  1042.660920   \n",
       "2023-12-30 13:00:00  41990.31  42050.00  41886.43  42029.35   865.659130   \n",
       "2023-12-30 14:00:00  42029.35  42300.00  42029.35  42244.12  1348.107560   \n",
       "2023-12-30 15:00:00  42244.11  42430.00  42183.09  42374.96  1295.173300   \n",
       "2023-12-30 16:00:00  42374.97  42606.00  42371.11  42406.97  1912.931610   \n",
       "\n",
       "                      X_SMA10   X_SMA20   X_SMA50  X_SMA100  X_DELTA_SMA10  \\\n",
       "index                                                                        \n",
       "2020-01-04 19:00:00  0.001912  0.000839  0.012521  0.016604      -0.001073   \n",
       "2020-01-04 20:00:00  0.002449  0.001423  0.012359  0.017262      -0.001026   \n",
       "2020-01-04 21:00:00  0.003561  0.002447  0.012652  0.018300      -0.001114   \n",
       "2020-01-04 22:00:00  0.002993  0.002235  0.011500  0.017994      -0.000758   \n",
       "2020-01-04 23:00:00  0.002834  0.002617  0.010996  0.018265      -0.000217   \n",
       "...                       ...       ...       ...       ...            ...   \n",
       "2023-12-30 12:00:00  0.002097  0.001010 -0.008181 -0.013734      -0.001086   \n",
       "2023-12-30 13:00:00  0.002889  0.001673 -0.006753 -0.012701      -0.001216   \n",
       "2023-12-30 14:00:00  0.007357  0.006524 -0.001378 -0.007458      -0.000833   \n",
       "2023-12-30 15:00:00  0.009783  0.009287  0.001911 -0.004274      -0.000496   \n",
       "2023-12-30 16:00:00  0.009689  0.009587  0.002785 -0.003431      -0.000102   \n",
       "\n",
       "                     X_DELTA_SMA20  X_DELTA_SMA50     X_MOM  X_BB_upper  \\\n",
       "index                                                                     \n",
       "2020-01-04 19:00:00       0.011682       0.004083 -0.002334    0.004193   \n",
       "2020-01-04 20:00:00       0.010936       0.004903  0.004672    0.003371   \n",
       "2020-01-04 21:00:00       0.010205       0.005648  0.002161    0.002284   \n",
       "2020-01-04 22:00:00       0.009265       0.006494  0.001251    0.002597   \n",
       "2020-01-04 23:00:00       0.008379       0.007269  0.000467    0.002359   \n",
       "...                            ...            ...       ...         ...   \n",
       "2023-12-30 12:00:00      -0.009191      -0.005553  0.004383    0.006152   \n",
       "2023-12-30 13:00:00      -0.008427      -0.005948  0.003232    0.005356   \n",
       "2023-12-30 14:00:00      -0.007903      -0.006080  0.006045    0.001012   \n",
       "2023-12-30 15:00:00      -0.007376      -0.006185  0.008223   -0.000800   \n",
       "2023-12-30 16:00:00      -0.006801      -0.006216  0.003855   -0.000046   \n",
       "\n",
       "                     X_BB_lower  X_BB_width  X_day  X_hour  \n",
       "index                                                       \n",
       "2020-01-04 19:00:00   -0.005871    0.010065    5.0    19.0  \n",
       "2020-01-04 20:00:00   -0.006216    0.009587    5.0    20.0  \n",
       "2020-01-04 21:00:00   -0.007178    0.009462    5.0    21.0  \n",
       "2020-01-04 22:00:00   -0.007067    0.009664    5.0    22.0  \n",
       "2020-01-04 23:00:00   -0.007593    0.009952    5.0    23.0  \n",
       "...                         ...         ...    ...     ...  \n",
       "2023-12-30 12:00:00   -0.008173    0.014325    5.0    12.0  \n",
       "2023-12-30 13:00:00   -0.008702    0.014058    5.0    13.0  \n",
       "2023-12-30 14:00:00   -0.014061    0.015072    5.0    14.0  \n",
       "2023-12-30 15:00:00   -0.017774    0.016974    5.0    15.0  \n",
       "2023-12-30 16:00:00   -0.019128    0.019082    5.0    16.0  \n",
       "\n",
       "[34910 rows x 18 columns]"
      ]
     },
     "execution_count": 15,
     "metadata": {},
     "output_type": "execute_result"
    }
   ],
   "source": [
    "data"
   ]
  },
  {
   "cell_type": "code",
   "execution_count": null,
   "metadata": {},
   "outputs": [],
   "source": [
    "bt = Backtest(data, MLstr, cash = 1000000, commission = .0007, margin = .05)\n",
    "bt.run()\n",
    "bt.plot()"
   ]
  },
  {
   "cell_type": "code",
   "execution_count": 36,
   "metadata": {},
   "outputs": [
    {
     "data": {
      "text/plain": [
       "array([ 1, -1])"
      ]
     },
     "execution_count": 36,
     "metadata": {},
     "output_type": "execute_result"
    }
   ],
   "source": [
    "np.r_[1, -1]"
   ]
  },
  {
   "cell_type": "markdown",
   "metadata": {},
   "source": [
    "## Reference"
   ]
  },
  {
   "cell_type": "markdown",
   "metadata": {},
   "source": [
    "Backtesting User Manual\n",
    "\n",
    "https://kernc.github.io/backtesting.py/doc/examples/Quick%20Start%20User%20Guide.html"
   ]
  },
  {
   "cell_type": "markdown",
   "metadata": {},
   "source": []
  }
 ],
 "metadata": {
  "kernelspec": {
   "display_name": "Python 3",
   "language": "python",
   "name": "python3"
  },
  "language_info": {
   "codemirror_mode": {
    "name": "ipython",
    "version": 3
   },
   "file_extension": ".py",
   "mimetype": "text/x-python",
   "name": "python",
   "nbconvert_exporter": "python",
   "pygments_lexer": "ipython3",
   "version": "3.12.4"
  }
 },
 "nbformat": 4,
 "nbformat_minor": 2
}
