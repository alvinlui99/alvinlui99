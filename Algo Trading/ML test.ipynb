{
 "cells": [
  {
   "cell_type": "markdown",
   "metadata": {},
   "source": [
    "### Library"
   ]
  },
  {
   "cell_type": "code",
   "execution_count": 21,
   "metadata": {},
   "outputs": [],
   "source": [
    "import os\n",
    "from dotenv import load_dotenv\n",
    "\n",
    "from binance.client import Client\n",
    "\n",
    "import pandas as pd\n",
    "import numpy as np\n",
    "from datetime import datetime\n",
    "import ta\n",
    "\n",
    "from sklearn.neighbors import KNeighborsClassifier\n",
    "from sklearn.model_selection import train_test_split\n",
    "\n",
    "from backtesting import Backtest, Strategy\n",
    "from backtesting.test import SMA"
   ]
  },
  {
   "cell_type": "markdown",
   "metadata": {},
   "source": [
    "### TA Calculation Functions"
   ]
  },
  {
   "cell_type": "markdown",
   "metadata": {},
   "source": [
    "#### SMA"
   ]
  },
  {
   "cell_type": "code",
   "execution_count": 22,
   "metadata": {},
   "outputs": [],
   "source": [
    "def sma(df, window):\n",
    "    sma = ta.trend.SMAIndicator(pd.Series(df), window=window).sma_indicator()\n",
    "    return sma"
   ]
  },
  {
   "cell_type": "markdown",
   "metadata": {},
   "source": [
    "#### RSI"
   ]
  },
  {
   "cell_type": "code",
   "execution_count": 23,
   "metadata": {},
   "outputs": [],
   "source": [
    "def rsi(df, window=14):\n",
    "    rsi = ta.momentum.RSIIndicator(pd.Series(df), window=window).rsi()\n",
    "    return rsi"
   ]
  },
  {
   "cell_type": "markdown",
   "metadata": {},
   "source": [
    "#### EMA"
   ]
  },
  {
   "cell_type": "code",
   "execution_count": 24,
   "metadata": {},
   "outputs": [],
   "source": [
    "def ema(df, period=200):\n",
    "    ema = ta.trend.EMAIndicator(pd.Series(df), window=window).ema_indicator()\n",
    "    return ema"
   ]
  },
  {
   "cell_type": "markdown",
   "metadata": {},
   "source": [
    "#### MACD"
   ]
  },
  {
   "cell_type": "code",
   "execution_count": 25,
   "metadata": {},
   "outputs": [],
   "source": [
    "def macd(df):\n",
    "    macd = ta.trend.MACD(pd.Series(df)).macd()\n",
    "    return macd"
   ]
  },
  {
   "cell_type": "markdown",
   "metadata": {},
   "source": [
    "#### Bollinger Bands"
   ]
  },
  {
   "cell_type": "code",
   "execution_count": 26,
   "metadata": {},
   "outputs": [],
   "source": [
    "def signal_h(df):\n",
    "    return ta.volatility.BollingerBands(pd.Series(df)).bollinger_hband()\n",
    "def signal_l(df):\n",
    "    return ta.volatility.BollingerBands(pd.Series(df)).bollinger_lband()"
   ]
  },
  {
   "cell_type": "markdown",
   "metadata": {},
   "source": [
    "### Strategy Class"
   ]
  },
  {
   "cell_type": "markdown",
   "metadata": {},
   "source": [
    "#### ML Strategy"
   ]
  },
  {
   "cell_type": "code",
   "execution_count": 27,
   "metadata": {},
   "outputs": [],
   "source": [
    "class MLstr(Strategy):\n",
    "    price_delta = 0.004\n",
    "    N_train = 10000\n",
    "    def init(self):        \n",
    "        # Init our model, a kNN classifier\n",
    "        self.clf = KNeighborsClassifier(7)\n",
    "\n",
    "        # Train the classifier in advance on the first N examples\n",
    "        df = self.data.df.iloc[:self.N_train]\n",
    "        X, y = get_clean_Xy(df)\n",
    "        self.clf.fit(X, y)\n",
    "\n",
    "        # Plot y for inspection\n",
    "        self.I(get_y, self.data.df, name='y_true')\n",
    "\n",
    "        # Prepare empty, all-NaN forecast indicator\n",
    "        self.forecasts = self.I(lambda: np.repeat(np.nan, len(self.data)), name='forecast')\n",
    "\n",
    "    def next(self):\n",
    "        # Skip the training, in-sample data\n",
    "        if len(self.data) < self.N_train:\n",
    "            return\n",
    "\n",
    "        # Proceed only with out-of-sample data. Prepare some variables\n",
    "        high, low, close = self.data.High, self.data.Low, self.data.Close\n",
    "        current_time = self.data.index[-1]\n",
    "\n",
    "        # Forecast the next movement\n",
    "        X = get_X(self.data.df.iloc[-1:])\n",
    "        forecast = self.clf.predict(X)[0]\n",
    "\n",
    "        # Update the plotted \"forecast\" indicator\n",
    "        self.forecasts[-1] = forecast\n",
    "\n",
    "        # If our forecast is upwards and we don't already hold a long position\n",
    "        # place a long order for 20% of available account equity. Vice versa for short.\n",
    "        # Also set target take-profit and stop-loss prices to be one price_delta\n",
    "        # away from the current closing price.\n",
    "        upper, lower = close[-1] * (1 + np.r_[1, -1] * self.price_delta)\n",
    " \n",
    "        if forecast == 1 and not self.position.is_long:\n",
    "            self.buy(size=.2, tp=upper, sl=lower)\n",
    "        elif forecast == -1 and not self.position.is_short:\n",
    "            self.sell(size=.2, tp=lower, sl=upper)\n",
    "\n",
    "        # Additionally, set aggressive stop-loss on trades that have been open \n",
    "        # for more than two days\n",
    "        for trade in self.trades:\n",
    "            if current_time - trade.entry_time > pd.Timedelta('2 days'):\n",
    "                if trade.is_long:\n",
    "                    trade.sl = max(trade.sl, low)\n",
    "                else:\n",
    "                    trade.sl = min(trade.sl, high)\n"
   ]
  },
  {
   "cell_type": "markdown",
   "metadata": {},
   "source": [
    "### ML Model\n"
   ]
  },
  {
   "cell_type": "code",
   "execution_count": null,
   "metadata": {},
   "outputs": [],
   "source": []
  },
  {
   "cell_type": "code",
   "execution_count": null,
   "metadata": {},
   "outputs": [],
   "source": []
  },
  {
   "cell_type": "code",
   "execution_count": null,
   "metadata": {},
   "outputs": [],
   "source": []
  },
  {
   "cell_type": "markdown",
   "metadata": {},
   "source": [
    "## Main"
   ]
  },
  {
   "cell_type": "markdown",
   "metadata": {},
   "source": [
    "### Binance API"
   ]
  },
  {
   "cell_type": "code",
   "execution_count": 28,
   "metadata": {},
   "outputs": [],
   "source": [
    "load_dotenv()\n",
    "API_KEY    = os.getenv('API_KEY')\n",
    "API_SECRET = os.getenv('API_SECRET')\n",
    "\n",
    "client = Client(API_KEY, API_SECRET)"
   ]
  },
  {
   "cell_type": "markdown",
   "metadata": {},
   "source": [
    "### Parameters"
   ]
  },
  {
   "cell_type": "markdown",
   "metadata": {},
   "source": [
    "### Fetch Historical Data"
   ]
  },
  {
   "cell_type": "code",
   "execution_count": 29,
   "metadata": {},
   "outputs": [],
   "source": [
    "symbol = 'BTCUSDT'\n",
    "interval = '1h'\n",
    "\n",
    "start_time = int(datetime(2020,1,1,0,0).timestamp() * 1000)\n",
    "end_time    = int(datetime(2023,12,31,0,0).timestamp() * 1000)\n",
    "\n",
    "kline = client.get_historical_klines(symbol=symbol, interval=interval, start_str=start_time, end_str=end_time)\n",
    "\n",
    "columns = ['index','Open', 'High', 'Low', 'Close', 'Volume']\n",
    "\n",
    "data = pd.DataFrame(kline)\n",
    "data = data.iloc[:, :6]\n",
    "data.columns  = columns\n",
    "data['index'] = pd.to_datetime(data['index'], unit='ms')\n",
    "data.set_index('index', inplace=True)\n",
    "data = data.astype(float)"
   ]
  },
  {
   "cell_type": "markdown",
   "metadata": {},
   "source": [
    "### Backtesting"
   ]
  },
  {
   "cell_type": "markdown",
   "metadata": {},
   "source": [
    "#### Backtesting"
   ]
  },
  {
   "cell_type": "markdown",
   "metadata": {},
   "source": [
    "#### Graph"
   ]
  },
  {
   "cell_type": "markdown",
   "metadata": {},
   "source": [
    "## For Temp Ad Hoc Testing"
   ]
  },
  {
   "cell_type": "code",
   "execution_count": 30,
   "metadata": {},
   "outputs": [],
   "source": [
    "def get_X(data):\n",
    "    return data.filter(like='X').values"
   ]
  },
  {
   "cell_type": "code",
   "execution_count": 31,
   "metadata": {},
   "outputs": [],
   "source": [
    "def get_y(data):\n",
    "    y = data['Close'].pct_change(48).shift(-48)\n",
    "    y[y.between(-.004, .004)] = 0             # Devalue returns smaller than 0.4%\n",
    "    y[y > 0] = 1\n",
    "    y[y < 0] = -1\n",
    "    return y"
   ]
  },
  {
   "cell_type": "code",
   "execution_count": 32,
   "metadata": {},
   "outputs": [],
   "source": [
    "def get_clean_Xy(data):\n",
    "    X = get_X(data)\n",
    "    y = get_y(data)s\n",
    "    isnan = np.isnan(y)\n",
    "    X = X[~isnan]\n",
    "    y = y[~isnan]\n",
    "    return X, y"
   ]
  },
  {
   "cell_type": "code",
   "execution_count": 47,
   "metadata": {},
   "outputs": [],
   "source": [
    "# def featureGeneration(data):\n",
    "close = data.Close.values\n",
    "\n",
    "sma10 = sma(data.Close, 10).values\n",
    "sma20 = sma(data.Close, 20).values\n",
    "sma50 = sma(data.Close, 50).values\n",
    "sma100 = sma(data.Close, 100).values\n",
    "upper = signal_h(data.Close).values\n",
    "lower = signal_l(data.Close).values\n",
    "\n",
    "# Design matrix / independent features:\n",
    "\n",
    "# Price-derived features\n",
    "data['X_SMA10'] = (close - sma10) / close\n",
    "data['X_SMA20'] = (close - sma20) / close\n",
    "data['X_SMA50'] = (close - sma50) / close\n",
    "data['X_SMA100'] = (close - sma100) / close\n",
    "\n",
    "data['X_DELTA_SMA10'] = (sma10 - sma20) / close\n",
    "data['X_DELTA_SMA20'] = (sma20 - sma50) / close\n",
    "data['X_DELTA_SMA50'] = (sma50 - sma100) / close\n",
    "\n",
    "# Indicator features\n",
    "data['X_MOM'] = data.Close.pct_change(periods=2)\n",
    "data['X_BB_upper'] = (upper - close) / close\n",
    "data['X_BB_lower'] = (lower - close) / close\n",
    "data['X_BB_width'] = (upper - lower) / close\n",
    "\n",
    "# Some datetime features for good measure\n",
    "data['X_day'] = data.index.dayofweek\n",
    "data['X_hour'] = data.index.hour\n",
    "\n",
    "data = data.dropna().astype(float)"
   ]
  },
  {
   "cell_type": "code",
   "execution_count": 45,
   "metadata": {},
   "outputs": [],
   "source": [
    "# def featureGeneration(data):\n",
    "close = data.Close\n",
    "\n",
    "sma10 = sma(data.Close, 10)\n",
    "sma20 = sma(data.Close, 20)\n",
    "sma50 = sma(data.Close, 50)\n",
    "sma100 = sma(data.Close, 100)\n",
    "upper = signal_h(data.Close)\n",
    "lower = signal_l(data.Close)\n",
    "\n",
    "# Design matrix / independent features:\n",
    "\n",
    "# Price-derived features\n",
    "data['X_SMA10'] = (close - sma10) / close\n",
    "data['X_SMA20'] = (close - sma20) / close\n",
    "data['X_SMA50'] = (close - sma50) / close\n",
    "data['X_SMA100'] = (close - sma100) / close\n",
    "\n",
    "data['X_DELTA_SMA10'] = (sma10 - sma20) / close\n",
    "data['X_DELTA_SMA20'] = (sma20 - sma50) / close\n",
    "data['X_DELTA_SMA50'] = (sma50 - sma100) / close\n",
    "\n",
    "# Indicator features\n",
    "data['X_MOM'] = data.Close.pct_change(periods=2)\n",
    "data['X_BB_upper'] = (upper - close) / close\n",
    "data['X_BB_lower'] = (lower - close) / close\n",
    "data['X_BB_width'] = (upper - lower) / close\n",
    "\n",
    "# Some datetime features for good measure\n",
    "data['X_day'] = data.index.dayofweek\n",
    "data['X_hour'] = data.index.hour\n",
    "\n",
    "data = data.dropna().astype(float)"
   ]
  },
  {
   "cell_type": "code",
   "execution_count": 48,
   "metadata": {},
   "outputs": [
    {
     "data": {
      "text/html": [
       "<div>\n",
       "<style scoped>\n",
       "    .dataframe tbody tr th:only-of-type {\n",
       "        vertical-align: middle;\n",
       "    }\n",
       "\n",
       "    .dataframe tbody tr th {\n",
       "        vertical-align: top;\n",
       "    }\n",
       "\n",
       "    .dataframe thead th {\n",
       "        text-align: right;\n",
       "    }\n",
       "</style>\n",
       "<table border=\"1\" class=\"dataframe\">\n",
       "  <thead>\n",
       "    <tr style=\"text-align: right;\">\n",
       "      <th></th>\n",
       "      <th>Open</th>\n",
       "      <th>High</th>\n",
       "      <th>Low</th>\n",
       "      <th>Close</th>\n",
       "      <th>Volume</th>\n",
       "      <th>X_SMA10</th>\n",
       "      <th>X_SMA20</th>\n",
       "      <th>X_SMA50</th>\n",
       "      <th>X_SMA100</th>\n",
       "      <th>X_DELTA_SMA10</th>\n",
       "      <th>X_DELTA_SMA20</th>\n",
       "      <th>X_DELTA_SMA50</th>\n",
       "      <th>X_MOM</th>\n",
       "      <th>X_BB_upper</th>\n",
       "      <th>X_BB_lower</th>\n",
       "      <th>X_BB_width</th>\n",
       "      <th>X_day</th>\n",
       "      <th>X_hour</th>\n",
       "    </tr>\n",
       "    <tr>\n",
       "      <th>index</th>\n",
       "      <th></th>\n",
       "      <th></th>\n",
       "      <th></th>\n",
       "      <th></th>\n",
       "      <th></th>\n",
       "      <th></th>\n",
       "      <th></th>\n",
       "      <th></th>\n",
       "      <th></th>\n",
       "      <th></th>\n",
       "      <th></th>\n",
       "      <th></th>\n",
       "      <th></th>\n",
       "      <th></th>\n",
       "      <th></th>\n",
       "      <th></th>\n",
       "      <th></th>\n",
       "      <th></th>\n",
       "    </tr>\n",
       "  </thead>\n",
       "  <tbody>\n",
       "    <tr>\n",
       "      <th>2020-01-21 07:00:00</th>\n",
       "      <td>8649.97</td>\n",
       "      <td>8657.51</td>\n",
       "      <td>8623.64</td>\n",
       "      <td>8634.70</td>\n",
       "      <td>1069.380106</td>\n",
       "      <td>-0.002381</td>\n",
       "      <td>-0.002327</td>\n",
       "      <td>-0.007182</td>\n",
       "      <td>-0.020191</td>\n",
       "      <td>0.000054</td>\n",
       "      <td>-0.004854</td>\n",
       "      <td>-0.013010</td>\n",
       "      <td>-0.002932</td>\n",
       "      <td>0.008025</td>\n",
       "      <td>-0.003370</td>\n",
       "      <td>0.011395</td>\n",
       "      <td>1.0</td>\n",
       "      <td>7.0</td>\n",
       "    </tr>\n",
       "    <tr>\n",
       "      <th>2020-01-21 08:00:00</th>\n",
       "      <td>8634.16</td>\n",
       "      <td>8670.00</td>\n",
       "      <td>8613.80</td>\n",
       "      <td>8658.59</td>\n",
       "      <td>1525.363374</td>\n",
       "      <td>0.000341</td>\n",
       "      <td>0.000002</td>\n",
       "      <td>-0.003445</td>\n",
       "      <td>-0.017196</td>\n",
       "      <td>-0.000339</td>\n",
       "      <td>-0.003448</td>\n",
       "      <td>-0.013750</td>\n",
       "      <td>0.001069</td>\n",
       "      <td>0.004222</td>\n",
       "      <td>-0.004226</td>\n",
       "      <td>0.008448</td>\n",
       "      <td>1.0</td>\n",
       "      <td>8.0</td>\n",
       "    </tr>\n",
       "    <tr>\n",
       "      <th>2020-01-21 09:00:00</th>\n",
       "      <td>8658.59</td>\n",
       "      <td>8666.78</td>\n",
       "      <td>8625.76</td>\n",
       "      <td>8630.21</td>\n",
       "      <td>1093.261576</td>\n",
       "      <td>-0.002806</td>\n",
       "      <td>-0.003423</td>\n",
       "      <td>-0.005693</td>\n",
       "      <td>-0.020238</td>\n",
       "      <td>-0.000617</td>\n",
       "      <td>-0.002270</td>\n",
       "      <td>-0.014546</td>\n",
       "      <td>-0.000520</td>\n",
       "      <td>0.007000</td>\n",
       "      <td>-0.000154</td>\n",
       "      <td>0.007154</td>\n",
       "      <td>1.0</td>\n",
       "      <td>9.0</td>\n",
       "    </tr>\n",
       "    <tr>\n",
       "      <th>2020-01-21 10:00:00</th>\n",
       "      <td>8630.08</td>\n",
       "      <td>8670.00</td>\n",
       "      <td>8602.80</td>\n",
       "      <td>8659.23</td>\n",
       "      <td>1754.110648</td>\n",
       "      <td>0.000385</td>\n",
       "      <td>-0.000052</td>\n",
       "      <td>-0.001297</td>\n",
       "      <td>-0.016584</td>\n",
       "      <td>-0.000438</td>\n",
       "      <td>-0.001244</td>\n",
       "      <td>-0.015287</td>\n",
       "      <td>0.000074</td>\n",
       "      <td>0.003617</td>\n",
       "      <td>-0.003512</td>\n",
       "      <td>0.007129</td>\n",
       "      <td>1.0</td>\n",
       "      <td>10.0</td>\n",
       "    </tr>\n",
       "    <tr>\n",
       "      <th>2020-01-21 11:00:00</th>\n",
       "      <td>8659.38</td>\n",
       "      <td>8677.12</td>\n",
       "      <td>8641.18</td>\n",
       "      <td>8656.76</td>\n",
       "      <td>1346.385777</td>\n",
       "      <td>0.000093</td>\n",
       "      <td>-0.000230</td>\n",
       "      <td>-0.000649</td>\n",
       "      <td>-0.016554</td>\n",
       "      <td>-0.000324</td>\n",
       "      <td>-0.000418</td>\n",
       "      <td>-0.015905</td>\n",
       "      <td>0.003076</td>\n",
       "      <td>0.003699</td>\n",
       "      <td>-0.003239</td>\n",
       "      <td>0.006938</td>\n",
       "      <td>1.0</td>\n",
       "      <td>11.0</td>\n",
       "    </tr>\n",
       "    <tr>\n",
       "      <th>...</th>\n",
       "      <td>...</td>\n",
       "      <td>...</td>\n",
       "      <td>...</td>\n",
       "      <td>...</td>\n",
       "      <td>...</td>\n",
       "      <td>...</td>\n",
       "      <td>...</td>\n",
       "      <td>...</td>\n",
       "      <td>...</td>\n",
       "      <td>...</td>\n",
       "      <td>...</td>\n",
       "      <td>...</td>\n",
       "      <td>...</td>\n",
       "      <td>...</td>\n",
       "      <td>...</td>\n",
       "      <td>...</td>\n",
       "      <td>...</td>\n",
       "      <td>...</td>\n",
       "    </tr>\n",
       "    <tr>\n",
       "      <th>2023-12-30 12:00:00</th>\n",
       "      <td>41893.96</td>\n",
       "      <td>42104.70</td>\n",
       "      <td>41882.71</td>\n",
       "      <td>41990.30</td>\n",
       "      <td>1042.660920</td>\n",
       "      <td>0.002097</td>\n",
       "      <td>0.001010</td>\n",
       "      <td>-0.008181</td>\n",
       "      <td>-0.013734</td>\n",
       "      <td>-0.001086</td>\n",
       "      <td>-0.009191</td>\n",
       "      <td>-0.005553</td>\n",
       "      <td>0.004383</td>\n",
       "      <td>0.006152</td>\n",
       "      <td>-0.008173</td>\n",
       "      <td>0.014325</td>\n",
       "      <td>5.0</td>\n",
       "      <td>12.0</td>\n",
       "    </tr>\n",
       "    <tr>\n",
       "      <th>2023-12-30 13:00:00</th>\n",
       "      <td>41990.31</td>\n",
       "      <td>42050.00</td>\n",
       "      <td>41886.43</td>\n",
       "      <td>42029.35</td>\n",
       "      <td>865.659130</td>\n",
       "      <td>0.002889</td>\n",
       "      <td>0.001673</td>\n",
       "      <td>-0.006753</td>\n",
       "      <td>-0.012701</td>\n",
       "      <td>-0.001216</td>\n",
       "      <td>-0.008427</td>\n",
       "      <td>-0.005948</td>\n",
       "      <td>0.003232</td>\n",
       "      <td>0.005356</td>\n",
       "      <td>-0.008702</td>\n",
       "      <td>0.014058</td>\n",
       "      <td>5.0</td>\n",
       "      <td>13.0</td>\n",
       "    </tr>\n",
       "    <tr>\n",
       "      <th>2023-12-30 14:00:00</th>\n",
       "      <td>42029.35</td>\n",
       "      <td>42300.00</td>\n",
       "      <td>42029.35</td>\n",
       "      <td>42244.12</td>\n",
       "      <td>1348.107560</td>\n",
       "      <td>0.007357</td>\n",
       "      <td>0.006524</td>\n",
       "      <td>-0.001378</td>\n",
       "      <td>-0.007458</td>\n",
       "      <td>-0.000833</td>\n",
       "      <td>-0.007903</td>\n",
       "      <td>-0.006080</td>\n",
       "      <td>0.006045</td>\n",
       "      <td>0.001012</td>\n",
       "      <td>-0.014061</td>\n",
       "      <td>0.015072</td>\n",
       "      <td>5.0</td>\n",
       "      <td>14.0</td>\n",
       "    </tr>\n",
       "    <tr>\n",
       "      <th>2023-12-30 15:00:00</th>\n",
       "      <td>42244.11</td>\n",
       "      <td>42430.00</td>\n",
       "      <td>42183.09</td>\n",
       "      <td>42374.96</td>\n",
       "      <td>1295.173300</td>\n",
       "      <td>0.009783</td>\n",
       "      <td>0.009287</td>\n",
       "      <td>0.001911</td>\n",
       "      <td>-0.004274</td>\n",
       "      <td>-0.000496</td>\n",
       "      <td>-0.007376</td>\n",
       "      <td>-0.006185</td>\n",
       "      <td>0.008223</td>\n",
       "      <td>-0.000800</td>\n",
       "      <td>-0.017774</td>\n",
       "      <td>0.016974</td>\n",
       "      <td>5.0</td>\n",
       "      <td>15.0</td>\n",
       "    </tr>\n",
       "    <tr>\n",
       "      <th>2023-12-30 16:00:00</th>\n",
       "      <td>42374.97</td>\n",
       "      <td>42606.00</td>\n",
       "      <td>42371.11</td>\n",
       "      <td>42406.97</td>\n",
       "      <td>1912.931610</td>\n",
       "      <td>0.009689</td>\n",
       "      <td>0.009587</td>\n",
       "      <td>0.002785</td>\n",
       "      <td>-0.003431</td>\n",
       "      <td>-0.000102</td>\n",
       "      <td>-0.006801</td>\n",
       "      <td>-0.006216</td>\n",
       "      <td>0.003855</td>\n",
       "      <td>-0.000046</td>\n",
       "      <td>-0.019128</td>\n",
       "      <td>0.019082</td>\n",
       "      <td>5.0</td>\n",
       "      <td>16.0</td>\n",
       "    </tr>\n",
       "  </tbody>\n",
       "</table>\n",
       "<p>34514 rows × 18 columns</p>\n",
       "</div>"
      ],
      "text/plain": [
       "                         Open      High       Low     Close       Volume  \\\n",
       "index                                                                      \n",
       "2020-01-21 07:00:00   8649.97   8657.51   8623.64   8634.70  1069.380106   \n",
       "2020-01-21 08:00:00   8634.16   8670.00   8613.80   8658.59  1525.363374   \n",
       "2020-01-21 09:00:00   8658.59   8666.78   8625.76   8630.21  1093.261576   \n",
       "2020-01-21 10:00:00   8630.08   8670.00   8602.80   8659.23  1754.110648   \n",
       "2020-01-21 11:00:00   8659.38   8677.12   8641.18   8656.76  1346.385777   \n",
       "...                       ...       ...       ...       ...          ...   \n",
       "2023-12-30 12:00:00  41893.96  42104.70  41882.71  41990.30  1042.660920   \n",
       "2023-12-30 13:00:00  41990.31  42050.00  41886.43  42029.35   865.659130   \n",
       "2023-12-30 14:00:00  42029.35  42300.00  42029.35  42244.12  1348.107560   \n",
       "2023-12-30 15:00:00  42244.11  42430.00  42183.09  42374.96  1295.173300   \n",
       "2023-12-30 16:00:00  42374.97  42606.00  42371.11  42406.97  1912.931610   \n",
       "\n",
       "                      X_SMA10   X_SMA20   X_SMA50  X_SMA100  X_DELTA_SMA10  \\\n",
       "index                                                                        \n",
       "2020-01-21 07:00:00 -0.002381 -0.002327 -0.007182 -0.020191       0.000054   \n",
       "2020-01-21 08:00:00  0.000341  0.000002 -0.003445 -0.017196      -0.000339   \n",
       "2020-01-21 09:00:00 -0.002806 -0.003423 -0.005693 -0.020238      -0.000617   \n",
       "2020-01-21 10:00:00  0.000385 -0.000052 -0.001297 -0.016584      -0.000438   \n",
       "2020-01-21 11:00:00  0.000093 -0.000230 -0.000649 -0.016554      -0.000324   \n",
       "...                       ...       ...       ...       ...            ...   \n",
       "2023-12-30 12:00:00  0.002097  0.001010 -0.008181 -0.013734      -0.001086   \n",
       "2023-12-30 13:00:00  0.002889  0.001673 -0.006753 -0.012701      -0.001216   \n",
       "2023-12-30 14:00:00  0.007357  0.006524 -0.001378 -0.007458      -0.000833   \n",
       "2023-12-30 15:00:00  0.009783  0.009287  0.001911 -0.004274      -0.000496   \n",
       "2023-12-30 16:00:00  0.009689  0.009587  0.002785 -0.003431      -0.000102   \n",
       "\n",
       "                     X_DELTA_SMA20  X_DELTA_SMA50     X_MOM  X_BB_upper  \\\n",
       "index                                                                     \n",
       "2020-01-21 07:00:00      -0.004854      -0.013010 -0.002932    0.008025   \n",
       "2020-01-21 08:00:00      -0.003448      -0.013750  0.001069    0.004222   \n",
       "2020-01-21 09:00:00      -0.002270      -0.014546 -0.000520    0.007000   \n",
       "2020-01-21 10:00:00      -0.001244      -0.015287  0.000074    0.003617   \n",
       "2020-01-21 11:00:00      -0.000418      -0.015905  0.003076    0.003699   \n",
       "...                            ...            ...       ...         ...   \n",
       "2023-12-30 12:00:00      -0.009191      -0.005553  0.004383    0.006152   \n",
       "2023-12-30 13:00:00      -0.008427      -0.005948  0.003232    0.005356   \n",
       "2023-12-30 14:00:00      -0.007903      -0.006080  0.006045    0.001012   \n",
       "2023-12-30 15:00:00      -0.007376      -0.006185  0.008223   -0.000800   \n",
       "2023-12-30 16:00:00      -0.006801      -0.006216  0.003855   -0.000046   \n",
       "\n",
       "                     X_BB_lower  X_BB_width  X_day  X_hour  \n",
       "index                                                       \n",
       "2020-01-21 07:00:00   -0.003370    0.011395    1.0     7.0  \n",
       "2020-01-21 08:00:00   -0.004226    0.008448    1.0     8.0  \n",
       "2020-01-21 09:00:00   -0.000154    0.007154    1.0     9.0  \n",
       "2020-01-21 10:00:00   -0.003512    0.007129    1.0    10.0  \n",
       "2020-01-21 11:00:00   -0.003239    0.006938    1.0    11.0  \n",
       "...                         ...         ...    ...     ...  \n",
       "2023-12-30 12:00:00   -0.008173    0.014325    5.0    12.0  \n",
       "2023-12-30 13:00:00   -0.008702    0.014058    5.0    13.0  \n",
       "2023-12-30 14:00:00   -0.014061    0.015072    5.0    14.0  \n",
       "2023-12-30 15:00:00   -0.017774    0.016974    5.0    15.0  \n",
       "2023-12-30 16:00:00   -0.019128    0.019082    5.0    16.0  \n",
       "\n",
       "[34514 rows x 18 columns]"
      ]
     },
     "execution_count": 48,
     "metadata": {},
     "output_type": "execute_result"
    }
   ],
   "source": [
    "data"
   ]
  },
  {
   "cell_type": "code",
   "execution_count": null,
   "metadata": {},
   "outputs": [],
   "source": [
    "bt = Backtest(data, MLstr, cash = 1000000, commission = .0007, margin = .05)\n",
    "bt.run()\n",
    "bt.plot()"
   ]
  },
  {
   "cell_type": "code",
   "execution_count": 36,
   "metadata": {},
   "outputs": [
    {
     "data": {
      "text/plain": [
       "array([ 1, -1])"
      ]
     },
     "execution_count": 36,
     "metadata": {},
     "output_type": "execute_result"
    }
   ],
   "source": [
    "np.r_[1, -1]"
   ]
  },
  {
   "cell_type": "markdown",
   "metadata": {},
   "source": [
    "## Reference"
   ]
  },
  {
   "cell_type": "markdown",
   "metadata": {},
   "source": [
    "Backtesting User Manual\n",
    "\n",
    "https://kernc.github.io/backtesting.py/doc/examples/Quick%20Start%20User%20Guide.html"
   ]
  },
  {
   "cell_type": "markdown",
   "metadata": {},
   "source": []
  }
 ],
 "metadata": {
  "kernelspec": {
   "display_name": "Python 3",
   "language": "python",
   "name": "python3"
  },
  "language_info": {
   "codemirror_mode": {
    "name": "ipython",
    "version": 3
   },
   "file_extension": ".py",
   "mimetype": "text/x-python",
   "name": "python",
   "nbconvert_exporter": "python",
   "pygments_lexer": "ipython3",
   "version": "3.12.4"
  }
 },
 "nbformat": 4,
 "nbformat_minor": 2
}
