{
 "cells": [
  {
   "cell_type": "markdown",
   "metadata": {},
   "source": [
    "Key features in v7:\n",
    "\n",
    "1. Use user defined class to create a trading environment\n",
    "2. A portfolio is created to enjoy the benefit of diversification"
   ]
  },
  {
   "cell_type": "markdown",
   "metadata": {},
   "source": [
    "## Import Library"
   ]
  },
  {
   "cell_type": "code",
   "execution_count": null,
   "metadata": {},
   "outputs": [],
   "source": [
    "from datetime import datetime\n",
    "import pandas as pd\n",
    "import numpy as np\n",
    "import matplotlib.pyplot as plt\n",
    "\n",
    "import ta\n",
    "\n",
    "from tensorflow import keras\n",
    "from tensorflow.keras import layers, models\n",
    "\n",
    "from sklearn.decomposition import PCA\n",
    "from sklearn.preprocessing import StandardScaler"
   ]
  },
  {
   "cell_type": "code",
   "execution_count": null,
   "metadata": {},
   "outputs": [],
   "source": [
    "import warnings\n",
    "warnings.filterwarnings(\"ignore\")"
   ]
  },
  {
   "cell_type": "markdown",
   "metadata": {},
   "source": [
    "## Defining Functions"
   ]
  },
  {
   "cell_type": "markdown",
   "metadata": {},
   "source": [
    "### Feature Engineering"
   ]
  },
  {
   "cell_type": "code",
   "execution_count": null,
   "metadata": {},
   "outputs": [],
   "source": [
    "def addSMA(data, sma_start: int, sma_end: int, sma_step: int):\n",
    "    sma_range = range(sma_start, sma_end, sma_step)\n",
    "\n",
    "    for window in sma_range:\n",
    "        # SMA/Close\n",
    "        # relative value of SMA to closing price\n",
    "        data.loc[:,f\"SMA_{window}\"] = ta.trend.SMAIndicator(data.Close, window=window).sma_indicator() / data.Close\n",
    "\n",
    "    for i in range(len(sma_range)):\n",
    "        for j in range(i+1, len(sma_range)):\n",
    "            # (SMA_1 - SMA_2) / Close\n",
    "            data.loc[:,f\"SMA_DELTA_{sma_range[i]}_{sma_range[j]}\"] = data.loc[:,f\"SMA_{sma_range[i]}\"] - data.loc[:,f\"SMA_{sma_range[j]}\"]\n",
    "\n",
    "    return data"
   ]
  },
  {
   "cell_type": "code",
   "execution_count": null,
   "metadata": {},
   "outputs": [],
   "source": [
    "def addEMA(data, ema_start: int, ema_end: int, ema_step: int):\n",
    "    ema_range = range(ema_start, ema_end, ema_step)\n",
    "\n",
    "    for window in ema_range:\n",
    "        # EMA/Close\n",
    "        # relative value of EMA to closing price\n",
    "        data.loc[:,f\"EMA_{window}\"] = ta.trend.EMAIndicator(data.Close, window=window).ema_indicator() / data.Close\n",
    "\n",
    "    for i in range(len(ema_range)):\n",
    "        for j in range(i+1, len(ema_range)):\n",
    "            # (EMA_1 - EMA_2) / Close\n",
    "            data.loc[:,f\"EMA_DELTA_{ema_range[i]}_{ema_range[j]}\"] = data.loc[:,f\"EMA_{ema_range[i]}\"] - data.loc[:,f\"EMA_{ema_range[j]}\"]\n",
    "\n",
    "    return data"
   ]
  },
  {
   "cell_type": "code",
   "execution_count": null,
   "metadata": {},
   "outputs": [],
   "source": [
    "def feature_generation(\n",
    "    data,\n",
    "    sma_start: int = 20,\n",
    "    sma_end  : int = 100,\n",
    "    sma_step : int = 20,\n",
    "    ema_start: int = 20,\n",
    "    ema_end  : int = 100,\n",
    "    ema_step : int = 20\n",
    "    ):\n",
    "    \"\"\"\n",
    "    Input\n",
    "    --------\n",
    "    X: pd.DataFrame\n",
    "\n",
    "\n",
    "    Output\n",
    "    --------\n",
    "    X: pd.DataFrame\n",
    "    \"\"\"\n",
    "    close = data.Close\n",
    "\n",
    "    # SMA\n",
    "    data = addSMA(data=data, sma_start=sma_start, sma_end=sma_end, sma_step=sma_step)\n",
    "\n",
    "    # EMA\n",
    "    data = addEMA(data=data, ema_start=ema_start, ema_end=ema_end, ema_step=ema_step)\n",
    "\n",
    "    # RSI\n",
    "    data[\"RSI\"] = ta.momentum.RSIIndicator(data.Close).rsi()\n",
    "  \n",
    "    # MACD\n",
    "    data[\"MACD\"] = ta.trend.MACD(data.Close).macd()\n",
    "\n",
    "    # ATR\n",
    "    data[\"ATR\"] = ta.volatility.AverageTrueRange(data.High, data.Low, data.Close).average_true_range()\n",
    "\n",
    "    # BollingerBands\n",
    "    upper = ta.volatility.BollingerBands(data.Close).bollinger_hband()\n",
    "    lower = ta.volatility.BollingerBands(data.Close).bollinger_lband()\n",
    "\n",
    "    data[\"BB_upper\"] = (upper - close) / close\n",
    "    data[\"BB_lower\"] = (lower - close) / close\n",
    "    data[\"BB_width\"] = (upper - lower) / close\n",
    "\n",
    "    # Garman Klass Volatility\n",
    "    data[\"garman_klass_vol\"] = ((np.log(data.High)-np.log(data.Low))**2)/2-(2*np.log(2)-1)*((np.log(data.Close)-np.log(data.Open))**2)\n",
    "\n",
    "    return data"
   ]
  },
  {
   "cell_type": "code",
   "execution_count": null,
   "metadata": {},
   "outputs": [],
   "source": [
    "def preprocess(data,\n",
    "               PCA_components = 8):\n",
    "  # Feature generation\n",
    "  data_features = feature_generation(data)\n",
    "\n",
    "  # Feature\n",
    "  remove_columns = [\"Open\",\n",
    "                    \"High\",\n",
    "                    \"Low\",\n",
    "                    \"Close\"]\n",
    "  features = data_features.drop(remove_columns, axis=1).dropna()\n",
    "\n",
    "  # normalize\n",
    "  scaler = StandardScaler()\n",
    "  features = pd.DataFrame(\n",
    "    scaler.fit_transform(features),\n",
    "    index=features.index,\n",
    "    columns=features.columns)\n",
    "\n",
    "  # PCA\n",
    "  pca = PCA(n_components=PCA_components)\n",
    "  features = pd.DataFrame(\n",
    "    pca.fit_transform(features),\n",
    "    index=features.index)\n",
    "  \n",
    "  return features"
   ]
  },
  {
   "cell_type": "code",
   "execution_count": null,
   "metadata": {},
   "outputs": [],
   "source": [
    "def create_LSTM_input(data, time_steps=10):\n",
    "    num_samples = data.shape[0] - time_steps + 1\n",
    "    X = np.array([data[i:i+time_steps] for i in range(num_samples)])\n",
    "    return X\n"
   ]
  },
  {
   "cell_type": "markdown",
   "metadata": {},
   "source": [
    "## Defining Model"
   ]
  },
  {
   "cell_type": "code",
   "execution_count": null,
   "metadata": {},
   "outputs": [],
   "source": [
    "class LSTM_stack(layers.Layer):\n",
    "    \"\"\"stacks of LSTM with dropout, followed by dense layer\"\"\"\n",
    "\n",
    "    def __init__(\n",
    "        self,\n",
    "        dropout_rate: float = 0.2\n",
    "        ):\n",
    "        super().__init__()\n",
    "\n",
    "        self.lstm_1 = layers.LSTM(\n",
    "            units=50,\n",
    "            return_sequences=True,\n",
    "            )\n",
    "\n",
    "        self.lstm_2 = layers.LSTM(\n",
    "            units=50,\n",
    "            return_sequences=True,\n",
    "            )\n",
    "\n",
    "        self.lstm_3 = layers.LSTM(\n",
    "            units=50,\n",
    "            return_sequences=False,\n",
    "            )\n",
    "\n",
    "        self.dense_1 = layers.Dense(\n",
    "            units=1\n",
    "            )\n",
    "\n",
    "        self.dropout_1 = layers.Dropout(dropout_rate)\n",
    "\n",
    "    def call(self, inputs):\n",
    "        x = self.lstm_1(inputs)\n",
    "        x = self.dropout_1(x)\n",
    "        x = self.lstm_2(inputs)\n",
    "        x = self.dropout_1(x)\n",
    "        x = self.lstm_3(inputs)\n",
    "        x = self.dropout_1(x)\n",
    "        return self.dense_1(x)"
   ]
  },
  {
   "cell_type": "markdown",
   "metadata": {},
   "source": [
    "## Defining Trading Environment"
   ]
  },
  {
   "cell_type": "code",
   "execution_count": null,
   "metadata": {},
   "outputs": [],
   "source": [
    "class Coin:\n",
    "    def __init__(self, symbol, ohlcv):\n",
    "        self.symbol = symbol\n",
    "        self.ohlcv = ohlcv\n",
    "        self.logret = self.calculate_logret()\n",
    "        self.trading_history = []  # List to store trading history\n",
    "        self.volatility = self.calculate_volatility()\n",
    "        self.features = preprocess(\n",
    "            pd.concat([\n",
    "                self.ohlcv,\n",
    "                self.logret,\n",
    "                self.volatility],\n",
    "                axis=1))\n",
    "        self.y = self.logret.shift(-1)\n",
    "\n",
    "    def calculate_logret(self):\n",
    "        return pd.DataFrame(\n",
    "            np.log((self.ohlcv.Close / self.ohlcv.Close.shift(1)))).rename(columns={\"Close\": \"logret\"})\n",
    "\n",
    "    def calculate_volatility(self):\n",
    "        return pd.DataFrame(\n",
    "            self.logret.rolling(window=14).std()).rename(columns={\"logret\": \"vol\"})"
   ]
  },
  {
   "cell_type": "code",
   "execution_count": null,
   "metadata": {},
   "outputs": [],
   "source": [
    "class Market:\n",
    "    def __init__(\n",
    "        self,\n",
    "        cash = 10000):\n",
    "        self.coins = {}  # Dictionary to store coins\n",
    "        self.init_cash = cash\n",
    "        self.cash = self.init_cash  # Initial cash balance\n",
    "        self.assets = {}  # Dictionary to store quantity of each asset\n",
    "        self.prices = pd.DataFrame()\n",
    "\n",
    "    def add_coin(self, coin):\n",
    "        self.coins[coin.symbol] = coin\n",
    "        self.assets[coin.symbol] = 0  # Initialize asset quantity to 0\n",
    "\n",
    "        close = pd.DataFrame(coin.ohlcv.Close).rename(columns={\"Close\": coin.symbol})\n",
    "        self.prices = pd.concat([self.prices, close], axis=1)\n",
    "        \n",
    "        self.coins[coin.symbol].trading_history = []\n",
    "        self.coins[coin.symbol].position = \"Closed\"\n",
    "\n",
    "    def reset_cash(self):\n",
    "        self.cash = self.init_cash\n",
    "\n",
    "    def trade(self, symbol, action, quantity, price, time):\n",
    "        if action == \"buy\":\n",
    "            cost = quantity * price\n",
    "            if self.cash >= cost:\n",
    "                self.cash -= cost\n",
    "                self.assets[symbol] += quantity\n",
    "                self.coins[symbol].trading_history.append(\n",
    "                    {\n",
    "                        \"action\": \"buy\",\n",
    "                        \"quantity\": quantity,\n",
    "                        \"price\": price,\n",
    "                        \"time\": time\n",
    "                    })\n",
    "                self.coins[symbol].position = \"Long\"\n",
    "            else:\n",
    "                print(\"Insufficient funds to buy!\")\n",
    "        elif action == \"sell\":\n",
    "            if self.assets[symbol] >= quantity:\n",
    "                self.cash += quantity * price\n",
    "                self.assets[symbol] -= quantity\n",
    "                self.coins[symbol].trading_history.append(\n",
    "                    {\n",
    "                        \"action\": \"sell\",\n",
    "                        \"quantity\": quantity,\n",
    "                        \"price\": price,\n",
    "                        \"time\": time\n",
    "                    })\n",
    "                self.coins[symbol].position = \"Closed\"\n",
    "            else:\n",
    "                print(\"Insufficient assets to sell!\")\n",
    "        else:\n",
    "            print(\"Invalid action. Use 'buy' or 'sell'.\")"
   ]
  },
  {
   "cell_type": "markdown",
   "metadata": {},
   "source": [
    "## Parameters"
   ]
  },
  {
   "cell_type": "markdown",
   "metadata": {},
   "source": [
    "This section contains all the parameters."
   ]
  },
  {
   "cell_type": "code",
   "execution_count": null,
   "metadata": {},
   "outputs": [],
   "source": [
    "symbols = [\n",
    "    \"ADAUSDT\",\n",
    "    \"BNBUSDT\",\n",
    "    \"BTCUSDT\",\n",
    "    \"EOSUSDT\",\n",
    "    \"ETHUSDT\",\n",
    "    \"LTCUSDT\",\n",
    "    \"NEOUSDT\",\n",
    "    \"QTUMUSDT\",\n",
    "    \"XRPUSDT\"\n",
    "    ]\n",
    "\n",
    "interval = \"15m\""
   ]
  },
  {
   "cell_type": "markdown",
   "metadata": {},
   "source": [
    "## Training the Model"
   ]
  },
  {
   "cell_type": "markdown",
   "metadata": {},
   "source": [
    "This section outputs training and testing data for the use of the following sections."
   ]
  },
  {
   "cell_type": "markdown",
   "metadata": {},
   "source": [
    "### Creating the market for training the model"
   ]
  },
  {
   "cell_type": "code",
   "execution_count": null,
   "metadata": {},
   "outputs": [],
   "source": [
    "market_train = Market()\n",
    "for symbol in symbols:\n",
    "    data_train = pd.read_csv(f\"Binance Data/Training/{interval}/{symbol}.csv\", index_col=\"index\")\n",
    "    data_train = data_train.set_index(pd.DatetimeIndex(pd.to_datetime(data_train.index)))\n",
    "    coin = Coin(symbol, data_train)\n",
    "    market_train.add_coin(coin)"
   ]
  },
  {
   "cell_type": "code",
   "execution_count": null,
   "metadata": {},
   "outputs": [],
   "source": [
    "market_val = Market()\n",
    "for symbol in symbols:\n",
    "    data_val = pd.read_csv(f\"Binance Data/Validation/{interval}/{symbol}.csv\", index_col=\"index\")\n",
    "    data_val = data_val.set_index(pd.DatetimeIndex(pd.to_datetime(data_val.index)))\n",
    "    coin = Coin(symbol, data_val)\n",
    "    market_val.add_coin(coin)"
   ]
  },
  {
   "cell_type": "code",
   "execution_count": null,
   "metadata": {},
   "outputs": [],
   "source": [
    "market_test = Market()\n",
    "for symbol in symbols:\n",
    "    data_test = pd.read_csv(f\"Binance Data/Testing/{interval}/{symbol}.csv\", index_col=\"index\")\n",
    "    data_test = data_test.set_index(pd.DatetimeIndex(pd.to_datetime(data_test.index)))\n",
    "    coin = Coin(symbol, data_test)\n",
    "    market_test.add_coin(coin)"
   ]
  },
  {
   "cell_type": "markdown",
   "metadata": {},
   "source": [
    "### Initializing the model"
   ]
  },
  {
   "cell_type": "code",
   "execution_count": null,
   "metadata": {},
   "outputs": [],
   "source": [
    "inputs = keras.Input((10, 8)) # Hard-coded timestep and number of features\n",
    "outputs = LSTM_stack()(inputs)\n",
    "model = keras.Model(inputs, outputs)\n",
    "optimizer = keras.optimizers.Adam()\n",
    "loss      = keras.losses.MeanSquaredError()\n",
    "model.compile(optimizer=optimizer,loss=loss)"
   ]
  },
  {
   "cell_type": "markdown",
   "metadata": {},
   "source": [
    "### Training the model"
   ]
  },
  {
   "cell_type": "code",
   "execution_count": null,
   "metadata": {},
   "outputs": [],
   "source": [
    "for symbol in symbols:\n",
    "    X_train = create_LSTM_input(market_train.coins[symbol].features)[:-1]\n",
    "    y_train = market_train.coins[symbol].logret[-X_train.shape[0]:]\n",
    "\n",
    "    X_val = create_LSTM_input(market_val.coins[symbol].features)[:-1]\n",
    "    y_val = market_val.coins[symbol].logret[-X_val.shape[0]:]\n",
    "    model.fit(\n",
    "        X_train, y_train,\n",
    "        epochs = 2,\n",
    "        validation_data=(X_val, y_val))"
   ]
  },
  {
   "cell_type": "markdown",
   "metadata": {},
   "source": [
    "### Testing the model"
   ]
  },
  {
   "cell_type": "code",
   "execution_count": 61,
   "metadata": {},
   "outputs": [
    {
     "name": "stdout",
     "output_type": "stream",
     "text": [
      "\u001b[1m1090/1090\u001b[0m \u001b[32m━━━━━━━━━━━━━━━━━━━━\u001b[0m\u001b[37m\u001b[0m \u001b[1m3s\u001b[0m 3ms/step\n",
      "\u001b[1m1090/1090\u001b[0m \u001b[32m━━━━━━━━━━━━━━━━━━━━\u001b[0m\u001b[37m\u001b[0m \u001b[1m3s\u001b[0m 2ms/step\n",
      "\u001b[1m1090/1090\u001b[0m \u001b[32m━━━━━━━━━━━━━━━━━━━━\u001b[0m\u001b[37m\u001b[0m \u001b[1m3s\u001b[0m 2ms/step\n",
      "\u001b[1m1090/1090\u001b[0m \u001b[32m━━━━━━━━━━━━━━━━━━━━\u001b[0m\u001b[37m\u001b[0m \u001b[1m3s\u001b[0m 2ms/step\n",
      "\u001b[1m1090/1090\u001b[0m \u001b[32m━━━━━━━━━━━━━━━━━━━━\u001b[0m\u001b[37m\u001b[0m \u001b[1m3s\u001b[0m 2ms/step\n",
      "\u001b[1m1090/1090\u001b[0m \u001b[32m━━━━━━━━━━━━━━━━━━━━\u001b[0m\u001b[37m\u001b[0m \u001b[1m3s\u001b[0m 2ms/step\n",
      "\u001b[1m1090/1090\u001b[0m \u001b[32m━━━━━━━━━━━━━━━━━━━━\u001b[0m\u001b[37m\u001b[0m \u001b[1m3s\u001b[0m 2ms/step\n",
      "\u001b[1m1090/1090\u001b[0m \u001b[32m━━━━━━━━━━━━━━━━━━━━\u001b[0m\u001b[37m\u001b[0m \u001b[1m2s\u001b[0m 2ms/step\n",
      "\u001b[1m1090/1090\u001b[0m \u001b[32m━━━━━━━━━━━━━━━━━━━━\u001b[0m\u001b[37m\u001b[0m \u001b[1m2s\u001b[0m 2ms/step\n"
     ]
    }
   ],
   "source": [
    "buy_threshold = 0.5\n",
    "sell_threshold = -0.5\n",
    "\n",
    "results = {}\n",
    "\n",
    "for symbol in symbols:\n",
    "    market_test.reset_cash()\n",
    "    X_test = create_LSTM_input(market_test.coins[symbol].features)\n",
    "\n",
    "    scaler = StandardScaler()\n",
    "    prediction = scaler.fit_transform(model.predict(X_test))\n",
    "\n",
    "    test_time = market_test.coins[symbol].features[-len(X_test):].index\n",
    "\n",
    "    account_values = np.zeros((len(test_time)))\n",
    "    for index, time in enumerate(test_time):\n",
    "        if market_test.coins[symbol].position == \"Closed\" and prediction[index] > buy_threshold:\n",
    "            budget = market_test.cash * 0.999\n",
    "            price = market_test.prices.loc[time, symbol]\n",
    "            qty = budget / price\n",
    "            # print(f\"Long. Cash: {cash}. Price: {price}. Quantity: {qty}\")\n",
    "            market_test.trade(symbol, \"buy\", qty, price, time)\n",
    "        if market_test.coins[symbol].position == \"Long\" and prediction[index] < sell_threshold:\n",
    "            price = market_test.prices.loc[time, symbol]\n",
    "            qty = market_test.assets[symbol]\n",
    "            # print(f\"Close. Cash: {cash}. Price: {price}. Quantity: {qty}\")\n",
    "            market_test.trade(symbol, \"sell\", qty, price, time)\n",
    "        account_values[index] = market_test.cash + market_test.assets[symbol] * market_test.prices.loc[time, symbol]\n",
    "\n",
    "    if market_test.coins[symbol].position == \"Long\":\n",
    "        price = market_test.prices.loc[time, symbol]\n",
    "        qty = market_test.assets[symbol]\n",
    "        market_test.trade(symbol, \"sell\", qty, price, time)\n",
    "    account_values[index] = market_test.cash + market_test.assets[symbol] * market_test.prices.loc[time, symbol]\n",
    "\n",
    "    results[symbol] = account_values"
   ]
  },
  {
   "cell_type": "code",
   "execution_count": 71,
   "metadata": {},
   "outputs": [
    {
     "data": {
      "image/png": "[encoded data removed]",
      "text/plain": [
       "<Figure size 640x480 with 1 Axes>"
      ]
     },
     "metadata": {},
     "output_type": "display_data"
    }
   ],
   "source": [
    "for symbol in symbols:\n",
    "    buy_and_hold = market_test.prices.loc[test_time,symbol] / market_test.prices.loc[test_time[0],symbol]\n",
    "    strategy_pl = results[symbol] / results[symbol][0]\n",
    "    score = strategy_pl / buy_and_hold\n",
    "\n",
    "    plt.plot(\n",
    "        test_time,\n",
    "        score,\n",
    "        label = symbol\n",
    "    )\n",
    "\n",
    "plt.axhline(y=1, linestyle='--')\n",
    "\n",
    "plt.legend()\n",
    "plt.show()"
   ]
  },
  {
   "cell_type": "code",
   "execution_count": null,
   "metadata": {},
   "outputs": [],
   "source": [
    "scaler = StandardScaler()\n",
    "\n",
    "plt.hist(\n",
    "    scaler.fit_transform(prediction),\n",
    "    bins=1000,\n",
    "    label=symbol)\n",
    "plt.xlim(-2, 2)\n",
    "# plt.ylim(0, 5000)\n",
    "plt.show()"
   ]
  },
  {
   "cell_type": "markdown",
   "metadata": {},
   "source": [
    "# To Do\n",
    "- test with simple strategy\n",
    "    - only one asset in a portfolio\n",
    "    - test which asset performs the best\n",
    "    - check G/L distribution at different time\n",
    "    - see if can mitigate loss by creating a portfolio\n",
    "- Model volatility and trade option"
   ]
  },
  {
   "cell_type": "code",
   "execution_count": null,
   "metadata": {},
   "outputs": [],
   "source": []
  },
  {
   "cell_type": "code",
   "execution_count": null,
   "metadata": {},
   "outputs": [],
   "source": []
  },
  {
   "cell_type": "code",
   "execution_count": null,
   "metadata": {},
   "outputs": [],
   "source": []
  },
  {
   "cell_type": "code",
   "execution_count": null,
   "metadata": {},
   "outputs": [],
   "source": [
    "for timestep, prices_snapchot in market.prices.iterrows():\n",
    "    "
   ]
  },
  {
   "cell_type": "code",
   "execution_count": null,
   "metadata": {},
   "outputs": [],
   "source": []
  },
  {
   "cell_type": "code",
   "execution_count": null,
   "metadata": {},
   "outputs": [],
   "source": []
  },
  {
   "cell_type": "markdown",
   "metadata": {},
   "source": [
    "## Backtesting"
   ]
  },
  {
   "cell_type": "code",
   "execution_count": null,
   "metadata": {},
   "outputs": [],
   "source": []
  },
  {
   "cell_type": "markdown",
   "metadata": {},
   "source": [
    "## Results"
   ]
  },
  {
   "cell_type": "code",
   "execution_count": null,
   "metadata": {},
   "outputs": [],
   "source": []
  },
  {
   "cell_type": "markdown",
   "metadata": {},
   "source": [
    "## Ad hoc"
   ]
  },
  {
   "cell_type": "code",
   "execution_count": null,
   "metadata": {},
   "outputs": [],
   "source": []
  },
  {
   "cell_type": "code",
   "execution_count": null,
   "metadata": {},
   "outputs": [],
   "source": [
    "counter = 1\n",
    "symbols = market.prices.columns\n",
    "\n",
    "for symbol in symbols:\n",
    "    print(market.coins[symbol].features[:10])"
   ]
  },
  {
   "cell_type": "code",
   "execution_count": null,
   "metadata": {},
   "outputs": [],
   "source": []
  },
  {
   "cell_type": "code",
   "execution_count": null,
   "metadata": {},
   "outputs": [],
   "source": []
  },
  {
   "cell_type": "code",
   "execution_count": null,
   "metadata": {},
   "outputs": [],
   "source": [
    "for symbol in market.coins:\n",
    "    plt.hist(\n",
    "        market.coins[symbol].features,\n",
    "        bins=100,\n",
    "        alpha=0.3,\n",
    "        label=symbol)\n",
    "    break\n",
    "plt.xlim(-15, 15)\n",
    "# plt.ylim(0, 5000)\n",
    "plt.show()"
   ]
  },
  {
   "cell_type": "code",
   "execution_count": null,
   "metadata": {},
   "outputs": [],
   "source": [
    "for symbol in market.coins:\n",
    "    plt.hist(\n",
    "        market.coins[symbol].volatility,\n",
    "        bins=100,\n",
    "        alpha=0.3,\n",
    "        label=symbol)\n",
    "plt.xlim(-.01, .05)\n",
    "plt.ylim(0, 5000)\n",
    "plt.show()"
   ]
  },
  {
   "cell_type": "code",
   "execution_count": null,
   "metadata": {},
   "outputs": [],
   "source": [
    "for symbol in market.coins:\n",
    "    vol    = market.coins[symbol].autocorrelation\n",
    "    print(f\"{symbol}: {vol * 100}\")"
   ]
  },
  {
   "cell_type": "code",
   "execution_count": null,
   "metadata": {},
   "outputs": [],
   "source": [
    "plt.plot(market.coins[\"QTUMUSDT\"].ohlcv.Close)\n",
    "plt.show()"
   ]
  }
 ],
 "metadata": {
  "kernelspec": {
   "display_name": "Python 3",
   "language": "python",
   "name": "python3"
  },
  "language_info": {
   "codemirror_mode": {
    "name": "ipython",
    "version": 3
   },
   "file_extension": ".py",
   "mimetype": "text/x-python",
   "name": "python",
   "nbconvert_exporter": "python",
   "pygments_lexer": "ipython3",
   "version": "3.12.4"
  }
 },
 "nbformat": 4,
 "nbformat_minor": 2
}
