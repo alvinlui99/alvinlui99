{
 "cells": [
  {
   "cell_type": "markdown",
   "metadata": {},
   "source": [
    "### Library"
   ]
  },
  {
   "cell_type": "code",
   "execution_count": 12,
   "metadata": {},
   "outputs": [],
   "source": [
    "import os\n",
    "from dotenv import load_dotenv\n",
    "\n",
    "from binance.client import Client\n",
    "\n",
    "import pandas as pd\n",
    "import numpy as np\n",
    "from time import sleep\n",
    "from datetime import datetime\n",
    "import ta\n",
    "\n",
    "from backtesting import Backtest, Strategy\n",
    "from backtesting.lib import crossover, SignalStrategy, TrailingStrategy\n",
    "from backtesting.test import SMA"
   ]
  },
  {
   "cell_type": "markdown",
   "metadata": {},
   "source": [
    "### TA Calculation Functions"
   ]
  },
  {
   "cell_type": "markdown",
   "metadata": {},
   "source": [
    "#### SMA"
   ]
  },
  {
   "cell_type": "code",
   "execution_count": 13,
   "metadata": {},
   "outputs": [],
   "source": [
    "def sma(df, window):\n",
    "    sma = ta.trend.SMAIndicator(pd.Series(df), window=window).sma_indicator()\n",
    "    return sma"
   ]
  },
  {
   "cell_type": "markdown",
   "metadata": {},
   "source": [
    "#### RSI"
   ]
  },
  {
   "cell_type": "code",
   "execution_count": 14,
   "metadata": {},
   "outputs": [],
   "source": [
    "def rsi(df, window=14):\n",
    "    rsi = ta.momentum.RSIIndicator(pd.Series(df), window=window).rsi()\n",
    "    return rsi"
   ]
  },
  {
   "cell_type": "markdown",
   "metadata": {},
   "source": [
    "#### EMA"
   ]
  },
  {
   "cell_type": "code",
   "execution_count": 15,
   "metadata": {},
   "outputs": [],
   "source": [
    "def ema(df, period=200):\n",
    "    ema = ta.trend.EMAIndicator(pd.Series(df), window=window).ema_indicator()\n",
    "    return ema"
   ]
  },
  {
   "cell_type": "markdown",
   "metadata": {},
   "source": [
    "#### MACD"
   ]
  },
  {
   "cell_type": "code",
   "execution_count": 16,
   "metadata": {},
   "outputs": [],
   "source": [
    "def macd(df):\n",
    "    macd = ta.trend.MACD(pd.Series(df)).macd()\n",
    "    return macd"
   ]
  },
  {
   "cell_type": "markdown",
   "metadata": {},
   "source": [
    "#### Bollinger Bands"
   ]
  },
  {
   "cell_type": "code",
   "execution_count": 17,
   "metadata": {},
   "outputs": [],
   "source": [
    "def signal_h(df):\n",
    "    return ta.volatility.BollingerBands(pd.Series(df)).bollinger_hband()\n",
    "def signal_l(df):\n",
    "    return ta.volatility.BollingerBands(pd.Series(df)).bollinger_lband()"
   ]
  },
  {
   "cell_type": "markdown",
   "metadata": {},
   "source": [
    "### Strategy Class"
   ]
  },
  {
   "cell_type": "markdown",
   "metadata": {},
   "source": [
    "#### Modified SMA"
   ]
  },
  {
   "cell_type": "code",
   "execution_count": null,
   "metadata": {},
   "outputs": [],
   "source": [
    "class Modified_SMA(SignalStrategy,\n",
    "                   TrailingStrategy):\n",
    "    n1 = 10\n",
    "    n2 = 25\n",
    "    \n",
    "    def init(self):\n",
    "        # In init() and in next() it is important to call the\n",
    "        # super method to properly initialize the parent classes\n",
    "        super().init()\n",
    "\n",
    "        # Precompute the two moving averages\n",
    "        sma1 = self.I(sma, self.data.Close, self.n1)\n",
    "        sma2 = self.I(sma, self.data.Close, self.n2)\n",
    "\n",
    "        # Where sma1 crosses sma2 upwards. Diff gives us [-1,0, *1*]\n",
    "        signal = (pd.Series(sma1) > sma2).astype(int).diff().fillna(0)\n",
    "        signal = signal.replace(-1, 0)\n",
    "\n",
    "        # Use 95% of available liquidity (at the time) on each order.\n",
    "        # (Leaving a value of 1. would instead buy a single share.)\n",
    "        entry_size = signal * .95\n",
    "\n",
    "        # Set order entry sizes using the method provided by \n",
    "        # `SignalStrategy`. See the docs.\n",
    "        self.set_signal(entry_size=entry_size)\n",
    "\n",
    "        # Set trailing stop-loss to 2x ATR using\n",
    "        # the method provided by `TrailingStrategy`\n",
    "        self.set_trailing_sl(2)\n",
    "        "
   ]
  },
  {
   "cell_type": "markdown",
   "metadata": {},
   "source": [
    "#### RSI"
   ]
  },
  {
   "cell_type": "code",
   "execution_count": null,
   "metadata": {},
   "outputs": [],
   "source": [
    "class SMA_RSI(Strategy):\n",
    "    # Any variables you want:\n",
    "    n1 = 10\n",
    "    n2 = 20\n",
    "    rsi_period = 14\n",
    "    tp = 0.03\n",
    "    sl = 0.02\n",
    "    def init(self):\n",
    "        # Take close prices as actual price\n",
    "        price = self.data.Close\n",
    "        # Declare indicators you will use in the strategy:\n",
    "        self.rsi = self.I(rsi, self.data.Close, self.rsi_period)\n",
    "        self.sma1 = self.I(SMA, price, self.n1)\n",
    "        self.sma2 = self.I(SMA, price, self.n2)\n",
    "\n",
    "    def next(self):\n",
    "        price = float(self.data.Close[-1])\n",
    "        if crossover(self.sma1, self.sma2) and self.rsi[-2] < 30:\n",
    "            self.buy (tp = (1 + self.tp) * price,\n",
    "                      sl = (1 - self.sl) * price)\n",
    "        if crossover(self.sma2, self.sma1) and self.rsi[-2] > 70:\n",
    "            self.sell(tp = (1 - self.tp) * price,\n",
    "                      sl = (1 + self.sl) * price)\n",
    "        "
   ]
  },
  {
   "cell_type": "markdown",
   "metadata": {},
   "source": [
    "#### Simple Moving Average"
   ]
  },
  {
   "cell_type": "code",
   "execution_count": null,
   "metadata": {},
   "outputs": [],
   "source": [
    "class SMA_RSI_test(Strategy):\n",
    "    # Any variables you want:\n",
    "    n1 = 10\n",
    "    n2 = 15\n",
    "    rsi_period = 14\n",
    "    tp = 0.03\n",
    "    sl = 0.02\n",
    "    def init(self):\n",
    "        # Take close prices as actual price\n",
    "        price = self.data.Close\n",
    "        # Declare indicators you will use in the strategy:\n",
    "        self.rsi = self.I(rsi, self.data.Close, self.rsi_period)\n",
    "        self.sma1 = self.I(SMA, price, self.n1)\n",
    "        self.sma2 = self.I(SMA, price, self.n2)\n",
    "\n",
    "    def next(self):\n",
    "        price = float(self.data.Close[-1])\n",
    "        if crossover(self.sma1, self.sma2) and self.rsi[-2] < 30:\n",
    "            self.buy (tp = (1 + self.tp) * price,\n",
    "                      sl = (1 - self.sl) * price)\n",
    "        if crossover(self.sma2, self.sma1) and self.rsi[-2] > 70:\n",
    "            self.sell(tp = (1 - self.tp) * price,\n",
    "                      sl = (1 + self.sl) * price)\n",
    "        "
   ]
  },
  {
   "cell_type": "markdown",
   "metadata": {},
   "source": [
    "### ML Model\n"
   ]
  },
  {
   "cell_type": "code",
   "execution_count": null,
   "metadata": {},
   "outputs": [],
   "source": []
  },
  {
   "cell_type": "code",
   "execution_count": null,
   "metadata": {},
   "outputs": [],
   "source": []
  },
  {
   "cell_type": "code",
   "execution_count": null,
   "metadata": {},
   "outputs": [],
   "source": []
  },
  {
   "cell_type": "markdown",
   "metadata": {},
   "source": [
    "## Main"
   ]
  },
  {
   "cell_type": "markdown",
   "metadata": {},
   "source": [
    "### Binance API"
   ]
  },
  {
   "cell_type": "code",
   "execution_count": 6,
   "metadata": {},
   "outputs": [],
   "source": [
    "load_dotenv()\n",
    "API_KEY    = os.getenv('API_KEY')\n",
    "API_SECRET = os.getenv('API_SECRET')\n",
    "\n",
    "client = Client(API_KEY, API_SECRET)"
   ]
  },
  {
   "cell_type": "markdown",
   "metadata": {},
   "source": [
    "### Parameters"
   ]
  },
  {
   "cell_type": "markdown",
   "metadata": {},
   "source": [
    "### Fetch Historical Data"
   ]
  },
  {
   "cell_type": "code",
   "execution_count": 7,
   "metadata": {},
   "outputs": [],
   "source": [
    "symbol = 'BTCUSDT'\n",
    "interval = '1h'\n",
    "\n",
    "start_time_train = int(datetime(2020,1,1,0,0).timestamp() * 1000)\n",
    "end_time_train   = int(datetime(2021,12,31,0,0).timestamp() * 1000)\n",
    "start_time_test  = int(datetime(2022,1,1,0,0).timestamp() * 1000)\n",
    "end_time_test    = int(datetime(2023,12,31,0,0).timestamp() * 1000)\n",
    "\n",
    "kline_train = client.get_historical_klines(symbol=symbol, interval=interval, start_str=start_time_train, end_str=end_time_train)\n",
    "kline_test  = client.get_historical_klines(symbol=symbol, interval=interval, start_str=start_time_test , end_str=end_time_test)\n",
    "\n",
    "columns = ['index','Open', 'High', 'Low', 'Close', 'Volume']\n",
    "\n",
    "data_train = pd.DataFrame(kline_train)\n",
    "data_train = data_train.iloc[:, :6]\n",
    "data_train.columns  = columns\n",
    "data_train['index'] = pd.to_datetime(data_train['index'], unit='ms')\n",
    "data_train.set_index('index', inplace=True)\n",
    "data_train = data_train.astype(float)\n",
    "\n",
    "data_test = pd.DataFrame(kline_test)\n",
    "data_test = data_test.iloc[:, :6]\n",
    "data_test.columns = columns\n",
    "data_test['index'] = pd.to_datetime(data_test['index'], unit='ms')\n",
    "data_test.set_index('index', inplace=True)\n",
    "data_test = data_test.astype(float)"
   ]
  },
  {
   "cell_type": "markdown",
   "metadata": {},
   "source": [
    "### Backtesting"
   ]
  },
  {
   "cell_type": "markdown",
   "metadata": {},
   "source": [
    "#### Backtesting"
   ]
  },
  {
   "cell_type": "code",
   "execution_count": null,
   "metadata": {},
   "outputs": [],
   "source": [
    "bt_train = Backtest(data_train, Modified_SMA, cash = 1000000, commission=0.00075)\n",
    "stats = bt_train.run()\n",
    "stats"
   ]
  },
  {
   "cell_type": "code",
   "execution_count": null,
   "metadata": {},
   "outputs": [],
   "source": [
    "bt_train = Backtest(data_train, Modified_SMA_test, cash = 1000000, commission=0.00075)\n",
    "stats = bt_train.optimize(n1=range(5, 30, 5),\n",
    "                          n2=range(10, 70, 5),\n",
    "                          maximize='Equity Final [$]',\n",
    "                          constraint=lambda param: param.n1 < param.n2)\n",
    "stats"
   ]
  },
  {
   "cell_type": "code",
   "execution_count": null,
   "metadata": {},
   "outputs": [],
   "source": [
    "stats['_strategy']"
   ]
  },
  {
   "cell_type": "code",
   "execution_count": null,
   "metadata": {},
   "outputs": [],
   "source": [
    "bt_test = Backtest(data_test, SMA_RSI_test, cash = 1000000, commission=0.00075)\n",
    "stats = bt_test.run()\n",
    "stats"
   ]
  },
  {
   "cell_type": "markdown",
   "metadata": {},
   "source": [
    "#### Graph"
   ]
  },
  {
   "cell_type": "code",
   "execution_count": null,
   "metadata": {},
   "outputs": [],
   "source": [
    "bt_test.plot()"
   ]
  },
  {
   "cell_type": "code",
   "execution_count": null,
   "metadata": {},
   "outputs": [],
   "source": [
    "stats.tail()"
   ]
  },
  {
   "cell_type": "code",
   "execution_count": null,
   "metadata": {},
   "outputs": [],
   "source": [
    "stats['_equity_curve']"
   ]
  },
  {
   "cell_type": "markdown",
   "metadata": {},
   "source": [
    "## For Temp Ad Hoc Testing"
   ]
  },
  {
   "cell_type": "code",
   "execution_count": 1,
   "metadata": {},
   "outputs": [],
   "source": [
    "def get_X(data):\n",
    "    return data.filter(like='X').values"
   ]
  },
  {
   "cell_type": "code",
   "execution_count": 2,
   "metadata": {},
   "outputs": [],
   "source": [
    "def get_y(data):\n",
    "    y = data['Close'].pct_change(48).shift(-48)"
   ]
  },
  {
   "cell_type": "code",
   "execution_count": 3,
   "metadata": {},
   "outputs": [],
   "source": [
    "def get_clean_Xy(data):\n",
    "    X = get_X(data)\n",
    "    y = get_y(data).values\n",
    "    isnan = np.isnan(y)\n",
    "    X = X[~isnan]\n",
    "    y = y[~isnan]\n",
    "    return X, y"
   ]
  },
  {
   "cell_type": "code",
   "execution_count": 29,
   "metadata": {},
   "outputs": [],
   "source": [
    "close = data_train.Close.values\n",
    "sma10 = sma(data_train.Close, 10).values\n",
    "sma20 = sma(data_train.Close, 20).values\n",
    "sma50 = sma(data_train.Close, 50).values\n",
    "sma100 = sma(data_train.Close, 100).values\n",
    "upper = signal_h(data_train.Close).values\n",
    "lower = signal_l(data_train.Close).values\n",
    "\n",
    "# Design matrix / independent features:\n",
    "\n",
    "# Price-derived features\n",
    "data_train['X_SMA10'] = (close - sma10) / close\n",
    "data_train['X_SMA20'] = (close - sma20) / close\n",
    "data_train['X_SMA50'] = (close - sma50) / close\n",
    "data_train['X_SMA100'] = (close - sma100) / close\n",
    "\n",
    "data_train['X_DELTA_SMA10'] = (sma10 - sma20) / close\n",
    "data_train['X_DELTA_SMA20'] = (sma20 - sma50) / close\n",
    "data_train['X_DELTA_SMA50'] = (sma50 - sma100) / close\n",
    "\n",
    "# Indicator features\n",
    "data_train['X_MOM'] = data_train.Close.pct_change(periods=2)\n",
    "data_train['X_BB_upper'] = (upper - close) / close\n",
    "data_train['X_BB_lower'] = (lower - close) / close\n",
    "data_train['X_BB_width'] = (upper - lower) / close\n",
    "\n",
    "# Some datetime features for good measure\n",
    "data_train['X_day'] = data_train.index.dayofweek\n",
    "data_train['X_hour'] = data_train.index.hour\n",
    "\n",
    "data_train = data_train.dropna().astype(float)"
   ]
  },
  {
   "cell_type": "code",
   "execution_count": 30,
   "metadata": {},
   "outputs": [
    {
     "data": {
      "text/html": [
       "<div>\n",
       "<style scoped>\n",
       "    .dataframe tbody tr th:only-of-type {\n",
       "        vertical-align: middle;\n",
       "    }\n",
       "\n",
       "    .dataframe tbody tr th {\n",
       "        vertical-align: top;\n",
       "    }\n",
       "\n",
       "    .dataframe thead th {\n",
       "        text-align: right;\n",
       "    }\n",
       "</style>\n",
       "<table border=\"1\" class=\"dataframe\">\n",
       "  <thead>\n",
       "    <tr style=\"text-align: right;\">\n",
       "      <th></th>\n",
       "      <th>Open</th>\n",
       "      <th>High</th>\n",
       "      <th>Low</th>\n",
       "      <th>Close</th>\n",
       "      <th>Volume</th>\n",
       "      <th>X_SMA10</th>\n",
       "      <th>X_SMA20</th>\n",
       "      <th>X_SMA50</th>\n",
       "      <th>X_SMA100</th>\n",
       "      <th>X_DELTA_SMA10</th>\n",
       "      <th>X_DELTA_SMA20</th>\n",
       "      <th>X_DELTA_SMA50</th>\n",
       "      <th>X_MOM</th>\n",
       "      <th>X_BB_upper</th>\n",
       "      <th>X_BB_lower</th>\n",
       "      <th>X_BB_width</th>\n",
       "      <th>X_day</th>\n",
       "      <th>X_hour</th>\n",
       "    </tr>\n",
       "    <tr>\n",
       "      <th>index</th>\n",
       "      <th></th>\n",
       "      <th></th>\n",
       "      <th></th>\n",
       "      <th></th>\n",
       "      <th></th>\n",
       "      <th></th>\n",
       "      <th></th>\n",
       "      <th></th>\n",
       "      <th></th>\n",
       "      <th></th>\n",
       "      <th></th>\n",
       "      <th></th>\n",
       "      <th></th>\n",
       "      <th></th>\n",
       "      <th></th>\n",
       "      <th></th>\n",
       "      <th></th>\n",
       "      <th></th>\n",
       "    </tr>\n",
       "  </thead>\n",
       "  <tbody>\n",
       "    <tr>\n",
       "      <th>2020-01-04 19:00:00</th>\n",
       "      <td>7306.60</td>\n",
       "      <td>7353.84</td>\n",
       "      <td>7283.01</td>\n",
       "      <td>7334.83</td>\n",
       "      <td>1966.929401</td>\n",
       "      <td>0.001912</td>\n",
       "      <td>0.000839</td>\n",
       "      <td>0.012521</td>\n",
       "      <td>0.016604</td>\n",
       "      <td>-0.001073</td>\n",
       "      <td>0.011682</td>\n",
       "      <td>0.004083</td>\n",
       "      <td>-0.002334</td>\n",
       "      <td>0.004193</td>\n",
       "      <td>-0.005871</td>\n",
       "      <td>0.010065</td>\n",
       "      <td>5.0</td>\n",
       "      <td>19.0</td>\n",
       "    </tr>\n",
       "    <tr>\n",
       "      <th>2020-01-04 20:00:00</th>\n",
       "      <td>7334.89</td>\n",
       "      <td>7352.64</td>\n",
       "      <td>7310.67</td>\n",
       "      <td>7341.06</td>\n",
       "      <td>1433.864061</td>\n",
       "      <td>0.002449</td>\n",
       "      <td>0.001423</td>\n",
       "      <td>0.012359</td>\n",
       "      <td>0.017262</td>\n",
       "      <td>-0.001026</td>\n",
       "      <td>0.010936</td>\n",
       "      <td>0.004903</td>\n",
       "      <td>0.004672</td>\n",
       "      <td>0.003371</td>\n",
       "      <td>-0.006216</td>\n",
       "      <td>0.009587</td>\n",
       "      <td>5.0</td>\n",
       "      <td>20.0</td>\n",
       "    </tr>\n",
       "    <tr>\n",
       "      <th>2020-01-04 21:00:00</th>\n",
       "      <td>7340.90</td>\n",
       "      <td>7367.31</td>\n",
       "      <td>7330.72</td>\n",
       "      <td>7350.68</td>\n",
       "      <td>869.007514</td>\n",
       "      <td>0.003561</td>\n",
       "      <td>0.002447</td>\n",
       "      <td>0.012652</td>\n",
       "      <td>0.018300</td>\n",
       "      <td>-0.001114</td>\n",
       "      <td>0.010205</td>\n",
       "      <td>0.005648</td>\n",
       "      <td>0.002161</td>\n",
       "      <td>0.002284</td>\n",
       "      <td>-0.007178</td>\n",
       "      <td>0.009462</td>\n",
       "      <td>5.0</td>\n",
       "      <td>21.0</td>\n",
       "    </tr>\n",
       "    <tr>\n",
       "      <th>2020-01-04 22:00:00</th>\n",
       "      <td>7350.72</td>\n",
       "      <td>7359.70</td>\n",
       "      <td>7342.67</td>\n",
       "      <td>7350.24</td>\n",
       "      <td>474.926109</td>\n",
       "      <td>0.002993</td>\n",
       "      <td>0.002235</td>\n",
       "      <td>0.011500</td>\n",
       "      <td>0.017994</td>\n",
       "      <td>-0.000758</td>\n",
       "      <td>0.009265</td>\n",
       "      <td>0.006494</td>\n",
       "      <td>0.001251</td>\n",
       "      <td>0.002597</td>\n",
       "      <td>-0.007067</td>\n",
       "      <td>0.009664</td>\n",
       "      <td>5.0</td>\n",
       "      <td>22.0</td>\n",
       "    </tr>\n",
       "    <tr>\n",
       "      <th>2020-01-04 23:00:00</th>\n",
       "      <td>7350.05</td>\n",
       "      <td>7363.00</td>\n",
       "      <td>7328.90</td>\n",
       "      <td>7354.11</td>\n",
       "      <td>528.793108</td>\n",
       "      <td>0.002834</td>\n",
       "      <td>0.002617</td>\n",
       "      <td>0.010996</td>\n",
       "      <td>0.018265</td>\n",
       "      <td>-0.000217</td>\n",
       "      <td>0.008379</td>\n",
       "      <td>0.007269</td>\n",
       "      <td>0.000467</td>\n",
       "      <td>0.002359</td>\n",
       "      <td>-0.007593</td>\n",
       "      <td>0.009952</td>\n",
       "      <td>5.0</td>\n",
       "      <td>23.0</td>\n",
       "    </tr>\n",
       "    <tr>\n",
       "      <th>...</th>\n",
       "      <td>...</td>\n",
       "      <td>...</td>\n",
       "      <td>...</td>\n",
       "      <td>...</td>\n",
       "      <td>...</td>\n",
       "      <td>...</td>\n",
       "      <td>...</td>\n",
       "      <td>...</td>\n",
       "      <td>...</td>\n",
       "      <td>...</td>\n",
       "      <td>...</td>\n",
       "      <td>...</td>\n",
       "      <td>...</td>\n",
       "      <td>...</td>\n",
       "      <td>...</td>\n",
       "      <td>...</td>\n",
       "      <td>...</td>\n",
       "      <td>...</td>\n",
       "    </tr>\n",
       "    <tr>\n",
       "      <th>2021-12-30 12:00:00</th>\n",
       "      <td>47515.45</td>\n",
       "      <td>47719.37</td>\n",
       "      <td>47400.00</td>\n",
       "      <td>47514.17</td>\n",
       "      <td>2014.693870</td>\n",
       "      <td>0.012095</td>\n",
       "      <td>0.010941</td>\n",
       "      <td>-0.001546</td>\n",
       "      <td>-0.031666</td>\n",
       "      <td>-0.001155</td>\n",
       "      <td>-0.012486</td>\n",
       "      <td>-0.030120</td>\n",
       "      <td>0.011954</td>\n",
       "      <td>0.004207</td>\n",
       "      <td>-0.026088</td>\n",
       "      <td>0.030296</td>\n",
       "      <td>3.0</td>\n",
       "      <td>12.0</td>\n",
       "    </tr>\n",
       "    <tr>\n",
       "      <th>2021-12-30 13:00:00</th>\n",
       "      <td>47514.16</td>\n",
       "      <td>47555.55</td>\n",
       "      <td>47300.00</td>\n",
       "      <td>47321.49</td>\n",
       "      <td>1350.130450</td>\n",
       "      <td>0.006345</td>\n",
       "      <td>0.007160</td>\n",
       "      <td>-0.004830</td>\n",
       "      <td>-0.035298</td>\n",
       "      <td>0.000815</td>\n",
       "      <td>-0.011990</td>\n",
       "      <td>-0.030468</td>\n",
       "      <td>-0.004082</td>\n",
       "      <td>0.007420</td>\n",
       "      <td>-0.021740</td>\n",
       "      <td>0.029160</td>\n",
       "      <td>3.0</td>\n",
       "      <td>13.0</td>\n",
       "    </tr>\n",
       "    <tr>\n",
       "      <th>2021-12-30 14:00:00</th>\n",
       "      <td>47321.50</td>\n",
       "      <td>47437.72</td>\n",
       "      <td>47166.97</td>\n",
       "      <td>47345.03</td>\n",
       "      <td>1333.652250</td>\n",
       "      <td>0.005524</td>\n",
       "      <td>0.007851</td>\n",
       "      <td>-0.003589</td>\n",
       "      <td>-0.034205</td>\n",
       "      <td>0.002327</td>\n",
       "      <td>-0.011439</td>\n",
       "      <td>-0.030617</td>\n",
       "      <td>-0.003560</td>\n",
       "      <td>0.006187</td>\n",
       "      <td>-0.021888</td>\n",
       "      <td>0.028075</td>\n",
       "      <td>3.0</td>\n",
       "      <td>14.0</td>\n",
       "    </tr>\n",
       "    <tr>\n",
       "      <th>2021-12-30 15:00:00</th>\n",
       "      <td>47345.02</td>\n",
       "      <td>47500.00</td>\n",
       "      <td>47118.69</td>\n",
       "      <td>47159.41</td>\n",
       "      <td>1054.542640</td>\n",
       "      <td>0.000762</td>\n",
       "      <td>0.003934</td>\n",
       "      <td>-0.006748</td>\n",
       "      <td>-0.037727</td>\n",
       "      <td>0.003172</td>\n",
       "      <td>-0.010682</td>\n",
       "      <td>-0.030979</td>\n",
       "      <td>-0.003425</td>\n",
       "      <td>0.010171</td>\n",
       "      <td>-0.018039</td>\n",
       "      <td>0.028211</td>\n",
       "      <td>3.0</td>\n",
       "      <td>15.0</td>\n",
       "    </tr>\n",
       "    <tr>\n",
       "      <th>2021-12-30 16:00:00</th>\n",
       "      <td>47159.42</td>\n",
       "      <td>47640.00</td>\n",
       "      <td>47092.13</td>\n",
       "      <td>47578.69</td>\n",
       "      <td>1554.925020</td>\n",
       "      <td>0.008134</td>\n",
       "      <td>0.012492</td>\n",
       "      <td>0.002754</td>\n",
       "      <td>-0.028101</td>\n",
       "      <td>0.004359</td>\n",
       "      <td>-0.009738</td>\n",
       "      <td>-0.030855</td>\n",
       "      <td>0.004935</td>\n",
       "      <td>0.002127</td>\n",
       "      <td>-0.027112</td>\n",
       "      <td>0.029239</td>\n",
       "      <td>3.0</td>\n",
       "      <td>16.0</td>\n",
       "    </tr>\n",
       "  </tbody>\n",
       "</table>\n",
       "<p>17391 rows × 18 columns</p>\n",
       "</div>"
      ],
      "text/plain": [
       "                         Open      High       Low     Close       Volume  \\\n",
       "index                                                                      \n",
       "2020-01-04 19:00:00   7306.60   7353.84   7283.01   7334.83  1966.929401   \n",
       "2020-01-04 20:00:00   7334.89   7352.64   7310.67   7341.06  1433.864061   \n",
       "2020-01-04 21:00:00   7340.90   7367.31   7330.72   7350.68   869.007514   \n",
       "2020-01-04 22:00:00   7350.72   7359.70   7342.67   7350.24   474.926109   \n",
       "2020-01-04 23:00:00   7350.05   7363.00   7328.90   7354.11   528.793108   \n",
       "...                       ...       ...       ...       ...          ...   \n",
       "2021-12-30 12:00:00  47515.45  47719.37  47400.00  47514.17  2014.693870   \n",
       "2021-12-30 13:00:00  47514.16  47555.55  47300.00  47321.49  1350.130450   \n",
       "2021-12-30 14:00:00  47321.50  47437.72  47166.97  47345.03  1333.652250   \n",
       "2021-12-30 15:00:00  47345.02  47500.00  47118.69  47159.41  1054.542640   \n",
       "2021-12-30 16:00:00  47159.42  47640.00  47092.13  47578.69  1554.925020   \n",
       "\n",
       "                      X_SMA10   X_SMA20   X_SMA50  X_SMA100  X_DELTA_SMA10  \\\n",
       "index                                                                        \n",
       "2020-01-04 19:00:00  0.001912  0.000839  0.012521  0.016604      -0.001073   \n",
       "2020-01-04 20:00:00  0.002449  0.001423  0.012359  0.017262      -0.001026   \n",
       "2020-01-04 21:00:00  0.003561  0.002447  0.012652  0.018300      -0.001114   \n",
       "2020-01-04 22:00:00  0.002993  0.002235  0.011500  0.017994      -0.000758   \n",
       "2020-01-04 23:00:00  0.002834  0.002617  0.010996  0.018265      -0.000217   \n",
       "...                       ...       ...       ...       ...            ...   \n",
       "2021-12-30 12:00:00  0.012095  0.010941 -0.001546 -0.031666      -0.001155   \n",
       "2021-12-30 13:00:00  0.006345  0.007160 -0.004830 -0.035298       0.000815   \n",
       "2021-12-30 14:00:00  0.005524  0.007851 -0.003589 -0.034205       0.002327   \n",
       "2021-12-30 15:00:00  0.000762  0.003934 -0.006748 -0.037727       0.003172   \n",
       "2021-12-30 16:00:00  0.008134  0.012492  0.002754 -0.028101       0.004359   \n",
       "\n",
       "                     X_DELTA_SMA20  X_DELTA_SMA50     X_MOM  X_BB_upper  \\\n",
       "index                                                                     \n",
       "2020-01-04 19:00:00       0.011682       0.004083 -0.002334    0.004193   \n",
       "2020-01-04 20:00:00       0.010936       0.004903  0.004672    0.003371   \n",
       "2020-01-04 21:00:00       0.010205       0.005648  0.002161    0.002284   \n",
       "2020-01-04 22:00:00       0.009265       0.006494  0.001251    0.002597   \n",
       "2020-01-04 23:00:00       0.008379       0.007269  0.000467    0.002359   \n",
       "...                            ...            ...       ...         ...   \n",
       "2021-12-30 12:00:00      -0.012486      -0.030120  0.011954    0.004207   \n",
       "2021-12-30 13:00:00      -0.011990      -0.030468 -0.004082    0.007420   \n",
       "2021-12-30 14:00:00      -0.011439      -0.030617 -0.003560    0.006187   \n",
       "2021-12-30 15:00:00      -0.010682      -0.030979 -0.003425    0.010171   \n",
       "2021-12-30 16:00:00      -0.009738      -0.030855  0.004935    0.002127   \n",
       "\n",
       "                     X_BB_lower  X_BB_width  X_day  X_hour  \n",
       "index                                                       \n",
       "2020-01-04 19:00:00   -0.005871    0.010065    5.0    19.0  \n",
       "2020-01-04 20:00:00   -0.006216    0.009587    5.0    20.0  \n",
       "2020-01-04 21:00:00   -0.007178    0.009462    5.0    21.0  \n",
       "2020-01-04 22:00:00   -0.007067    0.009664    5.0    22.0  \n",
       "2020-01-04 23:00:00   -0.007593    0.009952    5.0    23.0  \n",
       "...                         ...         ...    ...     ...  \n",
       "2021-12-30 12:00:00   -0.026088    0.030296    3.0    12.0  \n",
       "2021-12-30 13:00:00   -0.021740    0.029160    3.0    13.0  \n",
       "2021-12-30 14:00:00   -0.021888    0.028075    3.0    14.0  \n",
       "2021-12-30 15:00:00   -0.018039    0.028211    3.0    15.0  \n",
       "2021-12-30 16:00:00   -0.027112    0.029239    3.0    16.0  \n",
       "\n",
       "[17391 rows x 18 columns]"
      ]
     },
     "execution_count": 30,
     "metadata": {},
     "output_type": "execute_result"
    }
   ],
   "source": [
    "data_train"
   ]
  },
  {
   "cell_type": "markdown",
   "metadata": {},
   "source": [
    "## Reference"
   ]
  },
  {
   "cell_type": "markdown",
   "metadata": {},
   "source": [
    "Backtesting User Manual\n",
    "\n",
    "https://kernc.github.io/backtesting.py/doc/examples/Quick%20Start%20User%20Guide.html"
   ]
  },
  {
   "cell_type": "markdown",
   "metadata": {},
   "source": []
  }
 ],
 "metadata": {
  "kernelspec": {
   "display_name": "Python 3",
   "language": "python",
   "name": "python3"
  },
  "language_info": {
   "codemirror_mode": {
    "name": "ipython",
    "version": 3
   },
   "file_extension": ".py",
   "mimetype": "text/x-python",
   "name": "python",
   "nbconvert_exporter": "python",
   "pygments_lexer": "ipython3",
   "version": "3.12.4"
  }
 },
 "nbformat": 4,
 "nbformat_minor": 2
}
