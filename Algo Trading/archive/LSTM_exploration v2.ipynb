{
 "cells": [
  {
   "cell_type": "code",
   "execution_count": null,
   "metadata": {},
   "outputs": [],
   "source": [
    "from humpback import *\n",
    "\n",
    "from datetime import datetime\n",
    "import numpy as np\n",
    "import pandas as pd\n",
    "import matplotlib.pyplot as plt\n",
    "\n",
    "from sklearn.preprocessing import MinMaxScaler\n",
    "from sklearn.model_selection import train_test_split\n",
    "\n",
    "import tensorflow as tf\n",
    "from tensorflow import keras\n",
    "from tensorflow.keras import layers, models"
   ]
  },
  {
   "cell_type": "code",
   "execution_count": null,
   "metadata": {},
   "outputs": [],
   "source": [
    "def preprocess(\n",
    "    data_array: np.ndarray,\n",
    "    train_size: float,\n",
    "    val_size: float,\n",
    "    test_size: float):\n",
    "    \"\"\"Splits data into train/val/test sets and normalizes the data.\n",
    "\n",
    "    Args:\n",
    "        data_array: ndarray of shape `(num_time_steps, num_routes)`\n",
    "        train_size: A float value between 0.0 and 1.0 that represent the proportion of the dataset\n",
    "            to include in the train split.\n",
    "        val_size: A float value between 0.0 and 1.0 that represent the proportion of the dataset\n",
    "            to include in the validation split.\n",
    "\n",
    "    Returns:\n",
    "        `train_array`, `val_array`, `test_array`\n",
    "    \"\"\"\n",
    "\n",
    "    if train_size + val_size + test_size != 1:\n",
    "        raise Exception(\"train_size + val_size + test_size != 1\")\n",
    "\n",
    "    num_time_steps = data_array.shape[0]\n",
    "    num_train, num_val = (\n",
    "        int(num_time_steps * train_size),\n",
    "        int(num_time_steps * val_size),\n",
    "    )\n",
    "    train_array = data_array[:num_train]\n",
    "    mean, std = train_array.mean(axis=0), train_array.std(axis=0)\n",
    "\n",
    "    train_array = (train_array - mean) / std\n",
    "    val_array = (data_array[num_train : (num_train + num_val)] - mean) / std\n",
    "    test_array = (data_array[(num_train + num_val) :] - mean) / std\n",
    "\n",
    "    return train_array, val_array, test_array"
   ]
  },
  {
   "cell_type": "code",
   "execution_count": null,
   "metadata": {},
   "outputs": [],
   "source": [
    "class LSTM_stack(layers.Layer):\n",
    "    \"\"\"stacks of LSTM with dropout, follwed by dense layer\"\"\"\n",
    "\n",
    "    def __init__(\n",
    "        self,\n",
    "        dropout_rate: float = 0.2\n",
    "        ):\n",
    "        super().__init__()\n",
    "\n",
    "        self.lstm_1 = layers.LSTM(\n",
    "            units=50,\n",
    "            return_sequences=True,\n",
    "            )\n",
    "\n",
    "        self.lstm_2 = layers.LSTM(\n",
    "            units=50,\n",
    "            return_sequences=True,\n",
    "            )\n",
    "\n",
    "        self.lstm_3 = layers.LSTM(\n",
    "            units=50,\n",
    "            return_sequences=False,\n",
    "            )\n",
    "\n",
    "        self.dense_1 = layers.Dense(\n",
    "            units=1\n",
    "            )\n",
    "\n",
    "        self.dropout_1 = layers.Dropout(dropout_rate)\n",
    "\n",
    "    def call(self, inputs):\n",
    "        x = self.lstm_1(inputs)\n",
    "        x = self.dropout_1(x)\n",
    "        x = self.lstm_2(inputs)\n",
    "        x = self.dropout_1(x)\n",
    "        x = self.lstm_3(inputs)\n",
    "        x = self.dropout_1(x)\n",
    "        return self.dense_1(x)"
   ]
  },
  {
   "cell_type": "markdown",
   "metadata": {},
   "source": [
    "## Fetch Data"
   ]
  },
  {
   "cell_type": "code",
   "execution_count": null,
   "metadata": {},
   "outputs": [],
   "source": [
    "client = connectBinanceAPI()"
   ]
  },
  {
   "cell_type": "code",
   "execution_count": null,
   "metadata": {},
   "outputs": [],
   "source": [
    "symbol = 'BTCUSDT'\n",
    "interval = '1h'\n",
    "\n",
    "start_str = int(datetime(2020,1,1,0,0).timestamp() * 1000)\n",
    "end_str   = int(datetime(2021,12,31,0,0).timestamp() * 1000)\n",
    "\n",
    "train_size, val_size, test_size = 0.5, 0.2, 0.3\n",
    "\n",
    "batch_size = 64\n",
    "input_sequence_length = 20\n",
    "forecast_horizon = 1\n",
    "multi_horizon = False\n"
   ]
  },
  {
   "cell_type": "code",
   "execution_count": null,
   "metadata": {},
   "outputs": [],
   "source": [
    "data_raw_df = getBinanceData(\n",
    "    client=client,symbol=symbol,\n",
    "    interval=interval,\n",
    "    start_str=start_str,\n",
    "    end_str=end_str\n",
    "    )"
   ]
  },
  {
   "cell_type": "code",
   "execution_count": null,
   "metadata": {},
   "outputs": [],
   "source": [
    "data_df = getReturn(data_raw_df, 'Close')\n",
    "data_df = featureGeneration(data_df)\n",
    "X_data_df , y_data_df  = getXy(data_df , 'Return')"
   ]
  },
  {
   "cell_type": "code",
   "execution_count": null,
   "metadata": {},
   "outputs": [],
   "source": [
    "X_train_array, X_val_array, X_test_array = preprocess(X_data_df, train_size, val_size, test_size)\n",
    "y_train_array, y_val_array, y_test_array = preprocess(y_data_df, train_size, val_size, test_size)"
   ]
  },
  {
   "cell_type": "code",
   "execution_count": null,
   "metadata": {},
   "outputs": [],
   "source": [
    "train_dataset = keras.utils.timeseries_dataset_from_array(\n",
    "        X_train_array,\n",
    "        y_train_array,\n",
    "        sequence_length=input_sequence_length,\n",
    "        shuffle=False,\n",
    "    )"
   ]
  },
  {
   "cell_type": "code",
   "execution_count": null,
   "metadata": {},
   "outputs": [],
   "source": [
    "val_dataset = keras.utils.timeseries_dataset_from_array(\n",
    "        X_val_array,\n",
    "        y_val_array,\n",
    "        sequence_length=input_sequence_length,\n",
    "        shuffle=False,\n",
    "    ) "
   ]
  },
  {
   "cell_type": "code",
   "execution_count": null,
   "metadata": {},
   "outputs": [],
   "source": [
    "test_dataset = keras.utils.timeseries_dataset_from_array(\n",
    "        X_test_array,\n",
    "        None,\n",
    "        sequence_length=input_sequence_length,\n",
    "        shuffle=False,\n",
    "    ) "
   ]
  },
  {
   "cell_type": "markdown",
   "metadata": {},
   "source": [
    "## Model"
   ]
  },
  {
   "cell_type": "code",
   "execution_count": null,
   "metadata": {},
   "outputs": [],
   "source": [
    "inputs  = keras.Input((\n",
    "    input_sequence_length,\n",
    "    X_train_array.shape[1]))\n",
    "outputs = LSTM_stack()(inputs)\n",
    "model   = keras.Model(inputs, outputs)"
   ]
  },
  {
   "cell_type": "code",
   "execution_count": null,
   "metadata": {},
   "outputs": [],
   "source": [
    "optimizer = keras.optimizers.Adam()\n",
    "loss      = keras.losses.MeanSquaredError()\n",
    "\n",
    "model.compile(optimizer=optimizer,loss=loss)"
   ]
  },
  {
   "cell_type": "code",
   "execution_count": null,
   "metadata": {},
   "outputs": [],
   "source": [
    "model.fit(\n",
    "    train_dataset,\n",
    "    epochs=20,\n",
    "    validation_data=val_dataset\n",
    "    )"
   ]
  },
  {
   "cell_type": "code",
   "execution_count": 37,
   "metadata": {},
   "outputs": [
    {
     "name": "stdout",
     "output_type": "stream",
     "text": [
      "\u001b[1m41/41\u001b[0m \u001b[32m━━━━━━━━━━━━━━━━━━━━\u001b[0m\u001b[37m\u001b[0m \u001b[1m0s\u001b[0m 10ms/step\n"
     ]
    }
   ],
   "source": [
    "predictions = pd.DataFrame(model.predict(test_dataset), index=y_test_array.iloc[input_sequence_length-1:,].index)"
   ]
  },
  {
   "cell_type": "code",
   "execution_count": 38,
   "metadata": {},
   "outputs": [
    {
     "data": {
      "text/plain": [
       "<matplotlib.legend.Legend at 0x144ce9580>"
      ]
     },
     "execution_count": 38,
     "metadata": {},
     "output_type": "execute_result"
    },
    {
     "data": {
      "image/png": "[encoded data removed]",
      "text/plain": [
       "<Figure size 640x480 with 1 Axes>"
      ]
     },
     "metadata": {},
     "output_type": "display_data"
    }
   ],
   "source": [
    "plt.plot(y_test_array, color='red', label='Actual')\n",
    "plt.plot(predictions, color='blue', label='Predicted')\n",
    "plt.title('LSTM BTC 1h')\n",
    "plt.legend() "
   ]
  },
  {
   "cell_type": "code",
   "execution_count": null,
   "metadata": {},
   "outputs": [],
   "source": []
  },
  {
   "cell_type": "code",
   "execution_count": null,
   "metadata": {},
   "outputs": [],
   "source": []
  }
 ],
 "metadata": {
  "kernelspec": {
   "display_name": "Python 3",
   "language": "python",
   "name": "python3"
  },
  "language_info": {
   "codemirror_mode": {
    "name": "ipython",
    "version": 3
   },
   "file_extension": ".py",
   "mimetype": "text/x-python",
   "name": "python",
   "nbconvert_exporter": "python",
   "pygments_lexer": "ipython3",
   "version": "3.12.4"
  }
 },
 "nbformat": 4,
 "nbformat_minor": 2
}
