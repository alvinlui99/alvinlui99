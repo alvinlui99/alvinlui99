{
 "cells": [
  {
   "cell_type": "code",
   "execution_count": 1,
   "metadata": {},
   "outputs": [
    {
     "name": "stderr",
     "output_type": "stream",
     "text": [
      "2024-08-12 13:08:44.713220: I tensorflow/core/platform/cpu_feature_guard.cc:210] This TensorFlow binary is optimized to use available CPU instructions in performance-critical operations.\n",
      "To enable the following instructions: AVX2 FMA, in other operations, rebuild TensorFlow with the appropriate compiler flags.\n"
     ]
    }
   ],
   "source": [
    "from humpback import *\n",
    "\n",
    "from datetime import datetime\n",
    "import numpy as np\n",
    "import pandas as pd\n",
    "import matplotlib.pyplot as plt\n",
    "\n",
    "from sklearn.preprocessing import MinMaxScaler\n",
    "from sklearn.model_selection import train_test_split\n",
    "\n",
    "import tensorflow as tf\n",
    "from tensorflow import keras\n",
    "from tensorflow.keras import layers, models"
   ]
  },
  {
   "cell_type": "code",
   "execution_count": 2,
   "metadata": {},
   "outputs": [],
   "source": [
    "def preprocess(\n",
    "    data_df: pd.DataFrame,\n",
    "    train_size: float,\n",
    "    val_size: float,\n",
    "    test_size: float,\n",
    "    scale: bool):\n",
    "    \"\"\"Splits data into train/val/test sets and scales the data.\n",
    "\n",
    "    Args:\n",
    "        data_df: DataFrame of shape `(num_time_steps, num_features)`\n",
    "        train_size: A float value between 0.0 and 1.0 that represent the proportion of the dataset\n",
    "            to include in the train split.\n",
    "        val_size: A float value between 0.0 and 1.0 that represent the proportion of the dataset\n",
    "            to include in the validation split.\n",
    "        test_size: A float value between 0.0 and 1.0 that represent the proportion of the dataset\n",
    "            to include in the test split.\n",
    "\n",
    "    Returns:\n",
    "        `train_df`, `val_df`, `test_df`\n",
    "    \"\"\"\n",
    "\n",
    "    if train_size + val_size + test_size != 1:\n",
    "        raise Exception(\"train_size + val_size + test_size != 1\")\n",
    "\n",
    "    train_df, val_test_df = train_test_split(\n",
    "        data_df,\n",
    "        train_size=train_size,\n",
    "        shuffle=False)\n",
    "\n",
    "    val_df, test_df = train_test_split(\n",
    "        val_test_df,\n",
    "        train_size=(val_size/(val_size+test_size)),\n",
    "        shuffle=False\n",
    "    )\n",
    "\n",
    "    scaler = MinMaxScaler()\n",
    "    scaler = scaler.fit(train_df)\n",
    "    \n",
    "    # if scale:\n",
    "        # for df in (train_df, val_df, test_df):\n",
    "        #     df = pd.DataFrame(\n",
    "        #         scaler.transform(df),\n",
    "        #         index=df.index,\n",
    "        #         columns=df.columns)\n",
    "\n",
    "    train_df = pd.DataFrame(\n",
    "        scaler.transform(train_df),\n",
    "        index=train_df.index,\n",
    "        columns=train_df.columns)\n",
    "\n",
    "    val_df = pd.DataFrame(\n",
    "        scaler.transform(val_df),\n",
    "        index=val_df.index,\n",
    "        columns=val_df.columns)\n",
    "\n",
    "    test_df = pd.DataFrame(\n",
    "        scaler.transform(test_df),\n",
    "        index=test_df.index,\n",
    "        columns=test_df.columns)\n",
    "\n",
    "\n",
    "    return train_df, val_df, test_df, scaler"
   ]
  },
  {
   "cell_type": "code",
   "execution_count": 3,
   "metadata": {},
   "outputs": [],
   "source": [
    "class LSTM_stack(layers.Layer):\n",
    "    \"\"\"stacks of LSTM with dropout, follwed by dense layer\"\"\"\n",
    "\n",
    "    def __init__(\n",
    "        self,\n",
    "        dropout_rate: float = 0.2\n",
    "        ):\n",
    "        super().__init__()\n",
    "\n",
    "        self.lstm_1 = layers.LSTM(\n",
    "            units=50,\n",
    "            return_sequences=True,\n",
    "            )\n",
    "\n",
    "        self.lstm_2 = layers.LSTM(\n",
    "            units=50,\n",
    "            return_sequences=True,\n",
    "            )\n",
    "\n",
    "        self.lstm_3 = layers.LSTM(\n",
    "            units=50,\n",
    "            return_sequences=False,\n",
    "            )\n",
    "\n",
    "        self.dense_1 = layers.Dense(\n",
    "            units=1\n",
    "            )\n",
    "\n",
    "        self.dropout_1 = layers.Dropout(dropout_rate)\n",
    "\n",
    "    def call(self, inputs):\n",
    "        x = self.lstm_1(inputs)\n",
    "        x = self.dropout_1(x)\n",
    "        x = self.lstm_2(inputs)\n",
    "        x = self.dropout_1(x)\n",
    "        x = self.lstm_3(inputs)\n",
    "        x = self.dropout_1(x)\n",
    "        return self.dense_1(x)"
   ]
  },
  {
   "cell_type": "markdown",
   "metadata": {},
   "source": [
    "## Fetch Data"
   ]
  },
  {
   "cell_type": "code",
   "execution_count": 4,
   "metadata": {},
   "outputs": [],
   "source": [
    "client = connectBinanceAPI()"
   ]
  },
  {
   "cell_type": "code",
   "execution_count": 5,
   "metadata": {},
   "outputs": [],
   "source": [
    "symbol = 'BTCUSDT'\n",
    "interval = '1h'\n",
    "\n",
    "start_str = int(datetime(2020,1,1,0,0).timestamp() * 1000)\n",
    "end_str   = int(datetime(2021,12,31,0,0).timestamp() * 1000)\n",
    "\n",
    "train_size, val_size, test_size = 0.5, 0.2, 0.3\n",
    "\n",
    "batch_size = 64\n",
    "input_sequence_length = 20\n",
    "forecast_horizon = 1\n",
    "multi_horizon = False\n"
   ]
  },
  {
   "cell_type": "code",
   "execution_count": 6,
   "metadata": {},
   "outputs": [],
   "source": [
    "data_raw_df = getBinanceData(\n",
    "    client=client,symbol=symbol,\n",
    "    interval=interval,\n",
    "    start_str=start_str,\n",
    "    end_str=end_str\n",
    "    )"
   ]
  },
  {
   "cell_type": "code",
   "execution_count": 7,
   "metadata": {},
   "outputs": [
    {
     "name": "stderr",
     "output_type": "stream",
     "text": [
      "/Users/taryn.tsui/Documents/Alvin/GitHub/alvinlui99/Algo Trading/humpback.py:94: SettingWithCopyWarning: \n",
      "A value is trying to be set on a copy of a slice from a DataFrame.\n",
      "Try using .loc[row_indexer,col_indexer] = value instead\n",
      "\n",
      "See the caveats in the documentation: https://pandas.pydata.org/pandas-docs/stable/user_guide/indexing.html#returning-a-view-versus-a-copy\n",
      "  data[f'SMA_{window}'] = sma(data, window) / data['Close']\n",
      "/Users/taryn.tsui/Documents/Alvin/GitHub/alvinlui99/Algo Trading/humpback.py:94: SettingWithCopyWarning: \n",
      "A value is trying to be set on a copy of a slice from a DataFrame.\n",
      "Try using .loc[row_indexer,col_indexer] = value instead\n",
      "\n",
      "See the caveats in the documentation: https://pandas.pydata.org/pandas-docs/stable/user_guide/indexing.html#returning-a-view-versus-a-copy\n",
      "  data[f'SMA_{window}'] = sma(data, window) / data['Close']\n",
      "/Users/taryn.tsui/Documents/Alvin/GitHub/alvinlui99/Algo Trading/humpback.py:94: SettingWithCopyWarning: \n",
      "A value is trying to be set on a copy of a slice from a DataFrame.\n",
      "Try using .loc[row_indexer,col_indexer] = value instead\n",
      "\n",
      "See the caveats in the documentation: https://pandas.pydata.org/pandas-docs/stable/user_guide/indexing.html#returning-a-view-versus-a-copy\n",
      "  data[f'SMA_{window}'] = sma(data, window) / data['Close']\n",
      "/Users/taryn.tsui/Documents/Alvin/GitHub/alvinlui99/Algo Trading/humpback.py:94: SettingWithCopyWarning: \n",
      "A value is trying to be set on a copy of a slice from a DataFrame.\n",
      "Try using .loc[row_indexer,col_indexer] = value instead\n",
      "\n",
      "See the caveats in the documentation: https://pandas.pydata.org/pandas-docs/stable/user_guide/indexing.html#returning-a-view-versus-a-copy\n",
      "  data[f'SMA_{window}'] = sma(data, window) / data['Close']\n",
      "/Users/taryn.tsui/Documents/Alvin/GitHub/alvinlui99/Algo Trading/humpback.py:99: SettingWithCopyWarning: \n",
      "A value is trying to be set on a copy of a slice from a DataFrame.\n",
      "Try using .loc[row_indexer,col_indexer] = value instead\n",
      "\n",
      "See the caveats in the documentation: https://pandas.pydata.org/pandas-docs/stable/user_guide/indexing.html#returning-a-view-versus-a-copy\n",
      "  data[f'SMA_DELTA_{sma_range[i]}_{sma_range[j]}'] = data[f'SMA_{sma_range[i]}'] - data[f'SMA_{sma_range[j]}']\n",
      "/Users/taryn.tsui/Documents/Alvin/GitHub/alvinlui99/Algo Trading/humpback.py:99: SettingWithCopyWarning: \n",
      "A value is trying to be set on a copy of a slice from a DataFrame.\n",
      "Try using .loc[row_indexer,col_indexer] = value instead\n",
      "\n",
      "See the caveats in the documentation: https://pandas.pydata.org/pandas-docs/stable/user_guide/indexing.html#returning-a-view-versus-a-copy\n",
      "  data[f'SMA_DELTA_{sma_range[i]}_{sma_range[j]}'] = data[f'SMA_{sma_range[i]}'] - data[f'SMA_{sma_range[j]}']\n",
      "/Users/taryn.tsui/Documents/Alvin/GitHub/alvinlui99/Algo Trading/humpback.py:99: SettingWithCopyWarning: \n",
      "A value is trying to be set on a copy of a slice from a DataFrame.\n",
      "Try using .loc[row_indexer,col_indexer] = value instead\n",
      "\n",
      "See the caveats in the documentation: https://pandas.pydata.org/pandas-docs/stable/user_guide/indexing.html#returning-a-view-versus-a-copy\n",
      "  data[f'SMA_DELTA_{sma_range[i]}_{sma_range[j]}'] = data[f'SMA_{sma_range[i]}'] - data[f'SMA_{sma_range[j]}']\n",
      "/Users/taryn.tsui/Documents/Alvin/GitHub/alvinlui99/Algo Trading/humpback.py:99: SettingWithCopyWarning: \n",
      "A value is trying to be set on a copy of a slice from a DataFrame.\n",
      "Try using .loc[row_indexer,col_indexer] = value instead\n",
      "\n",
      "See the caveats in the documentation: https://pandas.pydata.org/pandas-docs/stable/user_guide/indexing.html#returning-a-view-versus-a-copy\n",
      "  data[f'SMA_DELTA_{sma_range[i]}_{sma_range[j]}'] = data[f'SMA_{sma_range[i]}'] - data[f'SMA_{sma_range[j]}']\n",
      "/Users/taryn.tsui/Documents/Alvin/GitHub/alvinlui99/Algo Trading/humpback.py:99: SettingWithCopyWarning: \n",
      "A value is trying to be set on a copy of a slice from a DataFrame.\n",
      "Try using .loc[row_indexer,col_indexer] = value instead\n",
      "\n",
      "See the caveats in the documentation: https://pandas.pydata.org/pandas-docs/stable/user_guide/indexing.html#returning-a-view-versus-a-copy\n",
      "  data[f'SMA_DELTA_{sma_range[i]}_{sma_range[j]}'] = data[f'SMA_{sma_range[i]}'] - data[f'SMA_{sma_range[j]}']\n",
      "/Users/taryn.tsui/Documents/Alvin/GitHub/alvinlui99/Algo Trading/humpback.py:99: SettingWithCopyWarning: \n",
      "A value is trying to be set on a copy of a slice from a DataFrame.\n",
      "Try using .loc[row_indexer,col_indexer] = value instead\n",
      "\n",
      "See the caveats in the documentation: https://pandas.pydata.org/pandas-docs/stable/user_guide/indexing.html#returning-a-view-versus-a-copy\n",
      "  data[f'SMA_DELTA_{sma_range[i]}_{sma_range[j]}'] = data[f'SMA_{sma_range[i]}'] - data[f'SMA_{sma_range[j]}']\n",
      "/Users/taryn.tsui/Documents/Alvin/GitHub/alvinlui99/Algo Trading/humpback.py:109: SettingWithCopyWarning: \n",
      "A value is trying to be set on a copy of a slice from a DataFrame.\n",
      "Try using .loc[row_indexer,col_indexer] = value instead\n",
      "\n",
      "See the caveats in the documentation: https://pandas.pydata.org/pandas-docs/stable/user_guide/indexing.html#returning-a-view-versus-a-copy\n",
      "  data[f'EMA_{window}'] = ema(data, window) / data['Close']\n",
      "/Users/taryn.tsui/Documents/Alvin/GitHub/alvinlui99/Algo Trading/humpback.py:109: SettingWithCopyWarning: \n",
      "A value is trying to be set on a copy of a slice from a DataFrame.\n",
      "Try using .loc[row_indexer,col_indexer] = value instead\n",
      "\n",
      "See the caveats in the documentation: https://pandas.pydata.org/pandas-docs/stable/user_guide/indexing.html#returning-a-view-versus-a-copy\n",
      "  data[f'EMA_{window}'] = ema(data, window) / data['Close']\n",
      "/Users/taryn.tsui/Documents/Alvin/GitHub/alvinlui99/Algo Trading/humpback.py:109: SettingWithCopyWarning: \n",
      "A value is trying to be set on a copy of a slice from a DataFrame.\n",
      "Try using .loc[row_indexer,col_indexer] = value instead\n",
      "\n",
      "See the caveats in the documentation: https://pandas.pydata.org/pandas-docs/stable/user_guide/indexing.html#returning-a-view-versus-a-copy\n",
      "  data[f'EMA_{window}'] = ema(data, window) / data['Close']\n",
      "/Users/taryn.tsui/Documents/Alvin/GitHub/alvinlui99/Algo Trading/humpback.py:109: SettingWithCopyWarning: \n",
      "A value is trying to be set on a copy of a slice from a DataFrame.\n",
      "Try using .loc[row_indexer,col_indexer] = value instead\n",
      "\n",
      "See the caveats in the documentation: https://pandas.pydata.org/pandas-docs/stable/user_guide/indexing.html#returning-a-view-versus-a-copy\n",
      "  data[f'EMA_{window}'] = ema(data, window) / data['Close']\n",
      "/Users/taryn.tsui/Documents/Alvin/GitHub/alvinlui99/Algo Trading/humpback.py:114: SettingWithCopyWarning: \n",
      "A value is trying to be set on a copy of a slice from a DataFrame.\n",
      "Try using .loc[row_indexer,col_indexer] = value instead\n",
      "\n",
      "See the caveats in the documentation: https://pandas.pydata.org/pandas-docs/stable/user_guide/indexing.html#returning-a-view-versus-a-copy\n",
      "  data[f'EMA_DELTA_{ema_range[i]}_{ema_range[j]}'] = data[f'EMA_{ema_range[i]}'] - data[f'EMA_{ema_range[j]}']\n",
      "/Users/taryn.tsui/Documents/Alvin/GitHub/alvinlui99/Algo Trading/humpback.py:114: SettingWithCopyWarning: \n",
      "A value is trying to be set on a copy of a slice from a DataFrame.\n",
      "Try using .loc[row_indexer,col_indexer] = value instead\n",
      "\n",
      "See the caveats in the documentation: https://pandas.pydata.org/pandas-docs/stable/user_guide/indexing.html#returning-a-view-versus-a-copy\n",
      "  data[f'EMA_DELTA_{ema_range[i]}_{ema_range[j]}'] = data[f'EMA_{ema_range[i]}'] - data[f'EMA_{ema_range[j]}']\n",
      "/Users/taryn.tsui/Documents/Alvin/GitHub/alvinlui99/Algo Trading/humpback.py:114: SettingWithCopyWarning: \n",
      "A value is trying to be set on a copy of a slice from a DataFrame.\n",
      "Try using .loc[row_indexer,col_indexer] = value instead\n",
      "\n",
      "See the caveats in the documentation: https://pandas.pydata.org/pandas-docs/stable/user_guide/indexing.html#returning-a-view-versus-a-copy\n",
      "  data[f'EMA_DELTA_{ema_range[i]}_{ema_range[j]}'] = data[f'EMA_{ema_range[i]}'] - data[f'EMA_{ema_range[j]}']\n",
      "/Users/taryn.tsui/Documents/Alvin/GitHub/alvinlui99/Algo Trading/humpback.py:114: SettingWithCopyWarning: \n",
      "A value is trying to be set on a copy of a slice from a DataFrame.\n",
      "Try using .loc[row_indexer,col_indexer] = value instead\n",
      "\n",
      "See the caveats in the documentation: https://pandas.pydata.org/pandas-docs/stable/user_guide/indexing.html#returning-a-view-versus-a-copy\n",
      "  data[f'EMA_DELTA_{ema_range[i]}_{ema_range[j]}'] = data[f'EMA_{ema_range[i]}'] - data[f'EMA_{ema_range[j]}']\n",
      "/Users/taryn.tsui/Documents/Alvin/GitHub/alvinlui99/Algo Trading/humpback.py:114: SettingWithCopyWarning: \n",
      "A value is trying to be set on a copy of a slice from a DataFrame.\n",
      "Try using .loc[row_indexer,col_indexer] = value instead\n",
      "\n",
      "See the caveats in the documentation: https://pandas.pydata.org/pandas-docs/stable/user_guide/indexing.html#returning-a-view-versus-a-copy\n",
      "  data[f'EMA_DELTA_{ema_range[i]}_{ema_range[j]}'] = data[f'EMA_{ema_range[i]}'] - data[f'EMA_{ema_range[j]}']\n",
      "/Users/taryn.tsui/Documents/Alvin/GitHub/alvinlui99/Algo Trading/humpback.py:114: SettingWithCopyWarning: \n",
      "A value is trying to be set on a copy of a slice from a DataFrame.\n",
      "Try using .loc[row_indexer,col_indexer] = value instead\n",
      "\n",
      "See the caveats in the documentation: https://pandas.pydata.org/pandas-docs/stable/user_guide/indexing.html#returning-a-view-versus-a-copy\n",
      "  data[f'EMA_DELTA_{ema_range[i]}_{ema_range[j]}'] = data[f'EMA_{ema_range[i]}'] - data[f'EMA_{ema_range[j]}']\n",
      "/Users/taryn.tsui/Documents/Alvin/GitHub/alvinlui99/Algo Trading/humpback.py:143: SettingWithCopyWarning: \n",
      "A value is trying to be set on a copy of a slice from a DataFrame.\n",
      "Try using .loc[row_indexer,col_indexer] = value instead\n",
      "\n",
      "See the caveats in the documentation: https://pandas.pydata.org/pandas-docs/stable/user_guide/indexing.html#returning-a-view-versus-a-copy\n",
      "  data['RSI'] = rsi(data=data)\n",
      "/Users/taryn.tsui/Documents/Alvin/GitHub/alvinlui99/Algo Trading/humpback.py:146: SettingWithCopyWarning: \n",
      "A value is trying to be set on a copy of a slice from a DataFrame.\n",
      "Try using .loc[row_indexer,col_indexer] = value instead\n",
      "\n",
      "See the caveats in the documentation: https://pandas.pydata.org/pandas-docs/stable/user_guide/indexing.html#returning-a-view-versus-a-copy\n",
      "  data['MACD'] = macd(data=data)\n",
      "/Users/taryn.tsui/Documents/Alvin/GitHub/alvinlui99/Algo Trading/humpback.py:149: SettingWithCopyWarning: \n",
      "A value is trying to be set on a copy of a slice from a DataFrame.\n",
      "Try using .loc[row_indexer,col_indexer] = value instead\n",
      "\n",
      "See the caveats in the documentation: https://pandas.pydata.org/pandas-docs/stable/user_guide/indexing.html#returning-a-view-versus-a-copy\n",
      "  data['ATR'] = atr(data=data)\n",
      "/Users/taryn.tsui/Documents/Alvin/GitHub/alvinlui99/Algo Trading/humpback.py:155: SettingWithCopyWarning: \n",
      "A value is trying to be set on a copy of a slice from a DataFrame.\n",
      "Try using .loc[row_indexer,col_indexer] = value instead\n",
      "\n",
      "See the caveats in the documentation: https://pandas.pydata.org/pandas-docs/stable/user_guide/indexing.html#returning-a-view-versus-a-copy\n",
      "  data['BB_upper'] = (upper - close) / close\n",
      "/Users/taryn.tsui/Documents/Alvin/GitHub/alvinlui99/Algo Trading/humpback.py:156: SettingWithCopyWarning: \n",
      "A value is trying to be set on a copy of a slice from a DataFrame.\n",
      "Try using .loc[row_indexer,col_indexer] = value instead\n",
      "\n",
      "See the caveats in the documentation: https://pandas.pydata.org/pandas-docs/stable/user_guide/indexing.html#returning-a-view-versus-a-copy\n",
      "  data['BB_lower'] = (lower - close) / close\n",
      "/Users/taryn.tsui/Documents/Alvin/GitHub/alvinlui99/Algo Trading/humpback.py:157: SettingWithCopyWarning: \n",
      "A value is trying to be set on a copy of a slice from a DataFrame.\n",
      "Try using .loc[row_indexer,col_indexer] = value instead\n",
      "\n",
      "See the caveats in the documentation: https://pandas.pydata.org/pandas-docs/stable/user_guide/indexing.html#returning-a-view-versus-a-copy\n",
      "  data['BB_width'] = (upper - lower) / close\n",
      "/Users/taryn.tsui/Documents/Alvin/GitHub/alvinlui99/Algo Trading/humpback.py:160: SettingWithCopyWarning: \n",
      "A value is trying to be set on a copy of a slice from a DataFrame.\n",
      "Try using .loc[row_indexer,col_indexer] = value instead\n",
      "\n",
      "See the caveats in the documentation: https://pandas.pydata.org/pandas-docs/stable/user_guide/indexing.html#returning-a-view-versus-a-copy\n",
      "  data['garman_klass_vol'] = ((np.log(data['High'])-np.log(data['Low']))**2)/2-(2*np.log(2)-1)*((np.log(data['Close'])-np.log(data['Open']))**2)\n"
     ]
    }
   ],
   "source": [
    "data_df = getReturn(data_raw_df, 'Close')\n",
    "data_df = featureGeneration(data_df)\n",
    "X_data_df , y_data_df  = getXy(data_df , 'Return')"
   ]
  },
  {
   "cell_type": "code",
   "execution_count": 8,
   "metadata": {},
   "outputs": [],
   "source": [
    "X_train_df, X_val_df, X_test_df, X_scaler = preprocess(X_data_df, train_size, val_size, test_size, True)\n",
    "y_train_df, y_val_df, y_test_df, y_scaler = preprocess(y_data_df, train_size, val_size, test_size, True)"
   ]
  },
  {
   "cell_type": "code",
   "execution_count": 9,
   "metadata": {},
   "outputs": [],
   "source": [
    "train_dataset = keras.utils.timeseries_dataset_from_array(\n",
    "        X_train_df,\n",
    "        y_train_df,\n",
    "        sequence_length=input_sequence_length,\n",
    "        shuffle=False,\n",
    "    )"
   ]
  },
  {
   "cell_type": "code",
   "execution_count": 10,
   "metadata": {},
   "outputs": [],
   "source": [
    "val_dataset = keras.utils.timeseries_dataset_from_array(\n",
    "        X_val_df,\n",
    "        y_val_df,\n",
    "        sequence_length=input_sequence_length,\n",
    "        shuffle=False,\n",
    "    ) "
   ]
  },
  {
   "cell_type": "code",
   "execution_count": 11,
   "metadata": {},
   "outputs": [],
   "source": [
    "test_dataset = keras.utils.timeseries_dataset_from_array(\n",
    "        X_test_df,\n",
    "        None,\n",
    "        sequence_length=input_sequence_length,\n",
    "        shuffle=False,\n",
    "    ) "
   ]
  },
  {
   "cell_type": "markdown",
   "metadata": {},
   "source": [
    "## Model"
   ]
  },
  {
   "cell_type": "code",
   "execution_count": 12,
   "metadata": {},
   "outputs": [],
   "source": [
    "inputs  = keras.Input((\n",
    "    input_sequence_length,\n",
    "    X_train_df.shape[1]))\n",
    "outputs = LSTM_stack()(inputs)\n",
    "model   = keras.Model(inputs, outputs)"
   ]
  },
  {
   "cell_type": "code",
   "execution_count": 13,
   "metadata": {},
   "outputs": [],
   "source": [
    "optimizer = keras.optimizers.Adam()\n",
    "loss      = keras.losses.MeanSquaredError()\n",
    "\n",
    "model.compile(optimizer=optimizer,loss=loss)"
   ]
  },
  {
   "cell_type": "code",
   "execution_count": 14,
   "metadata": {},
   "outputs": [
    {
     "name": "stdout",
     "output_type": "stream",
     "text": [
      "Epoch 1/20\n"
     ]
    },
    {
     "name": "stderr",
     "output_type": "stream",
     "text": [
      "/Users/taryn.tsui/Documents/Alvin/GitHub/alvinlui99/Algo Trading/.venv/lib/python3.12/site-packages/keras/src/optimizers/base_optimizer.py:664: UserWarning: Gradients do not exist for variables ['kernel', 'recurrent_kernel', 'bias', 'kernel', 'recurrent_kernel', 'bias'] when minimizing the loss. If using `model.compile()`, did you forget to provide a `loss` argument?\n",
      "  warnings.warn(\n"
     ]
    },
    {
     "name": "stdout",
     "output_type": "stream",
     "text": [
      "\u001b[1m68/68\u001b[0m \u001b[32m━━━━━━━━━━━━━━━━━━━━\u001b[0m\u001b[37m\u001b[0m \u001b[1m5s\u001b[0m 34ms/step - loss: 0.0956 - val_loss: 0.1048\n",
      "Epoch 2/20\n",
      "\u001b[1m68/68\u001b[0m \u001b[32m━━━━━━━━━━━━━━━━━━━━\u001b[0m\u001b[37m\u001b[0m \u001b[1m2s\u001b[0m 25ms/step - loss: 0.0296 - val_loss: 0.0290\n",
      "Epoch 3/20\n",
      "\u001b[1m68/68\u001b[0m \u001b[32m━━━━━━━━━━━━━━━━━━━━\u001b[0m\u001b[37m\u001b[0m \u001b[1m2s\u001b[0m 25ms/step - loss: 0.0104 - val_loss: 0.0167\n",
      "Epoch 4/20\n",
      "\u001b[1m68/68\u001b[0m \u001b[32m━━━━━━━━━━━━━━━━━━━━\u001b[0m\u001b[37m\u001b[0m \u001b[1m3s\u001b[0m 26ms/step - loss: 0.0052 - val_loss: 0.0068\n",
      "Epoch 5/20\n",
      "\u001b[1m68/68\u001b[0m \u001b[32m━━━━━━━━━━━━━━━━━━━━\u001b[0m\u001b[37m\u001b[0m \u001b[1m3s\u001b[0m 25ms/step - loss: 0.0032 - val_loss: 0.0028\n",
      "Epoch 6/20\n",
      "\u001b[1m68/68\u001b[0m \u001b[32m━━━━━━━━━━━━━━━━━━━━\u001b[0m\u001b[37m\u001b[0m \u001b[1m2s\u001b[0m 25ms/step - loss: 0.0027 - val_loss: 0.0018\n",
      "Epoch 7/20\n",
      "\u001b[1m68/68\u001b[0m \u001b[32m━━━━━━━━━━━━━━━━━━━━\u001b[0m\u001b[37m\u001b[0m \u001b[1m2s\u001b[0m 25ms/step - loss: 0.0025 - val_loss: 0.0016\n",
      "Epoch 8/20\n",
      "\u001b[1m68/68\u001b[0m \u001b[32m━━━━━━━━━━━━━━━━━━━━\u001b[0m\u001b[37m\u001b[0m \u001b[1m2s\u001b[0m 25ms/step - loss: 0.0023 - val_loss: 0.0018\n",
      "Epoch 9/20\n",
      "\u001b[1m68/68\u001b[0m \u001b[32m━━━━━━━━━━━━━━━━━━━━\u001b[0m\u001b[37m\u001b[0m \u001b[1m2s\u001b[0m 25ms/step - loss: 0.0021 - val_loss: 0.0021\n",
      "Epoch 10/20\n",
      "\u001b[1m68/68\u001b[0m \u001b[32m━━━━━━━━━━━━━━━━━━━━\u001b[0m\u001b[37m\u001b[0m \u001b[1m2s\u001b[0m 24ms/step - loss: 0.0020 - val_loss: 0.0017\n",
      "Epoch 11/20\n",
      "\u001b[1m68/68\u001b[0m \u001b[32m━━━━━━━━━━━━━━━━━━━━\u001b[0m\u001b[37m\u001b[0m \u001b[1m2s\u001b[0m 24ms/step - loss: 0.0020 - val_loss: 0.0029\n",
      "Epoch 12/20\n",
      "\u001b[1m68/68\u001b[0m \u001b[32m━━━━━━━━━━━━━━━━━━━━\u001b[0m\u001b[37m\u001b[0m \u001b[1m2s\u001b[0m 25ms/step - loss: 0.0020 - val_loss: 0.0014\n",
      "Epoch 13/20\n",
      "\u001b[1m68/68\u001b[0m \u001b[32m━━━━━━━━━━━━━━━━━━━━\u001b[0m\u001b[37m\u001b[0m \u001b[1m2s\u001b[0m 25ms/step - loss: 0.0019 - val_loss: 0.0013\n",
      "Epoch 14/20\n",
      "\u001b[1m68/68\u001b[0m \u001b[32m━━━━━━━━━━━━━━━━━━━━\u001b[0m\u001b[37m\u001b[0m \u001b[1m2s\u001b[0m 26ms/step - loss: 0.0018 - val_loss: 0.0023\n",
      "Epoch 15/20\n",
      "\u001b[1m68/68\u001b[0m \u001b[32m━━━━━━━━━━━━━━━━━━━━\u001b[0m\u001b[37m\u001b[0m \u001b[1m2s\u001b[0m 24ms/step - loss: 0.0019 - val_loss: 0.0012\n",
      "Epoch 16/20\n",
      "\u001b[1m68/68\u001b[0m \u001b[32m━━━━━━━━━━━━━━━━━━━━\u001b[0m\u001b[37m\u001b[0m \u001b[1m2s\u001b[0m 24ms/step - loss: 0.0019 - val_loss: 0.0024\n",
      "Epoch 17/20\n",
      "\u001b[1m68/68\u001b[0m \u001b[32m━━━━━━━━━━━━━━━━━━━━\u001b[0m\u001b[37m\u001b[0m \u001b[1m2s\u001b[0m 24ms/step - loss: 0.0018 - val_loss: 0.0011\n",
      "Epoch 18/20\n",
      "\u001b[1m68/68\u001b[0m \u001b[32m━━━━━━━━━━━━━━━━━━━━\u001b[0m\u001b[37m\u001b[0m \u001b[1m2s\u001b[0m 24ms/step - loss: 0.0020 - val_loss: 0.0022\n",
      "Epoch 19/20\n",
      "\u001b[1m68/68\u001b[0m \u001b[32m━━━━━━━━━━━━━━━━━━━━\u001b[0m\u001b[37m\u001b[0m \u001b[1m2s\u001b[0m 24ms/step - loss: 0.0018 - val_loss: 0.0016\n",
      "Epoch 20/20\n",
      "\u001b[1m68/68\u001b[0m \u001b[32m━━━━━━━━━━━━━━━━━━━━\u001b[0m\u001b[37m\u001b[0m \u001b[1m2s\u001b[0m 25ms/step - loss: 0.0017 - val_loss: 0.0013\n"
     ]
    },
    {
     "data": {
      "text/plain": [
       "<keras.src.callbacks.history.History at 0x140748740>"
      ]
     },
     "execution_count": 14,
     "metadata": {},
     "output_type": "execute_result"
    }
   ],
   "source": [
    "model.fit(\n",
    "    train_dataset,\n",
    "    epochs=20,\n",
    "    validation_data=val_dataset\n",
    "    )"
   ]
  },
  {
   "cell_type": "code",
   "execution_count": 15,
   "metadata": {},
   "outputs": [
    {
     "name": "stdout",
     "output_type": "stream",
     "text": [
      "\u001b[1m41/41\u001b[0m \u001b[32m━━━━━━━━━━━━━━━━━━━━\u001b[0m\u001b[37m\u001b[0m \u001b[1m1s\u001b[0m 20ms/step\n"
     ]
    }
   ],
   "source": [
    "predictions = pd.DataFrame(model.predict(test_dataset), index=y_test_df.iloc[input_sequence_length-1:,].index)"
   ]
  },
  {
   "cell_type": "code",
   "execution_count": 17,
   "metadata": {},
   "outputs": [
    {
     "data": {
      "text/plain": [
       "<matplotlib.legend.Legend at 0x13f8bd850>"
      ]
     },
     "execution_count": 17,
     "metadata": {},
     "output_type": "execute_result"
    },
    {
     "data": {
      "image/png": "[encoded data removed]",
      "text/plain": [
       "<Figure size 640x480 with 1 Axes>"
      ]
     },
     "metadata": {},
     "output_type": "display_data"
    }
   ],
   "source": [
    "plt.plot(y_scaler.inverse_transform(y_test_df), color='red', label='Actual')\n",
    "plt.plot(y_scaler.inverse_transform(predictions), color='blue', label='Predicted')\n",
    "plt.title('LSTM BTC 1h')\n",
    "plt.legend() "
   ]
  },
  {
   "cell_type": "code",
   "execution_count": null,
   "metadata": {},
   "outputs": [],
   "source": [
    "\n"
   ]
  },
  {
   "cell_type": "code",
   "execution_count": null,
   "metadata": {},
   "outputs": [],
   "source": []
  },
  {
   "cell_type": "code",
   "execution_count": null,
   "metadata": {},
   "outputs": [],
   "source": []
  },
  {
   "cell_type": "code",
   "execution_count": null,
   "metadata": {},
   "outputs": [],
   "source": []
  }
 ],
 "metadata": {
  "kernelspec": {
   "display_name": "Python 3",
   "language": "python",
   "name": "python3"
  },
  "language_info": {
   "codemirror_mode": {
    "name": "ipython",
    "version": 3
   },
   "file_extension": ".py",
   "mimetype": "text/x-python",
   "name": "python",
   "nbconvert_exporter": "python",
   "pygments_lexer": "ipython3",
   "version": "3.12.4"
  }
 },
 "nbformat": 4,
 "nbformat_minor": 2
}
