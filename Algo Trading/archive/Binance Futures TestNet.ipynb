{
 "cells": [
  {
   "cell_type": "code",
   "execution_count": 1,
   "id": "616d6297-b1d6-4d43-a4ef-0e53fa45651d",
   "metadata": {},
   "outputs": [],
   "source": [
    "from binance.websocket.um_futures.websocket_client import UMFuturesWebsocketClient\n",
    "\n",
    "import json\n",
    "import time\n",
    "import datetime\n",
    "import numpy as np\n",
    "import pandas as pd\n",
    "from collections import deque\n",
    "import asyncio\n",
    "import requests\n",
    "\n",
    "pd.options.mode.copy_on_write = True"
   ]
  },
  {
   "cell_type": "code",
   "execution_count": null,
   "id": "a5a518fe-fff2-4d4a-83b6-285b03f04ee9",
   "metadata": {},
   "outputs": [],
   "source": [
    "# Test Net API Key and Secret\n",
    "API_KEY = \"b88d219ce4b7f4408ab0f51fc8be1730b264904e48e9a6ac7c7fa716e1e18dc7\"\n",
    "API_SECRET = \"15acdeca3bb1dd761e472034c8b09bb597e165d18c69e485738ccf9a3aa4326a\""
   ]
  },
  {
   "cell_type": "code",
   "execution_count": 7,
   "id": "2a81cc6c-5605-4063-b6a2-27477dc0b8f7",
   "metadata": {},
   "outputs": [],
   "source": [
    "base_url_REST_testnet = \"https://testnet.binancefuture.com\"\n",
    "base_url_WS_testnet = \"wss://stream.binancefuture.com\""
   ]
  },
  {
   "cell_type": "markdown",
   "id": "60aba9f3",
   "metadata": {},
   "source": [
    "## WebSocket"
   ]
  },
  {
   "cell_type": "code",
   "execution_count": 2,
   "id": "493107f3",
   "metadata": {},
   "outputs": [],
   "source": [
    "def on_message(_, message):\n",
    "    trade_data = json.loads(message)\n",
    "    print(f\"\"\"\n",
    "    Timestamp: {trade_data['T']}\n",
    "    Price: {trade_data['p']}\n",
    "    Quantity: {trade_data['q']}\n",
    "    ---\n",
    "    \"\"\")"
   ]
  },
  {
   "cell_type": "code",
   "execution_count": 3,
   "id": "c4015c2e",
   "metadata": {},
   "outputs": [],
   "source": [
    "def on_error(_, error):\n",
    "    print(json.loads(error))"
   ]
  },
  {
   "cell_type": "code",
   "execution_count": 4,
   "id": "8f827e9e",
   "metadata": {},
   "outputs": [],
   "source": [
    "def on_close(_):\n",
    "    print(\"WebSocket Connection Closed\")"
   ]
  },
  {
   "cell_type": "code",
   "execution_count": 5,
   "id": "2bacda69",
   "metadata": {},
   "outputs": [],
   "source": [
    "def on_open(_):\n",
    "    print(\"WebSocket Connection Opened\")"
   ]
  },
  {
   "cell_type": "code",
   "execution_count": 8,
   "id": "58c4c80b",
   "metadata": {},
   "outputs": [
    {
     "name": "stdout",
     "output_type": "stream",
     "text": [
      "WebSocket Connection Opened\n"
     ]
    }
   ],
   "source": [
    "ws_client = UMFuturesWebsocketClient(stream_url=base_url_WS_testnet,\n",
    "                                     on_message=on_message,\n",
    "                                     on_error=on_error,\n",
    "                                     on_close=on_close,\n",
    "                                     on_open=on_open)"
   ]
  },
  {
   "cell_type": "code",
   "execution_count": 9,
   "id": "dbd5d33b",
   "metadata": {},
   "outputs": [
    {
     "name": "stderr",
     "output_type": "stream",
     "text": [
      "Error from callback <function on_message at 0x0000018E5407E200>: 'T'\n",
      "Exception in thread Thread-3:\n",
      "Traceback (most recent call last):\n",
      "  File \"c:\\Users\\Alvin Lui\\anaconda3\\envs\\humpback\\Lib\\site-packages\\binance\\websocket\\binance_socket_manager.py\", line 108, in _callback\n",
      "    callback(self, *args)\n",
      "  File \"C:\\Users\\Alvin Lui\\AppData\\Local\\Temp\\ipykernel_15800\\2435769279.py\", line 4, in on_message\n",
      "KeyError: 'T'\n",
      "\n",
      "During handling of the above exception, another exception occurred:\n",
      "\n",
      "Traceback (most recent call last):\n",
      "  File \"c:\\Users\\Alvin Lui\\anaconda3\\envs\\humpback\\Lib\\threading.py\", line 1075, in _bootstrap_inner\n",
      "    self.run()\n",
      "  File \"c:\\Users\\Alvin Lui\\anaconda3\\envs\\humpback\\Lib\\site-packages\\binance\\websocket\\binance_socket_manager.py\", line 55, in run\n",
      "    self.read_data()\n",
      "  File \"c:\\Users\\Alvin Lui\\anaconda3\\envs\\humpback\\Lib\\site-packages\\binance\\websocket\\binance_socket_manager.py\", line 96, in read_data\n",
      "    self._callback(self.on_message, data)\n",
      "  File \"c:\\Users\\Alvin Lui\\anaconda3\\envs\\humpback\\Lib\\site-packages\\binance\\websocket\\binance_socket_manager.py\", line 112, in _callback\n",
      "    self.on_error(self, e)\n",
      "  File \"C:\\Users\\Alvin Lui\\AppData\\Local\\Temp\\ipykernel_15800\\989136036.py\", line 2, in on_error\n",
      "  File \"c:\\Users\\Alvin Lui\\anaconda3\\envs\\humpback\\Lib\\json\\__init__.py\", line 339, in loads\n",
      "    raise TypeError(f'the JSON object must be str, bytes or bytearray, '\n",
      "TypeError: the JSON object must be str, bytes or bytearray, not KeyError\n"
     ]
    }
   ],
   "source": [
    "# Subscribe to a single symbol stream\n",
    "ws_client.agg_trade(symbol=\"ETHUSDT\", speed=3)\n",
    "time.sleep(5)"
   ]
  },
  {
   "cell_type": "code",
   "execution_count": null,
   "id": "309b6efa-9f3e-4fa1-91c6-d8bb3a731e67",
   "metadata": {},
   "outputs": [],
   "source": [
    "def cal_rolling_zScore(df,\n",
    "                       window_size: int=14):\n",
    "    # Calculate rolling mean and rolling standard deviation\n",
    "    df['Rolling Mean'] = df['Close'].rolling(window=window_size).mean()\n",
    "    df['Rolling Std']  = df['Close'].rolling(window=window_size).std()\n",
    "    \n",
    "    # Calculate the rolling z-score\n",
    "    df['Rolling Z Score'] = (df['Close'] - df['Rolling Mean']) / df['Rolling Std']\n",
    "    return df.dropna()"
   ]
  },
  {
   "cell_type": "code",
   "execution_count": null,
   "id": "1f112fc8-e055-449e-92a5-5da5d88cbca7",
   "metadata": {},
   "outputs": [],
   "source": [
    "symbols = ['BTCUSDT', 'ETHUSDT']"
   ]
  },
  {
   "cell_type": "markdown",
   "id": "30fb6564-f2ab-4999-912d-c9fe2bfa9595",
   "metadata": {},
   "source": [
    "## Choose 5m as trading interval"
   ]
  },
  {
   "cell_type": "code",
   "execution_count": null,
   "id": "d03094c0-6997-4629-ae60-9c3819f53730",
   "metadata": {},
   "outputs": [],
   "source": [
    "# for symbol in symbols:\n",
    "#     data[symbol] = cal_rolling_zScore(data[symbol])"
   ]
  },
  {
   "cell_type": "code",
   "execution_count": null,
   "id": "4463b145-2056-4c90-9df5-4d15f01a47bb",
   "metadata": {},
   "outputs": [],
   "source": [
    "# spread_df = pd.DataFrame(index=data['BTCUSDT'].index.intersection(data['ETHUSDT'].index))\n",
    "\n",
    "# # k is the ratio between BTC and ETH\n",
    "# # To calculate the adjusted spread, the formula is\n",
    "# # Z_X - k * Z_Y for assets X and Y\n",
    "\n",
    "# spread_df['k'] = (data['ETHUSDT']['Rolling Std'] / data['BTCUSDT']['Rolling Std']).clip(4, 0)\n",
    "# spread_df['Adjusted Spread'] = data['BTCUSDT']['Rolling Z Score'] - spread_df['k'] * data['BTCUSDT']['Rolling Z Score']\n",
    "\n",
    "# # When the Spread is Positive, it means that BTC is overpriced.\n",
    "# # Therefore, the strategy is short BTC and long ETH"
   ]
  },
  {
   "cell_type": "markdown",
   "id": "55cd29f4-0722-4f78-87c2-feaeecb896aa",
   "metadata": {},
   "source": [
    "## Trading Futures with API"
   ]
  },
  {
   "cell_type": "code",
   "execution_count": null,
   "id": "ee2cd504-8498-4110-874b-98955750d2af",
   "metadata": {},
   "outputs": [],
   "source": [
    "leverage = 2\n",
    "buffer = deque(maxlen=100)"
   ]
  },
  {
   "cell_type": "code",
   "execution_count": null,
   "id": "b6f63541",
   "metadata": {},
   "outputs": [],
   "source": [
    "def on_message(buffer, data):\n",
    "    buffer.append(data)\n",
    "    df = pd.DataFrame(buffer)\n",
    "    return (buffer, df)"
   ]
  },
  {
   "cell_type": "code",
   "execution_count": null,
   "id": "f24747d3-ad9e-4f06-b00f-4731cc52162d",
   "metadata": {},
   "outputs": [],
   "source": [
    "# Change leverage\n",
    "params = {\n",
    "    'symbol': symbol,\n",
    "    'leverage': leverage\n",
    "}\n",
    "\n",
    "response = um_futures_client.change_leverage(**params)\n",
    "print(response)"
   ]
  },
  {
   "cell_type": "code",
   "execution_count": null,
   "id": "a17d4cc4-0e43-4d72-8db1-a3915504c3c4",
   "metadata": {},
   "outputs": [],
   "source": [
    "# # Post a new order\n",
    "# params = {\n",
    "#     'symbol': symbol,\n",
    "#     'side': 'SELL',\n",
    "#     'type': 'LIMIT',\n",
    "#     'timeInForce': 'GTC',\n",
    "#     'quantity': 25,\n",
    "#     'price': 2540\n",
    "# }\n",
    "\n",
    "# response = um_futures_client.new_order(**params)"
   ]
  },
  {
   "cell_type": "code",
   "execution_count": null,
   "id": "6518cff3-6b47-4691-b8c0-344ddd6dc0d6",
   "metadata": {},
   "outputs": [],
   "source": [
    "# params = {\n",
    "#     'symbol': symbol,\n",
    "#     'side': 'BUY',\n",
    "#     'type': 'MARKET',\n",
    "#     'quantity': 1\n",
    "# }\n",
    "\n",
    "# response = um_futures_client.new_order(**params)\n",
    "# print(printable_json(response))"
   ]
  },
  {
   "cell_type": "code",
   "execution_count": null,
   "id": "32144dd0-8aca-4833-b7f2-9cf8964c647b",
   "metadata": {},
   "outputs": [],
   "source": [
    "# params = {\n",
    "#     'symbol': symbol,\n",
    "#     'side': 'SELL',\n",
    "#     'type': 'STOP_MARKET',\n",
    "#     'quantity': 1,\n",
    "#     'stopPrice': 2600\n",
    "# }\n",
    "\n",
    "# response = um_futures_client.new_order(**params)\n",
    "# print(printable_json(response))"
   ]
  },
  {
   "cell_type": "code",
   "execution_count": null,
   "id": "1c9d0fd5-95bf-4125-b791-4a866fcb2466",
   "metadata": {},
   "outputs": [],
   "source": [
    "# # Post a new order\n",
    "# params = {\n",
    "#     'symbol': symbol\n",
    "# }\n",
    "\n",
    "# response = um_futures_client.get_position_margin_history(**params)\n",
    "# print(printable_json(response))"
   ]
  },
  {
   "cell_type": "code",
   "execution_count": null,
   "id": "66558d10-ec67-476c-8cfb-9e0c97f3ba66",
   "metadata": {},
   "outputs": [],
   "source": [
    "# response = um_futures_client.get_position_risk(**params)\n",
    "# print(printable_json(response))"
   ]
  },
  {
   "cell_type": "code",
   "execution_count": null,
   "id": "1f88de0f-f691-432d-97c4-0d852e965e73",
   "metadata": {},
   "outputs": [],
   "source": [
    "# def printable_json(response):\n",
    "#     return json.dumps(response, indent = 4)"
   ]
  },
  {
   "cell_type": "code",
   "execution_count": null,
   "id": "5f48c4d2-9cb4-428f-b031-10fc2bc4c026",
   "metadata": {},
   "outputs": [],
   "source": []
  },
  {
   "cell_type": "code",
   "execution_count": null,
   "id": "08cf1a9b-fe3d-49b7-91ec-06b9951fb730",
   "metadata": {},
   "outputs": [],
   "source": []
  },
  {
   "cell_type": "code",
   "execution_count": null,
   "id": "5db4c987-5ebf-44ac-be77-edd9846b7c99",
   "metadata": {},
   "outputs": [],
   "source": []
  }
 ],
 "metadata": {
  "kernelspec": {
   "display_name": "humpback",
   "language": "python",
   "name": "python3"
  },
  "language_info": {
   "codemirror_mode": {
    "name": "ipython",
    "version": 3
   },
   "file_extension": ".py",
   "mimetype": "text/x-python",
   "name": "python",
   "nbconvert_exporter": "python",
   "pygments_lexer": "ipython3",
   "version": "3.12.7"
  }
 },
 "nbformat": 4,
 "nbformat_minor": 5
}
