{
 "cells": [
  {
   "cell_type": "code",
   "execution_count": 1,
   "metadata": {},
   "outputs": [],
   "source": [
    "from humpback import *\n",
    "\n",
    "from datetime import datetime\n",
    "import pandas as pd"
   ]
  },
  {
   "cell_type": "markdown",
   "metadata": {},
   "source": [
    "## Fetch Data"
   ]
  },
  {
   "cell_type": "code",
   "execution_count": 2,
   "metadata": {},
   "outputs": [],
   "source": [
    "client = connectBinanceAPI()"
   ]
  },
  {
   "cell_type": "code",
   "execution_count": 3,
   "metadata": {},
   "outputs": [],
   "source": [
    "intervals = ['15m', '30m', '1h']\n",
    "\n",
    "start_str = int(datetime(2020,1,1,0,0).timestamp() * 1000)\n",
    "end_str   = int(datetime(2023,12,31,0,0).timestamp() * 1000)"
   ]
  },
  {
   "cell_type": "code",
   "execution_count": 4,
   "metadata": {},
   "outputs": [],
   "source": [
    "tickers = client.get_ticker()"
   ]
  },
  {
   "cell_type": "code",
   "execution_count": 5,
   "metadata": {},
   "outputs": [],
   "source": [
    "symbols = []\n",
    "for ticker in tickers:\n",
    "    symbols.append(ticker['symbol'])"
   ]
  },
  {
   "cell_type": "code",
   "execution_count": 6,
   "metadata": {},
   "outputs": [],
   "source": [
    "filtered_symbols = [symbol for symbol in symbols if symbol.endswith('USDT')]"
   ]
  },
  {
   "cell_type": "code",
   "execution_count": 10,
   "metadata": {},
   "outputs": [],
   "source": [
    "skipped_symbols = []\n",
    "counter = 0\n",
    "for symbol in filtered_symbols:\n",
    "    kline_test_start = client.get_historical_klines(\n",
    "        symbol=symbol,\n",
    "        interval=\"15m\",\n",
    "        start_str=start_str,\n",
    "        end_str=start_str+1)\n",
    "    kline_test_end = client.get_historical_klines(\n",
    "        symbol=symbol,\n",
    "        interval=\"15m\",\n",
    "        start_str=end_str,\n",
    "        end_str=end_str+1)\n",
    "    if kline_test_start and kline_test_end:\n",
    "        counter += 1\n",
    "        for interval in intervals:\n",
    "            getBinanceData(\n",
    "                client=client,\n",
    "                symbol=symbol,\n",
    "                interval=interval,\n",
    "                start_str=start_str,\n",
    "                end_str=end_str\n",
    "                ).to_csv(f'Binance Data (fast)/{interval}/{symbol}.csv')\n",
    "        if counter == 10:\n",
    "            break\n",
    "    else:\n",
    "        skipped_symbols.append(symbol)"
   ]
  }
 ],
 "metadata": {
  "kernelspec": {
   "display_name": "Python 3",
   "language": "python",
   "name": "python3"
  },
  "language_info": {
   "codemirror_mode": {
    "name": "ipython",
    "version": 3
   },
   "file_extension": ".py",
   "mimetype": "text/x-python",
   "name": "python",
   "nbconvert_exporter": "python",
   "pygments_lexer": "ipython3",
   "version": "3.12.4"
  }
 },
 "nbformat": 4,
 "nbformat_minor": 2
}
