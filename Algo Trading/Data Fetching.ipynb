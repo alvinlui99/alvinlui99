{
 "cells": [
  {
   "cell_type": "code",
   "execution_count": 1,
   "metadata": {},
   "outputs": [],
   "source": [
    "from humpback import *\n",
    "\n",
    "from datetime import datetime\n",
    "import pandas as pd"
   ]
  },
  {
   "cell_type": "markdown",
   "metadata": {},
   "source": [
    "## Fetch Data"
   ]
  },
  {
   "cell_type": "code",
   "execution_count": 2,
   "metadata": {},
   "outputs": [],
   "source": [
    "client = connectBinanceAPI()"
   ]
  },
  {
   "cell_type": "code",
   "execution_count": 3,
   "metadata": {},
   "outputs": [],
   "source": [
    "interval = '1h'\n",
    "\n",
    "start_str = int(datetime(2020,1,1,0,0).timestamp() * 1000)\n",
    "end_str   = int(datetime(2021,12,31,0,0).timestamp() * 1000)"
   ]
  },
  {
   "cell_type": "code",
   "execution_count": 4,
   "metadata": {},
   "outputs": [],
   "source": [
    "tickers = client.get_ticker()"
   ]
  },
  {
   "cell_type": "code",
   "execution_count": 7,
   "metadata": {},
   "outputs": [],
   "source": [
    "symbols = []\n",
    "for ticker in tickers:\n",
    "    symbols.append(ticker['symbol'])"
   ]
  },
  {
   "cell_type": "code",
   "execution_count": 8,
   "metadata": {},
   "outputs": [],
   "source": [
    "filtered_symbols = [symbol for symbol in symbols if symbol.endswith('USDT')]"
   ]
  },
  {
   "cell_type": "code",
   "execution_count": 15,
   "metadata": {},
   "outputs": [],
   "source": [
    "skipped_symbols = []\n",
    "for symbol in filtered_symbols:\n",
    "    kline_test_start = client.get_historical_klines(\n",
    "        symbol=symbol,\n",
    "        interval=interval,\n",
    "        start_str=start_str,\n",
    "        end_str=start_str+1)\n",
    "    kline_test_end = client.get_historical_klines(\n",
    "        symbol=symbol,\n",
    "        interval=interval,\n",
    "        start_str=end_str,\n",
    "        end_str=end_str+1)\n",
    "    if kline_test_start and kline_test_end:\n",
    "        data_raw_df = getBinanceData(\n",
    "            client=client,\n",
    "            symbol=symbol,\n",
    "            interval=interval,\n",
    "            start_str=start_str,\n",
    "            end_str=end_str\n",
    "            )\n",
    "        data_raw_df.to_csv(f'Binance Data/{symbol}.csv')\n",
    "    else:\n",
    "        skipped_symbols.append(symbol)"
   ]
  }
 ],
 "metadata": {
  "kernelspec": {
   "display_name": "Python 3",
   "language": "python",
   "name": "python3"
  },
  "language_info": {
   "codemirror_mode": {
    "name": "ipython",
    "version": 3
   },
   "file_extension": ".py",
   "mimetype": "text/x-python",
   "name": "python",
   "nbconvert_exporter": "python",
   "pygments_lexer": "ipython3",
   "version": "3.12.4"
  }
 },
 "nbformat": 4,
 "nbformat_minor": 2
}
