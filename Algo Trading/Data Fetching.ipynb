{
 "cells": [
  {
   "cell_type": "code",
   "execution_count": 1,
   "metadata": {},
   "outputs": [],
   "source": [
    "from humpback import *\n",
    "\n",
    "from datetime import datetime\n",
    "import pandas as pd"
   ]
  },
  {
   "cell_type": "markdown",
   "metadata": {},
   "source": [
    "## Fetch Data"
   ]
  },
  {
   "cell_type": "code",
   "execution_count": 2,
   "metadata": {},
   "outputs": [],
   "source": [
    "client = connectBinanceAPI()"
   ]
  },
  {
   "cell_type": "code",
   "execution_count": 8,
   "metadata": {},
   "outputs": [],
   "source": [
    "intervals = ['15m', '30m', '1h']\n",
    "\n",
    "start_training = int(datetime(2020,1,1,0,0).timestamp() * 1000)\n",
    "end_training   = int(datetime(2021,12,31,0,0).timestamp() * 1000)\n",
    "start_validation = int(datetime(2022,1,1,0,0).timestamp() * 1000)\n",
    "end_validation   = int(datetime(2022,12,31,0,0).timestamp() * 1000)\n",
    "start_testing = int(datetime(2023,1,1,0,0).timestamp() * 1000)\n",
    "end_testing   = int(datetime(2023,12,31,0,0).timestamp() * 1000)\n",
    "\n",
    "symbols = [\n",
    "    \"ADAUSDT\",\n",
    "    \"BNBUSDT\",\n",
    "    \"BTCUSDT\",\n",
    "    \"EOSUSDT\",\n",
    "    \"ETHUSDT\",\n",
    "    \"LTCUSDT\",\n",
    "    \"NEOUSDT\",\n",
    "    \"QTUMUSDT\",\n",
    "    \"XRPUSDT\"\n",
    "]"
   ]
  },
  {
   "cell_type": "code",
   "execution_count": 9,
   "metadata": {},
   "outputs": [],
   "source": [
    "for symbol in symbols:\n",
    "    for interval in intervals:\n",
    "        getBinanceData(\n",
    "            client=client,\n",
    "            symbol=symbol,\n",
    "            interval=interval,\n",
    "            start_str=start_training,\n",
    "            end_str=end_training\n",
    "            ).to_csv(f'Binance Data/Training/{interval}/{symbol}.csv')\n",
    "        getBinanceData(\n",
    "            client=client,\n",
    "            symbol=symbol,\n",
    "            interval=interval,\n",
    "            start_str=start_validation,\n",
    "            end_str=end_validation\n",
    "            ).to_csv(f'Binance Data/Validation/{interval}/{symbol}.csv')\n",
    "        getBinanceData(\n",
    "            client=client,\n",
    "            symbol=symbol,\n",
    "            interval=interval,\n",
    "            start_str=start_testing,\n",
    "            end_str=end_testing\n",
    "            ).to_csv(f'Binance Data/Testing/{interval}/{symbol}.csv')"
   ]
  },
  {
   "cell_type": "code",
   "execution_count": null,
   "metadata": {},
   "outputs": [],
   "source": []
  }
 ],
 "metadata": {
  "kernelspec": {
   "display_name": "Python 3",
   "language": "python",
   "name": "python3"
  },
  "language_info": {
   "codemirror_mode": {
    "name": "ipython",
    "version": 3
   },
   "file_extension": ".py",
   "mimetype": "text/x-python",
   "name": "python",
   "nbconvert_exporter": "python",
   "pygments_lexer": "ipython3",
   "version": "3.12.4"
  }
 },
 "nbformat": 4,
 "nbformat_minor": 2
}
