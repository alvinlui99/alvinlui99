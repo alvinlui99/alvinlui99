{
 "cells": [
  {
   "cell_type": "code",
   "execution_count": 7,
   "metadata": {},
   "outputs": [],
   "source": [
    "from humpback import *\n",
    "\n",
    "from datetime import datetime\n",
    "import pandas as pd"
   ]
  },
  {
   "cell_type": "markdown",
   "metadata": {},
   "source": [
    "## Fetch Data"
   ]
  },
  {
   "cell_type": "code",
   "execution_count": 8,
   "metadata": {},
   "outputs": [],
   "source": [
    "client = connectBinanceAPI()"
   ]
  },
  {
   "cell_type": "code",
   "execution_count": 9,
   "metadata": {},
   "outputs": [],
   "source": [
    "intervals = ['15m']\n",
    "\n",
    "start = int(datetime(2020,1,1,0,0).timestamp() * 1000)\n",
    "end = int(datetime(2023,12,31,0,0).timestamp() * 1000)\n",
    "\n",
    "start_test = int(datetime(2020,1,2,0,0).timestamp() * 1000)\n",
    "end_test = int(datetime(2023,12,30,0,0).timestamp() * 1000)"
   ]
  },
  {
   "cell_type": "code",
   "execution_count": 13,
   "metadata": {},
   "outputs": [],
   "source": [
    "tickers = client.get_all_tickers()\n",
    "symbols = [t['symbol'] for t in tickers]"
   ]
  },
  {
   "cell_type": "code",
   "execution_count": 37,
   "metadata": {},
   "outputs": [
    {
     "name": "stdout",
     "output_type": "stream",
     "text": [
      "0\n",
      "50\n",
      "100\n",
      "150\n",
      "200\n",
      "250\n",
      "300\n",
      "350\n",
      "400\n",
      "450\n",
      "500\n",
      "550\n",
      "600\n",
      "650\n",
      "700\n",
      "750\n",
      "800\n",
      "850\n",
      "900\n",
      "950\n",
      "1000\n",
      "1050\n",
      "1100\n",
      "1150\n",
      "1200\n",
      "1250\n",
      "1300\n",
      "1350\n",
      "1400\n",
      "1450\n",
      "1500\n",
      "1550\n",
      "1600\n",
      "1650\n",
      "1700\n",
      "1750\n",
      "1800\n",
      "1850\n",
      "1900\n",
      "1950\n",
      "2000\n",
      "2050\n",
      "2100\n",
      "2150\n",
      "2200\n",
      "2250\n",
      "2300\n",
      "2350\n",
      "2400\n",
      "2450\n",
      "2500\n",
      "2550\n",
      "2600\n",
      "2650\n",
      "2700\n",
      "2750\n"
     ]
    }
   ],
   "source": [
    "symbols_filtered = []\n",
    "counter = 0\n",
    "interval = '1d'\n",
    "\n",
    "for idx, symbol in enumerate(symbols):\n",
    "    test = client.get_historical_klines(symbol=symbol,\n",
    "                                        interval=interval,\n",
    "                                        start_str=start,\n",
    "                                        end_str=start_test)\n",
    "    if test: # True if test is NOT empty\n",
    "        test = client.get_historical_klines(symbol=symbol,\n",
    "                                            interval=interval,\n",
    "                                            start_str=end_test,\n",
    "                                            end_str=end)\n",
    "        if test: # True if test is NOT empty\n",
    "            symbols_filtered.append(symbol)\n",
    "    if idx % 50 == 0:\n",
    "        progress = (idx + 1) / len(symbols) * 100\n",
    "        print(f'Progress: {progress:.2f}%')"
   ]
  },
  {
   "cell_type": "code",
   "execution_count": 45,
   "metadata": {},
   "outputs": [
    {
     "name": "stdout",
     "output_type": "stream",
     "text": [
      "Progress: 0.42%\n",
      "Progress: 8.75%\n",
      "Progress: 17.08%\n",
      "Progress: 25.42%\n",
      "Progress: 33.75%\n",
      "Progress: 42.08%\n",
      "Progress: 50.42%\n",
      "Progress: 58.75%\n",
      "Progress: 67.08%\n",
      "Progress: 75.42%\n",
      "Progress: 83.75%\n",
      "Progress: 92.08%\n"
     ]
    }
   ],
   "source": [
    "counter = 0\n",
    "interval = '15m'\n",
    "for idx, symbol in enumerate(symbols_filtered):\n",
    "    getBinanceData(\n",
    "        client=client,\n",
    "        symbol=symbol,\n",
    "        interval=interval,\n",
    "        start_str=start,\n",
    "        end_str=end\n",
    "        ).to_csv(f'Binance Data/{interval}/{symbol}.csv')\n",
    "    if idx % 20 == 0:\n",
    "        progress = (idx + 1) / len(symbols_filtered) * 100\n",
    "        print(f'Progress: {progress:.2f}%')"
   ]
  },
  {
   "cell_type": "code",
   "execution_count": 90,
   "metadata": {},
   "outputs": [],
   "source": [
    "with open('Binance Data/symbols_list.txt', 'w') as file:\n",
    "    for symbol in symbols_filtered:\n",
    "        file.write(f'{symbol}\\n')"
   ]
  },
  {
   "cell_type": "code",
   "execution_count": 89,
   "metadata": {},
   "outputs": [
    {
     "name": "stdout",
     "output_type": "stream",
     "text": [
      "Progress: 0.42%\n",
      "Progress: 8.75%\n",
      "Progress: 17.08%\n",
      "Progress: 25.42%\n",
      "Progress: 33.75%\n",
      "Progress: 42.08%\n",
      "Progress: 50.42%\n",
      "Progress: 58.75%\n",
      "Progress: 67.08%\n",
      "Progress: 75.42%\n",
      "Progress: 83.75%\n",
      "Progress: 92.08%\n"
     ]
    }
   ],
   "source": [
    "interval = '15m'\n",
    "for idx, symbol in enumerate(symbols_filtered):\n",
    "   df = pd.read_csv(f'Binance Data/{interval}/{symbol}.csv')\n",
    "   df['index'] = pd.to_datetime(df['index'])\n",
    "   df.set_index('index', inplace=True)\n",
    "   df = df.astype(float)\n",
    "\n",
    "   df[df.index < pd.to_datetime('2021-01-01 00:00:00')].to_csv(f'Binance Data/{interval}/2020/{symbol}.csv')\n",
    "   df[(df.index >= pd.to_datetime('2021-01-01 00:00:00')) &\n",
    "      (df.index <  pd.to_datetime('2022-01-01 00:00:00'))].to_csv(f'Binance Data/{interval}/2021/{symbol}.csv')\n",
    "   df[(df.index >= pd.to_datetime('2022-01-01 00:00:00')) &\n",
    "      (df.index <  pd.to_datetime('2023-01-01 00:00:00'))].to_csv(f'Binance Data/{interval}/2022/{symbol}.csv')\n",
    "   df[(df.index >= pd.to_datetime('2023-01-01 00:00:00')) &\n",
    "      (df.index <  pd.to_datetime('2024-01-01 00:00:00'))].to_csv(f'Binance Data/{interval}/2023/{symbol}.csv')\n",
    "\n",
    "   if idx % 20 == 0:\n",
    "      progress = (idx + 1) / len(symbols_filtered) * 100\n",
    "      print(f'Progress: {progress:.2f}%')"
   ]
  },
  {
   "cell_type": "code",
   "execution_count": 112,
   "metadata": {},
   "outputs": [],
   "source": [
    "coins = []\n",
    "for symbol in symbols_filtered:\n",
    "    if symbol.endswith('BTC'):\n",
    "        coins.append(symbol[:len(symbol)-3])"
   ]
  },
  {
   "cell_type": "code",
   "execution_count": 113,
   "metadata": {},
   "outputs": [],
   "source": [
    "symbols_not_traded = []\n",
    "\n",
    "for symbol in symbols_filtered:\n",
    "    flag = True\n",
    "    for coin in coins:\n",
    "        if symbol[:len(coin)] == coin:\n",
    "            flag = False\n",
    "            break\n",
    "    if flag:\n",
    "        symbols_not_traded.append(symbol)"
   ]
  },
  {
   "cell_type": "code",
   "execution_count": 114,
   "metadata": {},
   "outputs": [
    {
     "data": {
      "text/plain": [
       "['BTCUSDT',\n",
       " 'FUNETH',\n",
       " 'XVGETH',\n",
       " 'BTCTUSD',\n",
       " 'TUSDUSDT',\n",
       " 'SCETH',\n",
       " 'DENTETH',\n",
       " 'HOTETH',\n",
       " 'BTCUSDC',\n",
       " 'USDCUSDT',\n",
       " 'HOTUSDT',\n",
       " 'OMGUSDT',\n",
       " 'WINBNB',\n",
       " 'WINUSDT',\n",
       " 'DENTUSDT',\n",
       " 'KEYUSDT',\n",
       " 'FUNUSDT',\n",
       " 'CVCUSDT',\n",
       " 'WINTRX',\n",
       " 'BTCNGN',\n",
       " 'BTCRUB',\n",
       " 'TROYUSDT',\n",
       " 'FTTUSDT',\n",
       " 'BTCTRY',\n",
       " 'USDTTRY',\n",
       " 'USDTRUB']"
      ]
     },
     "execution_count": 114,
     "metadata": {},
     "output_type": "execute_result"
    }
   ],
   "source": [
    "symbols_not_traded"
   ]
  },
  {
   "cell_type": "code",
   "execution_count": null,
   "metadata": {},
   "outputs": [],
   "source": []
  }
 ],
 "metadata": {
  "kernelspec": {
   "display_name": "humpback",
   "language": "python",
   "name": "python3"
  },
  "language_info": {
   "codemirror_mode": {
    "name": "ipython",
    "version": 3
   },
   "file_extension": ".py",
   "mimetype": "text/x-python",
   "name": "python",
   "nbconvert_exporter": "python",
   "pygments_lexer": "ipython3",
   "version": "3.12.7"
  }
 },
 "nbformat": 4,
 "nbformat_minor": 2
}
