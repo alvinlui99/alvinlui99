{
 "cells": [
  {
   "cell_type": "code",
   "execution_count": null,
   "metadata": {},
   "outputs": [],
   "source": [
    "from backtesting.test import EURUSD\n",
    "from backtesting.lib import TrailingStrategy\n",
    "from backtesting import Backtest, Strategy\n",
    "import ta\n",
    "import numpy as np\n",
    "import pandas as pd\n",
    "from sklearn.neighbors import KNeighborsClassifier\n",
    "from sklearn.model_selection import train_test_split"
   ]
  },
  {
   "cell_type": "markdown",
   "metadata": {},
   "source": [
    "### TA Calculation Functions"
   ]
  },
  {
   "cell_type": "markdown",
   "metadata": {},
   "source": [
    "#### SMA"
   ]
  },
  {
   "cell_type": "code",
   "execution_count": null,
   "metadata": {},
   "outputs": [],
   "source": [
    "def sma(df, window):\n",
    "    sma = ta.trend.SMAIndicator(pd.Series(df), window=window).sma_indicator()\n",
    "    return sma"
   ]
  },
  {
   "cell_type": "markdown",
   "metadata": {},
   "source": [
    "#### RSI"
   ]
  },
  {
   "cell_type": "code",
   "execution_count": null,
   "metadata": {},
   "outputs": [],
   "source": [
    "def rsi(df, window=14):\n",
    "    rsi = ta.momentum.RSIIndicator(pd.Series(df), window=window).rsi()\n",
    "    return rsi"
   ]
  },
  {
   "cell_type": "markdown",
   "metadata": {},
   "source": [
    "#### EMA"
   ]
  },
  {
   "cell_type": "code",
   "execution_count": null,
   "metadata": {},
   "outputs": [],
   "source": [
    "def ema(df, period=200):\n",
    "    ema = ta.trend.EMAIndicator(pd.Series(df), window=window).ema_indicator()\n",
    "    return ema"
   ]
  },
  {
   "cell_type": "markdown",
   "metadata": {},
   "source": [
    "#### MACD"
   ]
  },
  {
   "cell_type": "code",
   "execution_count": null,
   "metadata": {},
   "outputs": [],
   "source": [
    "def macd(df):\n",
    "    macd = ta.trend.MACD(pd.Series(df)).macd()\n",
    "    return macd"
   ]
  },
  {
   "cell_type": "markdown",
   "metadata": {},
   "source": [
    "#### Bollinger Bands"
   ]
  },
  {
   "cell_type": "code",
   "execution_count": null,
   "metadata": {},
   "outputs": [],
   "source": [
    "def signal_h(df):\n",
    "    return ta.volatility.BollingerBands(pd.Series(df)).bollinger_hband()\n",
    "def signal_l(df):\n",
    "    return ta.volatility.BollingerBands(pd.Series(df)).bollinger_lband()"
   ]
  },
  {
   "cell_type": "markdown",
   "metadata": {},
   "source": [
    "#### ATR"
   ]
  },
  {
   "cell_type": "code",
   "execution_count": null,
   "metadata": {},
   "outputs": [],
   "source": [
    "def atr(df):\n",
    "    return ta.volatility.AverageTrueRange(df.High, df.Low, df.Close).average_true_range()"
   ]
  },
  {
   "cell_type": "markdown",
   "metadata": {},
   "source": [
    "### Other Useful Functions"
   ]
  },
  {
   "cell_type": "code",
   "execution_count": null,
   "metadata": {},
   "outputs": [],
   "source": [
    "def featureGeneration(data):\n",
    "    close = data.Close.values\n",
    "\n",
    "    sma10 = sma(data.Close, 10)\n",
    "    sma20 = sma(data.Close, 20)\n",
    "    sma50 = sma(data.Close, 50)\n",
    "    sma100 = sma(data.Close, 100)\n",
    "    upper = signal_h(data.Close)\n",
    "    lower = signal_l(data.Close)\n",
    "\n",
    "    # Design matrix / independent features:\n",
    "\n",
    "    # Price-derived features\n",
    "    data['X_SMA10'] = (close - sma10) / close\n",
    "    data['X_SMA20'] = (close - sma20) / close\n",
    "    data['X_SMA50'] = (close - sma50) / close\n",
    "    data['X_SMA100'] = (close - sma100) / close\n",
    "\n",
    "    data['X_DELTA_SMA10'] = (sma10 - sma20) / close\n",
    "    data['X_DELTA_SMA20'] = (sma20 - sma50) / close\n",
    "    data['X_DELTA_SMA50'] = (sma50 - sma100) / close\n",
    "\n",
    "    # Indicator features\n",
    "    data['X_MOM'] = data.Close.pct_change(periods=2)\n",
    "    data['X_BB_upper'] = (upper - close) / close\n",
    "    data['X_BB_lower'] = (lower - close) / close\n",
    "    data['X_BB_width'] = (upper - lower) / close\n",
    "    # data['X_Sentiment'] = ~data.index.to_series().between('2017-09-27', '2017-12-14')\n",
    "\n",
    "    # Some datetime features for good measure\n",
    "    data['X_day'] = data.index.dayofweek\n",
    "    data['X_hour'] = data.index.hour\n",
    "\n",
    "    data['X_ATR'] = atr(data)\n",
    "\n",
    "    data = data.dropna().astype(float)\n",
    "\n",
    "    return data"
   ]
  },
  {
   "cell_type": "code",
   "execution_count": null,
   "metadata": {},
   "outputs": [],
   "source": [
    "def get_X(data):\n",
    "    \"\"\"Return model design matrix X\"\"\"\n",
    "    return data.filter(like='X').values\n",
    "\n",
    "\n",
    "def get_y(data):\n",
    "    \"\"\"Return dependent variable y\"\"\"\n",
    "    # y = data.Close.pct_change(48).shift(-48)  # Returns after roughly two days\n",
    "    # y[y.between(-.004, .004)] = 0             # Devalue returns smaller than 0.4%\n",
    "    # y[y > 0] = 1\n",
    "    # y[y < 0] = -1\n",
    "\n",
    "    \"\"\"\n",
    "    Check the next 5 candlesticks\n",
    "    If it increases for 3% first, it is +1\n",
    "    If it decreases for 3% first, it is -1\n",
    "    \"\"\"\n",
    "    for t in range(5):\n",
    "        \n",
    "\n",
    "    return y\n",
    "\n",
    "\n",
    "def get_clean_Xy(df):\n",
    "    \"\"\"Return (X, y) cleaned of NaN values\"\"\"\n",
    "    X = get_X(df)\n",
    "    y = get_y(df).values\n",
    "    isnan = np.isnan(y)\n",
    "    X = X[~isnan]\n",
    "    y = y[~isnan]\n",
    "    return X, y"
   ]
  },
  {
   "cell_type": "markdown",
   "metadata": {},
   "source": [
    "### Strategy"
   ]
  },
  {
   "cell_type": "code",
   "execution_count": null,
   "metadata": {},
   "outputs": [],
   "source": [
    "class MLTrainOnceStrategy(Strategy):\n",
    "    N_ratio = .7\n",
    "\n",
    "    tp = .03 # 3%\n",
    "    sl = .02 # 2%\n",
    "    # price_delta = .004  # 0.4%\n",
    "\n",
    "    def init(self):        \n",
    "        # Init our model, a kNN classifier\n",
    "        self.clf = KNeighborsClassifier(7)\n",
    "\n",
    "        # Train the classifier in advance on the first N_TRAIN examples\n",
    "        self.N_TRAIN = int(self.data.df.shape[0] * self.N_ratio)\n",
    "        df = self.data.df.iloc[:self.N_TRAIN]\n",
    "        X, y = get_clean_Xy(df)\n",
    "        self.clf.fit(X, y)\n",
    "\n",
    "        # Plot y for inspection\n",
    "        self.I(get_y, self.data.df, name='y_true')\n",
    "\n",
    "        # Prepare empty, all-NaN forecast indicator\n",
    "        self.forecasts = self.I(lambda: np.repeat(np.nan, len(self.data)), name='forecast')\n",
    "\n",
    "    def next(self):\n",
    "        # Skip the training, in-sample data\n",
    "        if len(self.data) < self.N_TRAIN:\n",
    "            return\n",
    "\n",
    "        # Proceed only with out-of-sample data. Prepare some variables\n",
    "        high, low, close = self.data.High, self.data.Low, self.data.Close\n",
    "        current_time = self.data.index[-1]\n",
    "\n",
    "        # Forecast the next movement\n",
    "        X = get_X(self.data.df.iloc[-1:])\n",
    "        forecast = self.clf.predict(X)[0]\n",
    "\n",
    "        # Update the plotted \"forecast\" indicator\n",
    "        self.forecasts[-1] = forecast\n",
    "\n",
    "        # If our forecast is upwards and we don't already hold a long position\n",
    "        # place a long order for 20% of available account equity. Vice versa for short.\n",
    "        # Also set target take-profit and stop-loss prices to be one price_delta\n",
    "        # away from the current closing price.\n",
    "        \n",
    "        # upper = close[-1] * (1 + self.tp)\n",
    "        # lower = close[-1] * (1 - self.sl)\n",
    "        # upper, lower = close[-1] * (1 + np.r_[1, -1] * self.price_delta)\n",
    "\n",
    "\n",
    "        if forecast == 1 and not self.position.is_long:\n",
    "            tp = close[-1] + 2 * self.data['X_ATR'][-1]\n",
    "            sl = close[-1] - 2 * self.data['X_ATR'][-1]\n",
    "            self.buy(size=.2, tp=tp, sl=sl)\n",
    "            # self.buy(size=.2, tp=upper, sl=lower)\n",
    "        elif forecast == -1 and not self.position.is_short:\n",
    "            tp = close[-1] - 2 * self.data['X_ATR'][-1]\n",
    "            sl = close[-1] + 2 * self.data['X_ATR'][-1]\n",
    "            self.sell(size=.2, tp=tp, sl=sl)\n",
    "            # self.sell(size=.2, tp=lower, sl=upper)\n",
    "\n",
    "        # Additionally, set aggressive stop-loss on trades that have been open \n",
    "        # for more than two days\n",
    "        # for trade in self.trades:\n",
    "        #     if current_time - trade.entry_time > pd.Timedelta('2 days'):\n",
    "        #         if trade.is_long:\n",
    "        #             trade.sl = max(trade.sl, low)\n",
    "        #         else:\n",
    "        #             trade.sl = min(trade.sl, high)\n",
    "\n",
    "\n"
   ]
  },
  {
   "cell_type": "code",
   "execution_count": null,
   "metadata": {},
   "outputs": [],
   "source": [
    "class MLWalkForwardStrategy(MLTrainOnceStrategy):\n",
    "    def next(self):\n",
    "        # Skip the cold start period with too few values available\n",
    "        if len(self.data) < self.N_TRAIN:\n",
    "            return\n",
    "\n",
    "        # Re-train the model only every 20 iterations.\n",
    "        # Since 20 << N_TRAIN, we don't lose much in terms of\n",
    "        # \"recent training examples\", but the speed-up is significant!\n",
    "        if len(self.data) % 20:\n",
    "            return super().next()\n",
    "\n",
    "        # Retrain on last N_TRAIN values\n",
    "        df = self.data.df[-self.N_TRAIN:]\n",
    "        X, y = get_clean_Xy(df)\n",
    "        self.clf.fit(X, y)\n",
    "\n",
    "        # Now that the model is fitted, \n",
    "        # proceed the same as in MLTrainOnceStrategy\n",
    "        super().next()"
   ]
  },
  {
   "cell_type": "markdown",
   "metadata": {},
   "source": [
    "### Data Fetching"
   ]
  },
  {
   "cell_type": "code",
   "execution_count": null,
   "metadata": {},
   "outputs": [],
   "source": [
    "data = EURUSD.copy()\n",
    "data = featureGeneration(data)"
   ]
  },
  {
   "cell_type": "code",
   "execution_count": null,
   "metadata": {},
   "outputs": [],
   "source": [
    "data = featureGeneration(data)\n",
    "\n",
    "X, y = get_clean_Xy(data)\n",
    "X_train, X_test, y_train, y_test = train_test_split(X, y, test_size=.7, random_state=0)\n",
    "\n",
    "clf = KNeighborsClassifier(7)  # Model the output based on 7 \"nearest\" examples\n",
    "clf.fit(X_train, y_train)\n",
    "\n",
    "y_pred = clf.predict(X_test)\n",
    "\n",
    "_ = pd.DataFrame({'y_true': y_test, 'y_pred': y_pred}).plot(figsize=(15, 2), alpha=.7)\n",
    "print('Classification accuracy: ', np.mean(y_test == y_pred))"
   ]
  },
  {
   "cell_type": "markdown",
   "metadata": {},
   "source": [
    "### Backtesting"
   ]
  },
  {
   "cell_type": "code",
   "execution_count": null,
   "metadata": {},
   "outputs": [],
   "source": [
    "bt = Backtest(data, MLTrainOnceStrategy, commission=.0002, margin=.05)\n",
    "bt.run()\n",
    "bt.plot()"
   ]
  },
  {
   "cell_type": "code",
   "execution_count": null,
   "metadata": {},
   "outputs": [],
   "source": []
  },
  {
   "cell_type": "code",
   "execution_count": null,
   "metadata": {},
   "outputs": [],
   "source": []
  },
  {
   "cell_type": "code",
   "execution_count": null,
   "metadata": {},
   "outputs": [],
   "source": []
  }
 ],
 "metadata": {
  "kernelspec": {
   "display_name": "Python 3",
   "language": "python",
   "name": "python3"
  },
  "language_info": {
   "codemirror_mode": {
    "name": "ipython",
    "version": 3
   },
   "file_extension": ".py",
   "mimetype": "text/x-python",
   "name": "python",
   "nbconvert_exporter": "python",
   "pygments_lexer": "ipython3",
   "version": "3.12.4"
  }
 },
 "nbformat": 4,
 "nbformat_minor": 2
}
