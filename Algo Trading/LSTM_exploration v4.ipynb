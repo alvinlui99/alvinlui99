{
 "cells": [
  {
   "cell_type": "code",
   "execution_count": 1,
   "metadata": {},
   "outputs": [],
   "source": [
    "from humpback import *\n",
    "\n",
    "from datetime import datetime\n",
    "import numpy as np\n",
    "import pandas as pd\n",
    "import matplotlib.pyplot as plt\n",
    "\n",
    "# import tensorflow as tf\n",
    "# from tensorflow import keras\n",
    "# from tensorflow.keras import layers, models"
   ]
  },
  {
   "cell_type": "markdown",
   "metadata": {},
   "source": [
    "## Fetch Data"
   ]
  },
  {
   "cell_type": "code",
   "execution_count": 2,
   "metadata": {},
   "outputs": [],
   "source": [
    "symbol = 'BTCUSDT'\n",
    "\n",
    "train_size, val_size, test_size = 0.5, 0.2, 0.3\n",
    "\n",
    "batch_size = 64\n",
    "input_sequence_length = 20\n",
    "forecast_horizon = 1\n",
    "multi_horizon = False"
   ]
  },
  {
   "cell_type": "code",
   "execution_count": 3,
   "metadata": {},
   "outputs": [],
   "source": [
    "data_raw_df = pd.read_csv(f'Binance Data/{symbol}.csv', index_col='index')"
   ]
  },
  {
   "cell_type": "code",
   "execution_count": 4,
   "metadata": {},
   "outputs": [
    {
     "name": "stderr",
     "output_type": "stream",
     "text": [
      "/Users/taryn.tsui/Documents/Alvin/GitHub/alvinlui99/Algo Trading/humpback.py:87: SettingWithCopyWarning: \n",
      "A value is trying to be set on a copy of a slice from a DataFrame.\n",
      "Try using .loc[row_indexer,col_indexer] = value instead\n",
      "\n",
      "See the caveats in the documentation: https://pandas.pydata.org/pandas-docs/stable/user_guide/indexing.html#returning-a-view-versus-a-copy\n",
      "  data.loc[:,f'SMA_{window}'] = value\n",
      "/Users/taryn.tsui/Documents/Alvin/GitHub/alvinlui99/Algo Trading/humpback.py:87: SettingWithCopyWarning: \n",
      "A value is trying to be set on a copy of a slice from a DataFrame.\n",
      "Try using .loc[row_indexer,col_indexer] = value instead\n",
      "\n",
      "See the caveats in the documentation: https://pandas.pydata.org/pandas-docs/stable/user_guide/indexing.html#returning-a-view-versus-a-copy\n",
      "  data.loc[:,f'SMA_{window}'] = value\n",
      "/Users/taryn.tsui/Documents/Alvin/GitHub/alvinlui99/Algo Trading/humpback.py:87: SettingWithCopyWarning: \n",
      "A value is trying to be set on a copy of a slice from a DataFrame.\n",
      "Try using .loc[row_indexer,col_indexer] = value instead\n",
      "\n",
      "See the caveats in the documentation: https://pandas.pydata.org/pandas-docs/stable/user_guide/indexing.html#returning-a-view-versus-a-copy\n",
      "  data.loc[:,f'SMA_{window}'] = value\n",
      "/Users/taryn.tsui/Documents/Alvin/GitHub/alvinlui99/Algo Trading/humpback.py:87: SettingWithCopyWarning: \n",
      "A value is trying to be set on a copy of a slice from a DataFrame.\n",
      "Try using .loc[row_indexer,col_indexer] = value instead\n",
      "\n",
      "See the caveats in the documentation: https://pandas.pydata.org/pandas-docs/stable/user_guide/indexing.html#returning-a-view-versus-a-copy\n",
      "  data.loc[:,f'SMA_{window}'] = value\n",
      "/Users/taryn.tsui/Documents/Alvin/GitHub/alvinlui99/Algo Trading/humpback.py:93: SettingWithCopyWarning: \n",
      "A value is trying to be set on a copy of a slice from a DataFrame.\n",
      "Try using .loc[row_indexer,col_indexer] = value instead\n",
      "\n",
      "See the caveats in the documentation: https://pandas.pydata.org/pandas-docs/stable/user_guide/indexing.html#returning-a-view-versus-a-copy\n",
      "  data.loc[:,f'SMA_DELTA_{sma_range[i]}_{sma_range[j]}'] = value\n",
      "/Users/taryn.tsui/Documents/Alvin/GitHub/alvinlui99/Algo Trading/humpback.py:93: SettingWithCopyWarning: \n",
      "A value is trying to be set on a copy of a slice from a DataFrame.\n",
      "Try using .loc[row_indexer,col_indexer] = value instead\n",
      "\n",
      "See the caveats in the documentation: https://pandas.pydata.org/pandas-docs/stable/user_guide/indexing.html#returning-a-view-versus-a-copy\n",
      "  data.loc[:,f'SMA_DELTA_{sma_range[i]}_{sma_range[j]}'] = value\n",
      "/Users/taryn.tsui/Documents/Alvin/GitHub/alvinlui99/Algo Trading/humpback.py:93: SettingWithCopyWarning: \n",
      "A value is trying to be set on a copy of a slice from a DataFrame.\n",
      "Try using .loc[row_indexer,col_indexer] = value instead\n",
      "\n",
      "See the caveats in the documentation: https://pandas.pydata.org/pandas-docs/stable/user_guide/indexing.html#returning-a-view-versus-a-copy\n",
      "  data.loc[:,f'SMA_DELTA_{sma_range[i]}_{sma_range[j]}'] = value\n",
      "/Users/taryn.tsui/Documents/Alvin/GitHub/alvinlui99/Algo Trading/humpback.py:93: SettingWithCopyWarning: \n",
      "A value is trying to be set on a copy of a slice from a DataFrame.\n",
      "Try using .loc[row_indexer,col_indexer] = value instead\n",
      "\n",
      "See the caveats in the documentation: https://pandas.pydata.org/pandas-docs/stable/user_guide/indexing.html#returning-a-view-versus-a-copy\n",
      "  data.loc[:,f'SMA_DELTA_{sma_range[i]}_{sma_range[j]}'] = value\n",
      "/Users/taryn.tsui/Documents/Alvin/GitHub/alvinlui99/Algo Trading/humpback.py:93: SettingWithCopyWarning: \n",
      "A value is trying to be set on a copy of a slice from a DataFrame.\n",
      "Try using .loc[row_indexer,col_indexer] = value instead\n",
      "\n",
      "See the caveats in the documentation: https://pandas.pydata.org/pandas-docs/stable/user_guide/indexing.html#returning-a-view-versus-a-copy\n",
      "  data.loc[:,f'SMA_DELTA_{sma_range[i]}_{sma_range[j]}'] = value\n",
      "/Users/taryn.tsui/Documents/Alvin/GitHub/alvinlui99/Algo Trading/humpback.py:93: SettingWithCopyWarning: \n",
      "A value is trying to be set on a copy of a slice from a DataFrame.\n",
      "Try using .loc[row_indexer,col_indexer] = value instead\n",
      "\n",
      "See the caveats in the documentation: https://pandas.pydata.org/pandas-docs/stable/user_guide/indexing.html#returning-a-view-versus-a-copy\n",
      "  data.loc[:,f'SMA_DELTA_{sma_range[i]}_{sma_range[j]}'] = value\n"
     ]
    }
   ],
   "source": [
    "data_return = getReturn(data_raw_df, 'Close')\n",
    "data_feature = featureGeneration(data_return)\n",
    "X_data_df , y_data_df  = getXy(data_feature, 'Return')"
   ]
  },
  {
   "cell_type": "code",
   "execution_count": null,
   "metadata": {},
   "outputs": [],
   "source": [
    "X_train_df, X_val_df, X_test_df, X_scaler = preprocess(X_data_df, train_size, val_size, test_size, True)\n",
    "y_train_df, y_val_df, y_test_df, y_scaler = preprocess(y_data_df, train_size, val_size, test_size, True)"
   ]
  },
  {
   "cell_type": "code",
   "execution_count": null,
   "metadata": {},
   "outputs": [],
   "source": [
    "train_dataset = keras.utils.timeseries_dataset_from_array(\n",
    "        X_train_df,\n",
    "        y_train_df,\n",
    "        sequence_length=input_sequence_length,\n",
    "        shuffle=False,\n",
    "    )"
   ]
  },
  {
   "cell_type": "code",
   "execution_count": null,
   "metadata": {},
   "outputs": [],
   "source": [
    "val_dataset = keras.utils.timeseries_dataset_from_array(\n",
    "        X_val_df,\n",
    "        y_val_df,\n",
    "        sequence_length=input_sequence_length,\n",
    "        shuffle=False,\n",
    "    ) "
   ]
  },
  {
   "cell_type": "code",
   "execution_count": null,
   "metadata": {},
   "outputs": [],
   "source": [
    "test_dataset = keras.utils.timeseries_dataset_from_array(\n",
    "        X_test_df,\n",
    "        None,\n",
    "        sequence_length=input_sequence_length,\n",
    "        shuffle=False,\n",
    "    ) "
   ]
  },
  {
   "cell_type": "markdown",
   "metadata": {},
   "source": [
    "## Model"
   ]
  },
  {
   "cell_type": "code",
   "execution_count": null,
   "metadata": {},
   "outputs": [],
   "source": [
    "class LSTM_stack(layers.Layer):\n",
    "    \"\"\"stacks of LSTM with dropout, follwed by dense layer\"\"\"\n",
    "\n",
    "    def __init__(\n",
    "        self,\n",
    "        dropout_rate: float = 0.2\n",
    "        ):\n",
    "        super().__init__()\n",
    "\n",
    "        self.lstm_1 = layers.LSTM(\n",
    "            units=50,\n",
    "            return_sequences=True,\n",
    "            )\n",
    "\n",
    "        self.lstm_2 = layers.LSTM(\n",
    "            units=50,\n",
    "            return_sequences=True,\n",
    "            )\n",
    "\n",
    "        self.lstm_3 = layers.LSTM(\n",
    "            units=50,\n",
    "            return_sequences=False,\n",
    "            )\n",
    "\n",
    "        self.dense_1 = layers.Dense(\n",
    "            units=1\n",
    "            )\n",
    "\n",
    "        self.dropout_1 = layers.Dropout(dropout_rate)\n",
    "\n",
    "    def call(self, inputs):\n",
    "        x = self.lstm_1(inputs)\n",
    "        x = self.dropout_1(x)\n",
    "        x = self.lstm_2(inputs)\n",
    "        x = self.dropout_1(x)\n",
    "        x = self.lstm_3(inputs)\n",
    "        x = self.dropout_1(x)\n",
    "        return self.dense_1(x)"
   ]
  },
  {
   "cell_type": "code",
   "execution_count": null,
   "metadata": {},
   "outputs": [],
   "source": [
    "inputs  = keras.Input((\n",
    "    input_sequence_length,\n",
    "    X_train_df.shape[1]))\n",
    "outputs = LSTM_stack()(inputs)\n",
    "model   = keras.Model(inputs, outputs)"
   ]
  },
  {
   "cell_type": "code",
   "execution_count": null,
   "metadata": {},
   "outputs": [],
   "source": [
    "optimizer = keras.optimizers.Adam()\n",
    "loss      = keras.losses.MeanSquaredError()\n",
    "\n",
    "model.compile(optimizer=optimizer,loss=loss)"
   ]
  },
  {
   "cell_type": "code",
   "execution_count": null,
   "metadata": {},
   "outputs": [],
   "source": [
    "model.fit(\n",
    "    train_dataset,\n",
    "    epochs=20,\n",
    "    validation_data=val_dataset)"
   ]
  },
  {
   "cell_type": "code",
   "execution_count": null,
   "metadata": {},
   "outputs": [],
   "source": [
    "predictions = pd.DataFrame(model.predict(test_dataset), index=y_test_df.iloc[input_sequence_length-1:,].index)"
   ]
  },
  {
   "cell_type": "code",
   "execution_count": null,
   "metadata": {},
   "outputs": [],
   "source": [
    "plt.plot(y_scaler.inverse_transform(y_test_df), color='red', label='Actual')\n",
    "plt.plot(y_scaler.inverse_transform(predictions), color='blue', label='Predicted')\n",
    "plt.title('LSTM BTC 1h')\n",
    "plt.legend() "
   ]
  },
  {
   "cell_type": "code",
   "execution_count": null,
   "metadata": {},
   "outputs": [],
   "source": [
    "\n"
   ]
  },
  {
   "cell_type": "code",
   "execution_count": null,
   "metadata": {},
   "outputs": [],
   "source": []
  },
  {
   "cell_type": "code",
   "execution_count": null,
   "metadata": {},
   "outputs": [],
   "source": []
  },
  {
   "cell_type": "code",
   "execution_count": null,
   "metadata": {},
   "outputs": [],
   "source": []
  }
 ],
 "metadata": {
  "kernelspec": {
   "display_name": "Python 3",
   "language": "python",
   "name": "python3"
  },
  "language_info": {
   "codemirror_mode": {
    "name": "ipython",
    "version": 3
   },
   "file_extension": ".py",
   "mimetype": "text/x-python",
   "name": "python",
   "nbconvert_exporter": "python",
   "pygments_lexer": "ipython3",
   "version": "3.12.4"
  }
 },
 "nbformat": 4,
 "nbformat_minor": 2
}
