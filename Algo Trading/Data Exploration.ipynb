{
 "cells": [
  {
   "cell_type": "markdown",
   "metadata": {},
   "source": [
    "## Import Library"
   ]
  },
  {
   "cell_type": "code",
   "execution_count": 1,
   "metadata": {},
   "outputs": [],
   "source": [
    "import pandas as pd\n",
    "import matplotlib.pyplot as plt\n",
    "from binance.client import Client\n",
    "from datetime import datetime"
   ]
  },
  {
   "cell_type": "markdown",
   "metadata": {},
   "source": [
    "## Initialise API"
   ]
  },
  {
   "cell_type": "code",
   "execution_count": 2,
   "metadata": {},
   "outputs": [],
   "source": [
    "API_KEY = 'JPFZLK0ZgvhSniD3fvCNDQSC8UFin0kLKeIOJToe9LyGaJhQG29ZVWqTuZ792jAV'\n",
    "API_SECRET = 'jw1UUQ4r5xFUgZHSiZcS8hssAKqwDYr8QzehZiNTRnXZBRWvpNQ9mtRyGcS4vfja'\n",
    "\n",
    "client = Client(API_KEY, API_SECRET)"
   ]
  },
  {
   "cell_type": "markdown",
   "metadata": {},
   "source": [
    "## Define Wallet Class"
   ]
  },
  {
   "cell_type": "code",
   "execution_count": 3,
   "metadata": {},
   "outputs": [],
   "source": [
    "class Wallet:\n",
    "    def __init__(self, initial_balance):\n",
    "        self.balance = initial_balance\n",
    "        self.coins = {}\n",
    "\n",
    "    def add_coin(self, name, quantity, value):\n",
    "        cost = quantity * value\n",
    "        # Check if have enough money\n",
    "        if self.balance > cost:\n",
    "            self.balance -= cost\n",
    "            if name in self.coins:\n",
    "                self.coins[name] += quantity\n",
    "            else:\n",
    "                self.coins[name] = quantity\n",
    "            return True\n",
    "        else:\n",
    "            return False\n",
    "\n",
    "    def remove_coin(self, name, quantity, value):\n",
    "        if name in self.coins:\n",
    "            if self.coins[name] >= quantity:\n",
    "                cost = quantity * value\n",
    "                self.balance += cost\n",
    "                self.coins[name] -= quantity\n",
    "                if self.coins[name] == 0:\n",
    "                    del self.coins[name]\n",
    "                return True\n",
    "            else:\n",
    "                return False\n",
    "        else:\n",
    "            return False\n",
    "\n",
    "    def get_coin_quantity(self, name):\n",
    "        if name in self.coins:\n",
    "            return self.coins[name]\n",
    "        else:\n",
    "            return 0\n",
    "\n",
    "    def get_balance(self):\n",
    "        return self.balance\n",
    "    \n",
    "    def get_coins(self):\n",
    "        return self.coins"
   ]
  },
  {
   "cell_type": "markdown",
   "metadata": {},
   "source": [
    "## Define Strategy"
   ]
  },
  {
   "cell_type": "code",
   "execution_count": 4,
   "metadata": {},
   "outputs": [],
   "source": [
    "class Strategy:\n",
    "    def __init__(self, window_size):\n",
    "        self.window_size = window_size\n",
    "        self.price_history = []\n",
    "\n",
    "    def update_price_history(self, price):\n",
    "        self.price_history.append(price)\n",
    "        if len(self.price_history) > self.window_size:\n",
    "            self.price_history.pop(0)\n",
    "\n",
    "    def generate_signals(self, observed_price):\n",
    "        if len(self.price_history) < self.window_size:\n",
    "            return 'HOLD'\n",
    "        average_price = sum(self.price_history) / self.window_size\n",
    "        if observed_price > average_price:\n",
    "            return 'BUY'\n",
    "        else:\n",
    "            return 'SELL'"
   ]
  },
  {
   "cell_type": "markdown",
   "metadata": {},
   "source": [
    "## Backtesting Strategy"
   ]
  },
  {
   "cell_type": "markdown",
   "metadata": {},
   "source": [
    "### Parameters"
   ]
  },
  {
   "cell_type": "code",
   "execution_count": 5,
   "metadata": {},
   "outputs": [],
   "source": [
    "symbol = 'BTCUSDT'\n",
    "coin_name = 'BTC'\n",
    "initial_balance = 100000"
   ]
  },
  {
   "cell_type": "code",
   "execution_count": 6,
   "metadata": {},
   "outputs": [],
   "source": [
    "interval = Client.KLINE_INTERVAL_1DAY  # Replace with the desired interval (e.g., KLINE_INTERVAL_1MINUTE, KLINE_INTERVAL_1HOUR)\n",
    "start_time_train = int(datetime(2020,1,1,0,0).timestamp() * 1000)\n",
    "end_time_train = int(datetime(2022,1,1,0,0).timestamp() * 1000)\n",
    "start_time_val = int(datetime(2022,1,1,0,0).timestamp() * 1000)\n",
    "end_time_val = int(datetime(2024,1,1,0,0).timestamp() * 1000)"
   ]
  },
  {
   "cell_type": "markdown",
   "metadata": {},
   "source": [
    "### Fetch Data"
   ]
  },
  {
   "cell_type": "code",
   "execution_count": 7,
   "metadata": {},
   "outputs": [],
   "source": [
    "# klines = client.get_historical_klines(symbol=symbol, interval=interval, start_str=start_time_train, end_str=end_time_train)\n",
    "# # Extract close prices and timestamps from kline data\n",
    "# close_prices = [float(kline[4]) for kline in klines]\n",
    "# timestamps = [datetime.fromtimestamp(kline[0] / 1000) for kline in klines]\n",
    "\n",
    "# # Create a DataFrame from the extracted data\n",
    "# data = pd.DataFrame({'Timestamp': timestamps, 'Close Price': close_prices})"
   ]
  },
  {
   "cell_type": "code",
   "execution_count": 8,
   "metadata": {},
   "outputs": [],
   "source": [
    "def fetchData(client, symbol, interval, start_time, end_time):\n",
    "    klines = client.get_historical_klines(symbol=symbol, interval=interval, start_str=start_time, end_str=end_time)\n",
    "    close_prices = [float(kline[4]) for kline in klines]\n",
    "    timestamps = [datetime.fromtimestamp(kline[0] / 1000) for kline in klines]\n",
    "\n",
    "    data = pd.DataFrame({'Timestamp': timestamps, 'Close Price': close_prices})\n",
    "\n",
    "    return data"
   ]
  },
  {
   "cell_type": "markdown",
   "metadata": {},
   "source": [
    "### Initialise Objects"
   ]
  },
  {
   "cell_type": "code",
   "execution_count": 9,
   "metadata": {},
   "outputs": [],
   "source": [
    "# wallet = Wallet(initial_balance=initial_balance)\n",
    "# strategy = Strategy(window_size=window_size)"
   ]
  },
  {
   "cell_type": "markdown",
   "metadata": {},
   "source": [
    "### Simulating"
   ]
  },
  {
   "cell_type": "code",
   "execution_count": 10,
   "metadata": {},
   "outputs": [],
   "source": [
    "def simulation(data, wallet, strategy):\n",
    "    data_balance = [None] * len(data)\n",
    "    data_signal = [None] * len(data)\n",
    "    for row in data.itertuples():\n",
    "        data_index = row[0]\n",
    "        close_price = row[2]\n",
    "\n",
    "        strategy.update_price_history(close_price)\n",
    "        signal = strategy.generate_signals(close_price)\n",
    "\n",
    "        if signal == 'BUY':\n",
    "            available_balance = wallet.get_balance()\n",
    "            if available_balance > 1:\n",
    "                quantity = available_balance / close_price\n",
    "                if wallet.add_coin(coin_name, quantity, close_price):\n",
    "                    data_signal[data_index] = 'BUY'\n",
    "\n",
    "        elif signal == 'SELL':\n",
    "            coin_pair = wallet.get_coins()\n",
    "            if len(coin_pair) > 0:\n",
    "                for coin_name_in_wallet, coin_qty_in_wallet in coin_pair.items():\n",
    "                    if coin_name == coin_name_in_wallet:\n",
    "                        if wallet.remove_coin(coin_name, coin_qty_in_wallet, close_price):\n",
    "                            data_signal[data_index] = 'SELL'\n",
    "                        break\n",
    "        \n",
    "        data_balance[data_index] = wallet.get_balance()\n",
    "\n",
    "    # Force sell all coin\n",
    "    coin_pair = wallet.get_coins()\n",
    "    if len(coin_pair) > 0:\n",
    "        for coin_name_in_wallet, coin_qty_in_wallet in coin_pair.items():\n",
    "            if coin_name == coin_name_in_wallet:\n",
    "                if wallet.remove_coin(coin_name, coin_qty_in_wallet, close_price):\n",
    "                    data_signal[data_index] = 'SELL'\n",
    "                break\n",
    "\n",
    "    data_balance[data_index] = wallet.get_balance()\n",
    "\n",
    "    data['Signal'] = data_signal\n",
    "    data['Balance'] = data_balance\n",
    "    return data"
   ]
  },
  {
   "cell_type": "markdown",
   "metadata": {},
   "source": [
    "## Results"
   ]
  },
  {
   "cell_type": "markdown",
   "metadata": {},
   "source": [
    "### Graph"
   ]
  },
  {
   "cell_type": "code",
   "execution_count": 11,
   "metadata": {},
   "outputs": [],
   "source": [
    "# Plot the close prices\n",
    "\n",
    "\n",
    "# plt.plot(data['Timestamp'], data['Close Price'],\n",
    "#          linestyle='--', linewidth=1)\n",
    "# plt.title('Close Prices')\n",
    "# plt.xlabel('Timestamp')\n",
    "# plt.ylabel('Close Price')\n",
    "\n",
    "# plt.scatter(data.loc[data['Signal'] == 'BUY', 'Timestamp'].values,\n",
    "#             data.loc[data['Signal'] == 'BUY', 'Close Price'].values,\n",
    "#             marker='^',\n",
    "#             color='green',\n",
    "#             label='Buy Signals')\n",
    "\n",
    "# plt.scatter(data.loc[data['Signal'] == 'SELL', 'Timestamp'].values,\n",
    "#             data.loc[data['Signal'] == 'SELL', 'Close Price'].values,\n",
    "#             marker='v',\n",
    "#             color='red',\n",
    "#             label='Sell Signals')\n",
    "\n",
    "# plt.legend()\n",
    "# plt.show()"
   ]
  },
  {
   "cell_type": "markdown",
   "metadata": {},
   "source": [
    "### Optimizing"
   ]
  },
  {
   "cell_type": "code",
   "execution_count": 18,
   "metadata": {},
   "outputs": [],
   "source": [
    "data_train = fetchData(client, symbol, interval, start_time_train, end_time_train)\n",
    "data_val = fetchData(client, symbol, interval, start_time_val, end_time_val)\n",
    "\n",
    "profits = []\n",
    "for window_size in range(10,101):\n",
    "    wallet = Wallet(initial_balance=initial_balance)\n",
    "    strategy = Strategy(window_size=window_size)\n",
    "    sim_data = simulation(data_train, wallet, strategy)\n",
    "    ending_balance = sim_data['Balance'].iloc[-1]\n",
    "    profits.append(ending_balance / initial_balance)\n",
    "\n",
    "result_train = pd.DataFrame({'window_size': range(10, 101),\n",
    "                       'profit': profits})"
   ]
  },
  {
   "cell_type": "code",
   "execution_count": 19,
   "metadata": {},
   "outputs": [],
   "source": [
    "profits = []\n",
    "for window_size in range(10,101):\n",
    "    wallet = Wallet(initial_balance=initial_balance)\n",
    "    strategy = Strategy(window_size=window_size)\n",
    "    sim_data = simulation(data_val, wallet, strategy)\n",
    "    ending_balance = sim_data['Balance'].iloc[-1]\n",
    "    profits.append(ending_balance / initial_balance)\n",
    "\n",
    "result_val = pd.DataFrame({'window_size': range(10, 101),\n",
    "                           'profit': profits})"
   ]
  },
  {
   "cell_type": "code",
   "execution_count": 20,
   "metadata": {},
   "outputs": [
    {
     "data": {
      "text/plain": [
       "[<matplotlib.lines.Line2D at 0x117435cd0>]"
      ]
     },
     "execution_count": 20,
     "metadata": {},
     "output_type": "execute_result"
    },
    {
     "data": {
      "image/png": "[encoded data removed]",
      "text/plain": [
       "<Figure size 640x480 with 1 Axes>"
      ]
     },
     "metadata": {},
     "output_type": "display_data"
    }
   ],
   "source": [
    "plt.plot(result_train['window_size'], result_train['profit'])\n",
    "plt.plot(result_val['window_size'], result_val['profit'])"
   ]
  },
  {
   "cell_type": "code",
   "execution_count": null,
   "metadata": {},
   "outputs": [],
   "source": []
  }
 ],
 "metadata": {
  "kernelspec": {
   "display_name": "Python 3",
   "language": "python",
   "name": "python3"
  },
  "language_info": {
   "codemirror_mode": {
    "name": "ipython",
    "version": 3
   },
   "file_extension": ".py",
   "mimetype": "text/x-python",
   "name": "python",
   "nbconvert_exporter": "python",
   "pygments_lexer": "ipython3",
   "version": "3.12.4"
  }
 },
 "nbformat": 4,
 "nbformat_minor": 2
}
