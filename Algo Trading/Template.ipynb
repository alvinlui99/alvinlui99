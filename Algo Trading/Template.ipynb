{
 "cells": [
  {
   "cell_type": "markdown",
   "metadata": {},
   "source": [
    "## Header"
   ]
  },
  {
   "cell_type": "markdown",
   "metadata": {},
   "source": [
    "### Import Library"
   ]
  },
  {
   "cell_type": "code",
   "execution_count": 1,
   "metadata": {},
   "outputs": [],
   "source": [
    "import pandas as pd\n",
    "import matplotlib.pyplot as plt\n",
    "from binance.client import Client\n",
    "from datetime import datetime"
   ]
  },
  {
   "cell_type": "markdown",
   "metadata": {},
   "source": [
    "### Initialise API"
   ]
  },
  {
   "cell_type": "code",
   "execution_count": 2,
   "metadata": {},
   "outputs": [],
   "source": [
    "API_KEY = 'JPFZLK0ZgvhSniD3fvCNDQSC8UFin0kLKeIOJToe9LyGaJhQG29ZVWqTuZ792jAV'\n",
    "API_SECRET = 'jw1UUQ4r5xFUgZHSiZcS8hssAKqwDYr8QzehZiNTRnXZBRWvpNQ9mtRyGcS4vfja'\n",
    "\n",
    "client = Client(API_KEY, API_SECRET)"
   ]
  },
  {
   "cell_type": "markdown",
   "metadata": {},
   "source": [
    "## Define Wallet Class"
   ]
  },
  {
   "cell_type": "code",
   "execution_count": 3,
   "metadata": {},
   "outputs": [],
   "source": [
    "class Wallet:\n",
    "    def __init__(self, initial_balance):\n",
    "        self.balance = initial_balance\n",
    "        self.coins = {}\n",
    "\n",
    "    def add_coin(self, name, quantity, value):\n",
    "        cost = quantity * value\n",
    "        # Check if have enough money\n",
    "        if self.balance > cost:\n",
    "            self.balance -= cost\n",
    "            if name in self.coins:\n",
    "                self.coins[name] += quantity\n",
    "            else:\n",
    "                self.coins[name] = quantity\n",
    "            return True\n",
    "        else:\n",
    "            return False\n",
    "\n",
    "    def remove_coin(self, name, quantity, value):\n",
    "        if name in self.coins:\n",
    "            if self.coins[name] >= quantity:\n",
    "                cost = quantity * value\n",
    "                self.balance += cost\n",
    "                self.coins[name] -= quantity\n",
    "                if self.coins[name] == 0:\n",
    "                    del self.coins[name]\n",
    "                return True\n",
    "            else:\n",
    "                return False\n",
    "        else:\n",
    "            return False\n",
    "\n",
    "    def get_coin_quantity(self, name):\n",
    "        if name in self.coins:\n",
    "            return self.coins[name]\n",
    "        else:\n",
    "            return 0\n",
    "\n",
    "    def get_balance(self):\n",
    "        return self.balance\n",
    "    \n",
    "    def get_coins(self):\n",
    "        return self.coins"
   ]
  },
  {
   "cell_type": "markdown",
   "metadata": {},
   "source": [
    "## Define Strategy"
   ]
  },
  {
   "cell_type": "code",
   "execution_count": 4,
   "metadata": {},
   "outputs": [],
   "source": [
    "class Strategy:\n",
    "    # Simple moving average strategy\n",
    "\n",
    "    def __init__(self, window_size):\n",
    "        self.window_size = window_size\n",
    "        self.price_history = []\n",
    "\n",
    "    def update_price_history(self, price):\n",
    "        self.price_history.append(price)\n",
    "        if len(self.price_history) > self.window_size:\n",
    "            self.price_history.pop(0)\n",
    "\n",
    "    def generate_signals(self, observed_price):\n",
    "        if len(self.price_history) < self.window_size:\n",
    "            return 'HOLD'\n",
    "        average_price = sum(self.price_history) / self.window_size\n",
    "        if observed_price > average_price:\n",
    "            return 'BUY'\n",
    "        else:\n",
    "            return 'SELL'"
   ]
  },
  {
   "cell_type": "markdown",
   "metadata": {},
   "source": [
    "## Backtesting Strategy"
   ]
  },
  {
   "cell_type": "markdown",
   "metadata": {},
   "source": [
    "### Fetch Data"
   ]
  },
  {
   "cell_type": "code",
   "execution_count": 5,
   "metadata": {},
   "outputs": [],
   "source": [
    "def fetchData(client, symbol, interval, start_time, end_time):\n",
    "    klines = client.get_historical_klines(symbol=symbol, interval=interval, start_str=start_time, end_str=end_time)\n",
    "    close_prices = [float(kline[4]) for kline in klines]\n",
    "    timestamps = [datetime.fromtimestamp(kline[0] / 1000) for kline in klines]\n",
    "\n",
    "    data = pd.DataFrame({'Timestamp': timestamps, 'Close Price': close_prices})\n",
    "\n",
    "    return data"
   ]
  },
  {
   "cell_type": "markdown",
   "metadata": {},
   "source": [
    "### Simulating"
   ]
  },
  {
   "cell_type": "code",
   "execution_count": 14,
   "metadata": {},
   "outputs": [],
   "source": [
    "def simulation(data, wallet, strategy, symbol):\n",
    "    data_balance = [None] * len(data)\n",
    "    data_signal = [None] * len(data)\n",
    "\n",
    "    coin_name = symbol.replace('USDT', '')\n",
    "\n",
    "    for row in data.itertuples():\n",
    "        data_index = row[0]\n",
    "        close_price = row[2]\n",
    "\n",
    "        strategy.update_price_history(close_price)\n",
    "        signal = strategy.generate_signals(close_price)\n",
    "\n",
    "        if signal == 'BUY':\n",
    "            available_balance = wallet.get_balance()\n",
    "            if available_balance > 1:\n",
    "                quantity = available_balance / close_price\n",
    "                if wallet.add_coin(coin_name, quantity, close_price):\n",
    "                    data_signal[data_index] = 'BUY'\n",
    "\n",
    "        elif signal == 'SELL':\n",
    "            coin_pair = wallet.get_coins()\n",
    "            if len(coin_pair) > 0:\n",
    "                for coin_name_in_wallet, coin_qty_in_wallet in coin_pair.items():\n",
    "                    if coin_name == coin_name_in_wallet:\n",
    "                        if wallet.remove_coin(coin_name, coin_qty_in_wallet, close_price):\n",
    "                            data_signal[data_index] = 'SELL'\n",
    "                        break\n",
    "        \n",
    "        data_balance[data_index] = wallet.get_balance()\n",
    "\n",
    "    # Force sell all coin\n",
    "    coin_pair = wallet.get_coins()\n",
    "    if len(coin_pair) > 0:\n",
    "        for coin_name_in_wallet, coin_qty_in_wallet in coin_pair.items():\n",
    "            if coin_name == coin_name_in_wallet:\n",
    "                if wallet.remove_coin(coin_name, coin_qty_in_wallet, close_price):\n",
    "                    data_signal[data_index] = 'SELL'\n",
    "                    data_balance[-1] = wallet.get_balance()\n",
    "                break\n",
    "\n",
    "    data['Signal'] = data_signal\n",
    "    data['Balance'] = data_balance\n",
    "    return data"
   ]
  },
  {
   "cell_type": "markdown",
   "metadata": {},
   "source": [
    "### Parameters"
   ]
  },
  {
   "cell_type": "markdown",
   "metadata": {},
   "source": [
    "#### Input Parameters"
   ]
  },
  {
   "cell_type": "code",
   "execution_count": 73,
   "metadata": {},
   "outputs": [],
   "source": [
    "interval = Client.KLINE_INTERVAL_1DAY  # Replace with the desired interval (e.g., KLINE_INTERVAL_1MINUTE, KLINE_INTERVAL_1HOUR)\n",
    "start_time_train = int(datetime(2020,1,1,0,0).timestamp() * 1000)\n",
    "start_time_train_plus1 = int(datetime(2020,1,2,0,0).timestamp() * 1000)\n",
    "end_time_train = int(datetime(2021,12,31,0,0).timestamp() * 1000)\n",
    "\n",
    "start_time_val = int(datetime(2022,1,1,0,0).timestamp() * 1000)\n",
    "end_time_val_minus1 = int(datetime(2023,12,1,0,0).timestamp() * 1000)\n",
    "end_time_val = int(datetime(2023,12,31,0,0).timestamp() * 1000)\n",
    "\n",
    "initial_balance = 1000"
   ]
  },
  {
   "cell_type": "markdown",
   "metadata": {},
   "source": [
    "#### Fetch Training data set from binance"
   ]
  },
  {
   "cell_type": "code",
   "execution_count": 74,
   "metadata": {},
   "outputs": [],
   "source": [
    "ticker_infos = client.get_ticker()\n",
    "symbols = [symbol['symbol'] for symbol in ticker_infos if symbol['symbol'].endswith('USDT')]"
   ]
  },
  {
   "cell_type": "code",
   "execution_count": 75,
   "metadata": {},
   "outputs": [],
   "source": [
    "symbols_remove = []\n",
    "for symbol in symbols:\n",
    "    data_test = fetchData(client, symbol, interval, start_time_train, start_time_train_plus1)\n",
    "    if data_test.empty:\n",
    "        symbols_remove.append(symbol)\n",
    "        continue\n",
    "    data_test = fetchData(client, symbol, interval, end_time_val_minus1, end_time_val)\n",
    "    if data_test.empty:\n",
    "        symbols_remove.append(symbol)\n",
    "\n",
    "for symbol in symbols_remove:\n",
    "    symbols.remove(symbol)"
   ]
  },
  {
   "cell_type": "markdown",
   "metadata": {},
   "source": [
    "## Results"
   ]
  },
  {
   "cell_type": "markdown",
   "metadata": {},
   "source": [
    "### Optimizing"
   ]
  },
  {
   "cell_type": "code",
   "execution_count": 76,
   "metadata": {},
   "outputs": [],
   "source": [
    "optimize_results = pd.DataFrame(columns=['symbol', 'profit margin', 'window size'])\n",
    "\n",
    "for symbol in symbols:\n",
    "    data_train = fetchData(client, symbol, interval, start_time_train, end_time_train)\n",
    "    data_val   = fetchData(client, symbol, interval, start_time_val  , end_time_val)\n",
    "    \n",
    "    # Select window size\n",
    "\n",
    "    max_profit = 0\n",
    "    window_size_selected = 0\n",
    "    for window_size in range(10,101):\n",
    "        wallet         = Wallet(initial_balance=initial_balance)\n",
    "        strategy       = Strategy(window_size=window_size)\n",
    "        sim            = simulation(data_train, wallet, strategy, symbol)\n",
    "        ending_balance = sim['Balance'].iloc[-1]\n",
    "        if ending_balance > max_profit:\n",
    "            window_size_selected = window_size\n",
    "            max_profit = ending_balance\n",
    "            \n",
    "    # Evaluate profitability\n",
    "\n",
    "    wallet = Wallet(initial_balance=initial_balance)\n",
    "    strategy = Strategy(window_size=window_size_selected)\n",
    "    sim = simulation(data_val, wallet, strategy, symbol)\n",
    "    ending_balance = sim['Balance'].iloc[-1]\n",
    "    profit_margin = ending_balance / initial_balance\n",
    "\n",
    "    new_row = {'symbol': symbol, 'profit margin': profit_margin, 'window size': window_size_selected}\n",
    "\n",
    "    optimize_results.loc[len(optimize_results)] = new_row"
   ]
  },
  {
   "cell_type": "markdown",
   "metadata": {},
   "source": [
    "### Check"
   ]
  },
  {
   "cell_type": "code",
   "execution_count": 45,
   "metadata": {},
   "outputs": [],
   "source": [
    "symbol = 'ETHUSDT'\n",
    "\n",
    "data = fetchData(client, symbol, interval, start_time_val, end_time_val)\n",
    "\n",
    "wallet = Wallet(initial_balance=1000)\n",
    "strategy = Strategy(window_size=77)\n",
    "sim = simulation(data, wallet, strategy, symbol)"
   ]
  },
  {
   "cell_type": "code",
   "execution_count": 50,
   "metadata": {},
   "outputs": [
    {
     "data": {
      "text/plain": [
       "np.float64(0.727280537730831)"
      ]
     },
     "execution_count": 50,
     "metadata": {},
     "output_type": "execute_result"
    }
   ],
   "source": [
    "ending_balance = sim['Balance'].iloc[-1]\n",
    "profit_margin = ending_balance / initial_balance\n",
    "profit_margin"
   ]
  },
  {
   "cell_type": "code",
   "execution_count": 78,
   "metadata": {},
   "outputs": [
    {
     "data": {
      "text/html": [
       "<div>\n",
       "<style scoped>\n",
       "    .dataframe tbody tr th:only-of-type {\n",
       "        vertical-align: middle;\n",
       "    }\n",
       "\n",
       "    .dataframe tbody tr th {\n",
       "        vertical-align: top;\n",
       "    }\n",
       "\n",
       "    .dataframe thead th {\n",
       "        text-align: right;\n",
       "    }\n",
       "</style>\n",
       "<table border=\"1\" class=\"dataframe\">\n",
       "  <thead>\n",
       "    <tr style=\"text-align: right;\">\n",
       "      <th></th>\n",
       "      <th>symbol</th>\n",
       "      <th>profit margin</th>\n",
       "      <th>window size</th>\n",
       "    </tr>\n",
       "  </thead>\n",
       "  <tbody>\n",
       "    <tr>\n",
       "      <th>5</th>\n",
       "      <td>QTUMUSDT</td>\n",
       "      <td>1.042153</td>\n",
       "      <td>25</td>\n",
       "    </tr>\n",
       "    <tr>\n",
       "      <th>6</th>\n",
       "      <td>ADAUSDT</td>\n",
       "      <td>1.487418</td>\n",
       "      <td>47</td>\n",
       "    </tr>\n",
       "    <tr>\n",
       "      <th>10</th>\n",
       "      <td>IOTAUSDT</td>\n",
       "      <td>1.366643</td>\n",
       "      <td>39</td>\n",
       "    </tr>\n",
       "    <tr>\n",
       "      <th>14</th>\n",
       "      <td>ETCUSDT</td>\n",
       "      <td>1.522486</td>\n",
       "      <td>71</td>\n",
       "    </tr>\n",
       "    <tr>\n",
       "      <th>15</th>\n",
       "      <td>ICXUSDT</td>\n",
       "      <td>1.073235</td>\n",
       "      <td>11</td>\n",
       "    </tr>\n",
       "    <tr>\n",
       "      <th>17</th>\n",
       "      <td>VETUSDT</td>\n",
       "      <td>1.208104</td>\n",
       "      <td>51</td>\n",
       "    </tr>\n",
       "    <tr>\n",
       "      <th>22</th>\n",
       "      <td>HOTUSDT</td>\n",
       "      <td>1.070777</td>\n",
       "      <td>27</td>\n",
       "    </tr>\n",
       "    <tr>\n",
       "      <th>23</th>\n",
       "      <td>ZILUSDT</td>\n",
       "      <td>1.895816</td>\n",
       "      <td>61</td>\n",
       "    </tr>\n",
       "    <tr>\n",
       "      <th>25</th>\n",
       "      <td>FETUSDT</td>\n",
       "      <td>6.586345</td>\n",
       "      <td>42</td>\n",
       "    </tr>\n",
       "    <tr>\n",
       "      <th>27</th>\n",
       "      <td>XMRUSDT</td>\n",
       "      <td>1.395111</td>\n",
       "      <td>36</td>\n",
       "    </tr>\n",
       "    <tr>\n",
       "      <th>30</th>\n",
       "      <td>CELRUSDT</td>\n",
       "      <td>1.617994</td>\n",
       "      <td>43</td>\n",
       "    </tr>\n",
       "    <tr>\n",
       "      <th>34</th>\n",
       "      <td>ENJUSDT</td>\n",
       "      <td>1.144400</td>\n",
       "      <td>36</td>\n",
       "    </tr>\n",
       "    <tr>\n",
       "      <th>37</th>\n",
       "      <td>TFUELUSDT</td>\n",
       "      <td>1.035678</td>\n",
       "      <td>43</td>\n",
       "    </tr>\n",
       "    <tr>\n",
       "      <th>38</th>\n",
       "      <td>ONEUSDT</td>\n",
       "      <td>1.592504</td>\n",
       "      <td>54</td>\n",
       "    </tr>\n",
       "    <tr>\n",
       "      <th>40</th>\n",
       "      <td>ALGOUSDT</td>\n",
       "      <td>1.227665</td>\n",
       "      <td>72</td>\n",
       "    </tr>\n",
       "    <tr>\n",
       "      <th>42</th>\n",
       "      <td>DUSKUSDT</td>\n",
       "      <td>1.582662</td>\n",
       "      <td>92</td>\n",
       "    </tr>\n",
       "    <tr>\n",
       "      <th>45</th>\n",
       "      <td>COSUSDT</td>\n",
       "      <td>1.236119</td>\n",
       "      <td>61</td>\n",
       "    </tr>\n",
       "    <tr>\n",
       "      <th>47</th>\n",
       "      <td>PERLUSDT</td>\n",
       "      <td>1.207552</td>\n",
       "      <td>61</td>\n",
       "    </tr>\n",
       "    <tr>\n",
       "      <th>49</th>\n",
       "      <td>KEYUSDT</td>\n",
       "      <td>1.060906</td>\n",
       "      <td>61</td>\n",
       "    </tr>\n",
       "    <tr>\n",
       "      <th>51</th>\n",
       "      <td>WANUSDT</td>\n",
       "      <td>1.050104</td>\n",
       "      <td>87</td>\n",
       "    </tr>\n",
       "    <tr>\n",
       "      <th>52</th>\n",
       "      <td>FUNUSDT</td>\n",
       "      <td>1.028021</td>\n",
       "      <td>15</td>\n",
       "    </tr>\n",
       "    <tr>\n",
       "      <th>54</th>\n",
       "      <td>CHZUSDT</td>\n",
       "      <td>1.047328</td>\n",
       "      <td>51</td>\n",
       "    </tr>\n",
       "    <tr>\n",
       "      <th>57</th>\n",
       "      <td>XTZUSDT</td>\n",
       "      <td>1.107612</td>\n",
       "      <td>12</td>\n",
       "    </tr>\n",
       "    <tr>\n",
       "      <th>60</th>\n",
       "      <td>HBARUSDT</td>\n",
       "      <td>1.561768</td>\n",
       "      <td>22</td>\n",
       "    </tr>\n",
       "    <tr>\n",
       "      <th>62</th>\n",
       "      <td>STXUSDT</td>\n",
       "      <td>3.165892</td>\n",
       "      <td>57</td>\n",
       "    </tr>\n",
       "    <tr>\n",
       "      <th>63</th>\n",
       "      <td>KAVAUSDT</td>\n",
       "      <td>1.163934</td>\n",
       "      <td>43</td>\n",
       "    </tr>\n",
       "    <tr>\n",
       "      <th>65</th>\n",
       "      <td>IOTXUSDT</td>\n",
       "      <td>1.190431</td>\n",
       "      <td>54</td>\n",
       "    </tr>\n",
       "    <tr>\n",
       "      <th>66</th>\n",
       "      <td>RLCUSDT</td>\n",
       "      <td>1.167853</td>\n",
       "      <td>45</td>\n",
       "    </tr>\n",
       "    <tr>\n",
       "      <th>69</th>\n",
       "      <td>TROYUSDT</td>\n",
       "      <td>1.115262</td>\n",
       "      <td>30</td>\n",
       "    </tr>\n",
       "  </tbody>\n",
       "</table>\n",
       "</div>"
      ],
      "text/plain": [
       "       symbol  profit margin  window size\n",
       "5    QTUMUSDT       1.042153           25\n",
       "6     ADAUSDT       1.487418           47\n",
       "10   IOTAUSDT       1.366643           39\n",
       "14    ETCUSDT       1.522486           71\n",
       "15    ICXUSDT       1.073235           11\n",
       "17    VETUSDT       1.208104           51\n",
       "22    HOTUSDT       1.070777           27\n",
       "23    ZILUSDT       1.895816           61\n",
       "25    FETUSDT       6.586345           42\n",
       "27    XMRUSDT       1.395111           36\n",
       "30   CELRUSDT       1.617994           43\n",
       "34    ENJUSDT       1.144400           36\n",
       "37  TFUELUSDT       1.035678           43\n",
       "38    ONEUSDT       1.592504           54\n",
       "40   ALGOUSDT       1.227665           72\n",
       "42   DUSKUSDT       1.582662           92\n",
       "45    COSUSDT       1.236119           61\n",
       "47   PERLUSDT       1.207552           61\n",
       "49    KEYUSDT       1.060906           61\n",
       "51    WANUSDT       1.050104           87\n",
       "52    FUNUSDT       1.028021           15\n",
       "54    CHZUSDT       1.047328           51\n",
       "57    XTZUSDT       1.107612           12\n",
       "60   HBARUSDT       1.561768           22\n",
       "62    STXUSDT       3.165892           57\n",
       "63   KAVAUSDT       1.163934           43\n",
       "65   IOTXUSDT       1.190431           54\n",
       "66    RLCUSDT       1.167853           45\n",
       "69   TROYUSDT       1.115262           30"
      ]
     },
     "execution_count": 78,
     "metadata": {},
     "output_type": "execute_result"
    }
   ],
   "source": [
    "optimize_results[optimize_results['profit margin']>1]"
   ]
  },
  {
   "cell_type": "code",
   "execution_count": null,
   "metadata": {},
   "outputs": [],
   "source": []
  }
 ],
 "metadata": {
  "kernelspec": {
   "display_name": "Python 3",
   "language": "python",
   "name": "python3"
  },
  "language_info": {
   "codemirror_mode": {
    "name": "ipython",
    "version": 3
   },
   "file_extension": ".py",
   "mimetype": "text/x-python",
   "name": "python",
   "nbconvert_exporter": "python",
   "pygments_lexer": "ipython3",
   "version": "3.12.4"
  }
 },
 "nbformat": 4,
 "nbformat_minor": 2
}
