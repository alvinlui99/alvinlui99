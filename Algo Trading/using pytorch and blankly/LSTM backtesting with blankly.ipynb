{
 "cells": [
  {
   "cell_type": "code",
   "execution_count": 1,
   "metadata": {},
   "outputs": [],
   "source": [
    "def episode_gen(data,\n",
    "                seq_length,\n",
    "                output_size):\n",
    "    x = []\n",
    "    y = []\n",
    "    #Loop through data, adding input data to x array and output data to y array\n",
    "    for i in range(len(data)-seq_length):\n",
    "        _x = data[i : (i+seq_length-output_size)]\n",
    "        _y = data[i+seq_length-output_size : i+seq_length]\n",
    "        x.append(_x)\n",
    "        y.append(_y)\n",
    "\n",
    "    return np.array(x),np.array(y)"
   ]
  },
  {
   "cell_type": "code",
   "execution_count": null,
   "metadata": {},
   "outputs": [],
   "source": []
  }
 ],
 "metadata": {
  "kernelspec": {
   "display_name": ".venv",
   "language": "python",
   "name": "python3"
  },
  "language_info": {
   "codemirror_mode": {
    "name": "ipython",
    "version": 3
   },
   "file_extension": ".py",
   "mimetype": "text/x-python",
   "name": "python",
   "nbconvert_exporter": "python",
   "pygments_lexer": "ipython3",
   "version": "3.12.4"
  }
 },
 "nbformat": 4,
 "nbformat_minor": 2
}
