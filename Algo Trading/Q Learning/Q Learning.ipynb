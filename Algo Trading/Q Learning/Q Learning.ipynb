{
 "cells": [
  {
   "cell_type": "code",
   "execution_count": 17,
   "metadata": {},
   "outputs": [],
   "source": [
    "import numpy as np\n",
    "import pandas as pd\n",
    "import tensorflow as tf\n",
    "import ta\n",
    "from tensorflow.keras.models import Sequential\n",
    "from tensorflow.keras.layers import LSTM, Dense, Dropout\n",
    "from keras import utils\n",
    "from collections import deque\n",
    "from sklearn.model_selection import train_test_split\n",
    "from sklearn.decomposition import PCA\n",
    "from sklearn.preprocessing import normalize\n",
    "import random"
   ]
  },
  {
   "cell_type": "markdown",
   "metadata": {},
   "source": [
    "## Data Exploration and Feature Generation\n"
   ]
  },
  {
   "cell_type": "code",
   "execution_count": 3,
   "metadata": {},
   "outputs": [],
   "source": [
    "def addSMA(data, sma_start: int, sma_end: int, sma_step: int):\n",
    "    sma_range = range(sma_start, sma_end, sma_step)\n",
    "\n",
    "    for window in sma_range:\n",
    "        # SMA/Close\n",
    "        # relative value of SMA to closing price\n",
    "        data.loc[:,f'SMA_{window}'] = ta.trend.SMAIndicator(data.Close, window=window).sma_indicator() / data.Close\n",
    "\n",
    "    for i in range(len(sma_range)):\n",
    "        for j in range(i+1, len(sma_range)):\n",
    "            # (SMA_1 - SMA_2) / Close\n",
    "            data.loc[:,f'SMA_DELTA_{sma_range[i]}_{sma_range[j]}'] = data.loc[:,f'SMA_{sma_range[i]}'] - data.loc[:,f'SMA_{sma_range[j]}']\n",
    "\n",
    "    return data"
   ]
  },
  {
   "cell_type": "code",
   "execution_count": 4,
   "metadata": {},
   "outputs": [],
   "source": [
    "def addEMA(data, ema_start: int, ema_end: int, ema_step: int):\n",
    "    ema_range = range(ema_start, ema_end, ema_step)\n",
    "\n",
    "    for window in ema_range:\n",
    "        # EMA/Close\n",
    "        # relative value of EMA to closing price\n",
    "        data.loc[:,f'EMA_{window}'] = ta.trend.EMAIndicator(data.Close, window=window).ema_indicator() / data.Close\n",
    "\n",
    "    for i in range(len(ema_range)):\n",
    "        for j in range(i+1, len(ema_range)):\n",
    "            # (EMA_1 - EMA_2) / Close\n",
    "            data.loc[:,f'EMA_DELTA_{ema_range[i]}_{ema_range[j]}'] = data.loc[:,f'EMA_{ema_range[i]}'] - data.loc[:,f'EMA_{ema_range[j]}']\n",
    "\n",
    "    return data"
   ]
  },
  {
   "cell_type": "code",
   "execution_count": 5,
   "metadata": {},
   "outputs": [],
   "source": [
    "def feature_generation(\n",
    "    data,\n",
    "    sma_start: int = 20,\n",
    "    sma_end  : int = 100,\n",
    "    sma_step : int = 20,\n",
    "    ema_start: int = 20,\n",
    "    ema_end  : int = 100,\n",
    "    ema_step : int = 20\n",
    "    ):\n",
    "    \"\"\"\n",
    "    Input\n",
    "    --------\n",
    "    X: pd.DataFrame\n",
    "\n",
    "\n",
    "    Output\n",
    "    --------\n",
    "    X: pd.DataFrame\n",
    "    \"\"\"\n",
    "    close = data.Close\n",
    "\n",
    "    # SMA\n",
    "    data = addSMA(data=data, sma_start=sma_start, sma_end=sma_end, sma_step=sma_step)\n",
    "\n",
    "    # EMA\n",
    "    data = addEMA(data=data, ema_start=ema_start, ema_end=ema_end, ema_step=ema_step)\n",
    "\n",
    "    # RSI\n",
    "    data['RSI'] = ta.momentum.RSIIndicator(data.Close).rsi()\n",
    "  \n",
    "    # MACD\n",
    "    data['MACD'] = ta.trend.MACD(data.Close).macd()\n",
    "\n",
    "    # ATR\n",
    "    data['ATR'] = ta.volatility.AverageTrueRange(data.High, data.Low, data.Close).average_true_range()\n",
    "\n",
    "    # BollingerBands\n",
    "    upper = ta.volatility.BollingerBands(data.Close).bollinger_hband()\n",
    "    lower = ta.volatility.BollingerBands(data.Close).bollinger_lband()\n",
    "\n",
    "    data['BB_upper'] = (upper - close) / close\n",
    "    data['BB_lower'] = (lower - close) / close\n",
    "    data['BB_width'] = (upper - lower) / close\n",
    "\n",
    "    # Garman Klass Volatility\n",
    "    data['garman_klass_vol'] = ((np.log(data.High)-np.log(data.Low))**2)/2-(2*np.log(2)-1)*((np.log(data.Close)-np.log(data.Open))**2)\n",
    "\n",
    "    # Cleansing\n",
    "    data = data.dropna() \n",
    "\n",
    "    return data"
   ]
  },
  {
   "cell_type": "code",
   "execution_count": 6,
   "metadata": {},
   "outputs": [],
   "source": [
    "def preprocess(data,\n",
    "               PCA_components = 8):\n",
    "  # Set index\n",
    "  data.set_index('index', inplace=True)\n",
    "\n",
    "  # Feature generation and remove na\n",
    "  data_feature = feature_generation(data)\n",
    "  \n",
    "  # Price\n",
    "  price = data_feature.Close.values\n",
    "\n",
    "  # Feature\n",
    "  remove_columns = ['Open',\n",
    "                    'High',\n",
    "                    'Low',\n",
    "                    'Close']\n",
    "  feature = data_feature.drop(remove_columns, axis=1)\n",
    "\n",
    "  # normalize\n",
    "  feature = normalize(feature)\n",
    "\n",
    "  # PCA\n",
    "  pca = PCA(n_components=PCA_components)\n",
    "  feature = pca.fit_transform(feature)\n",
    "  \n",
    "  return feature, price"
   ]
  },
  {
   "cell_type": "markdown",
   "metadata": {},
   "source": [
    "## Trading Environment"
   ]
  },
  {
   "cell_type": "code",
   "execution_count": 7,
   "metadata": {},
   "outputs": [],
   "source": [
    "class StockTradingEnv:\n",
    "    def __init__(self,features,prices):\n",
    "        self.features = features\n",
    "        self.prices = prices\n",
    "        self.reset()\n",
    "\n",
    "    def reset(self):\n",
    "        self.current_step = 0\n",
    "        self.done = False\n",
    "        self.state = self.prices[self.current_step:self.current_step+sequence_length]\n",
    "        return self.state\n",
    "\n",
    "    def step(self, action):\n",
    "        if self.done:\n",
    "            return self.state, 0, self.done\n",
    "\n",
    "        reward = 0\n",
    "        self.current_step += 1\n",
    "\n",
    "        if self.current_step >= len(self.prices) - sequence_length:\n",
    "            self.done = True\n",
    "\n",
    "        next_state = self.prices[self.current_step:self.current_step+sequence_length]\n",
    "\n",
    "        # Reward calculation (simplified)\n",
    "        if action == 1:  # Buy\n",
    "            reward = self.prices[self.current_step + sequence_length - 1] - self.prices[self.current_step + sequence_length - 2]\n",
    "        elif action == 2:  # Sell\n",
    "            reward = self.prices[self.current_step + sequence_length - 2] - self.prices[self.current_step + sequence_length - 1]\n",
    "\n",
    "        return next_state, reward, self.done"
   ]
  },
  {
   "cell_type": "markdown",
   "metadata": {},
   "source": [
    "## Q Learning"
   ]
  },
  {
   "cell_type": "code",
   "execution_count": 8,
   "metadata": {},
   "outputs": [],
   "source": [
    "# Q-Network\n",
    "def create_model(input_shape, action_space):\n",
    "    model = Sequential()\n",
    "    model.add(LSTM(units=50, return_sequences=True, input_shape=input_shape))\n",
    "    model.add(Dropout(0.2))\n",
    "    model.add(LSTM(units=50))\n",
    "    model.add(Dropout(0.2))\n",
    "    model.add(Dense(units=action_space, activation='linear'))\n",
    "    model.compile(optimizer=tf.keras.optimizers.Adam(learning_rate=learning_rate), loss='mse')\n",
    "    return model"
   ]
  },
  {
   "cell_type": "code",
   "execution_count": 9,
   "metadata": {},
   "outputs": [],
   "source": [
    "# Main training loop\n",
    "def train(env, model):\n",
    "    global epsilon\n",
    "    for episode in range(num_episodes):\n",
    "        state = env.reset()\n",
    "        state = np.reshape(state, (1, sequence_length, 1))\n",
    "\n",
    "        total_reward = 0\n",
    "        while True:\n",
    "            if np.random.rand() <= epsilon:\n",
    "                action = random.randrange(3)  # Long, Short, Hold\n",
    "            else:\n",
    "                q_values = model.predict(state, verbose=0)\n",
    "                action = np.argmax(q_values[0])\n",
    "\n",
    "            next_state, reward, done = env.step(action)\n",
    "            next_state = np.reshape(next_state, (1, sequence_length, 1))\n",
    "            total_reward += reward\n",
    "\n",
    "            memory.append((state, action, reward, next_state, done))\n",
    "            state = next_state\n",
    "\n",
    "            if done:\n",
    "                print(f\"Episode: {episode+1}/{num_episodes}, Reward: {total_reward}\")\n",
    "                break\n",
    "\n",
    "            if len(memory) > batch_size:\n",
    "                batch = random.sample(memory, batch_size)\n",
    "                for state, action, reward, next_state, done in batch:\n",
    "                    target = reward\n",
    "                    if not done:\n",
    "                        target += gamma * np.amax(model.predict(next_state, verbose=0)[0])\n",
    "                    target_f = model.predict(state, verbose=0)\n",
    "                    target_f[0][action] = target\n",
    "                    model.fit(state, target_f, epochs=1, verbose=0)\n",
    "\n",
    "        if epsilon > epsilon_min:\n",
    "            epsilon *= epsilon_decay"
   ]
  },
  {
   "cell_type": "markdown",
   "metadata": {},
   "source": [
    "## Hyperparameters"
   ]
  },
  {
   "cell_type": "code",
   "execution_count": null,
   "metadata": {},
   "outputs": [],
   "source": [
    "num_episodes = 200\n",
    "gamma = 0.99  # Discount factor\n",
    "epsilon = 1.0  # Exploration rate\n",
    "epsilon_min = 0.1\n",
    "epsilon_decay = 0.995\n",
    "learning_rate = 0.001\n",
    "batch_size = 32\n",
    "memory_size = 2000\n",
    "sequence_length = 10  # LSTM input sequence length"
   ]
  },
  {
   "cell_type": "code",
   "execution_count": null,
   "metadata": {},
   "outputs": [],
   "source": [
    "memory = deque(maxlen=memory_size)"
   ]
  },
  {
   "cell_type": "markdown",
   "metadata": {
    "vscode": {
     "languageId": "plaintext"
    }
   },
   "source": [
    "# Main"
   ]
  },
  {
   "cell_type": "code",
   "execution_count": 11,
   "metadata": {},
   "outputs": [],
   "source": [
    "data = pd.read_csv(\"../Binance Data/1h/BTCUSDT.csv\")"
   ]
  },
  {
   "cell_type": "code",
   "execution_count": 12,
   "metadata": {},
   "outputs": [],
   "source": [
    "feature, price = preprocess(data)"
   ]
  },
  {
   "cell_type": "code",
   "execution_count": null,
   "metadata": {},
   "outputs": [],
   "source": []
  }
 ],
 "metadata": {
  "kernelspec": {
   "display_name": "Python 3",
   "language": "python",
   "name": "python3"
  },
  "language_info": {
   "codemirror_mode": {
    "name": "ipython",
    "version": 3
   },
   "file_extension": ".py",
   "mimetype": "text/x-python",
   "name": "python",
   "nbconvert_exporter": "python",
   "pygments_lexer": "ipython3",
   "version": "3.12.4"
  }
 },
 "nbformat": 4,
 "nbformat_minor": 2
}
