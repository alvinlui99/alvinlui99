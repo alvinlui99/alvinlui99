{
 "cells": [
  {
   "cell_type": "code",
   "execution_count": 1,
   "metadata": {},
   "outputs": [
    {
     "name": "stderr",
     "output_type": "stream",
     "text": [
      "2024-08-21 18:07:36.680080: I tensorflow/core/platform/cpu_feature_guard.cc:210] This TensorFlow binary is optimized to use available CPU instructions in performance-critical operations.\n",
      "To enable the following instructions: AVX2 FMA, in other operations, rebuild TensorFlow with the appropriate compiler flags.\n"
     ]
    }
   ],
   "source": [
    "import numpy as np\n",
    "import pandas as pd\n",
    "import tensorflow as tf\n",
    "from tensorflow.keras.models import Sequential\n",
    "from tensorflow.keras.layers import LSTM, Dense, Dropout\n",
    "from collections import deque\n",
    "import random"
   ]
  },
  {
   "cell_type": "code",
   "execution_count": 2,
   "metadata": {},
   "outputs": [],
   "source": [
    "class StockTradingEnv:\n",
    "    def __init__(self, data):\n",
    "        self.data = data\n",
    "        self.reset()\n",
    "\n",
    "    def reset(self):\n",
    "        self.current_step = 0\n",
    "        self.done = False\n",
    "        self.state = self.data[self.current_step:self.current_step+sequence_length]\n",
    "        return self.state\n",
    "\n",
    "    def step(self, action):\n",
    "        if self.done:\n",
    "            return self.state, 0, self.done\n",
    "\n",
    "        reward = 0\n",
    "        self.current_step += 1\n",
    "\n",
    "        if self.current_step >= len(self.data) - sequence_length:\n",
    "            self.done = True\n",
    "\n",
    "        next_state = self.data[self.current_step:self.current_step+sequence_length]\n",
    "        \n",
    "        # Reward calculation (simplified)\n",
    "        if action == 1:  # Buy\n",
    "            reward = self.data[self.current_step + sequence_length - 1] - self.data[self.current_step + sequence_length - 2]\n",
    "        elif action == 2:  # Sell\n",
    "            reward = self.data[self.current_step + sequence_length - 2] - self.data[self.current_step + sequence_length - 1]\n",
    "\n",
    "        return next_state, reward, self.done"
   ]
  },
  {
   "cell_type": "code",
   "execution_count": 3,
   "metadata": {},
   "outputs": [],
   "source": [
    "# Q-Network\n",
    "def create_model(input_shape, action_space):\n",
    "    model = Sequential()\n",
    "    model.add(LSTM(units=50, return_sequences=True, input_shape=input_shape))\n",
    "    model.add(Dropout(0.2))\n",
    "    model.add(LSTM(units=50))\n",
    "    model.add(Dropout(0.2))\n",
    "    model.add(Dense(units=action_space, activation='linear'))\n",
    "    model.compile(optimizer=tf.keras.optimizers.Adam(learning_rate=learning_rate), loss='mse')\n",
    "    return model"
   ]
  },
  {
   "cell_type": "code",
   "execution_count": 4,
   "metadata": {},
   "outputs": [],
   "source": [
    "# Main training loop\n",
    "def train(env, model):\n",
    "    global epsilon\n",
    "    for episode in range(num_episodes):\n",
    "        state = env.reset()\n",
    "        state = np.reshape(state, (1, sequence_length, 1))\n",
    "        \n",
    "        total_reward = 0\n",
    "        while True:\n",
    "            if np.random.rand() <= epsilon:\n",
    "                action = random.randrange(3)  # Long, Short, Hold\n",
    "            else:\n",
    "                q_values = model.predict(state)\n",
    "                action = np.argmax(q_values[0])\n",
    "\n",
    "            next_state, reward, done = env.step(action)\n",
    "            next_state = np.reshape(next_state, (1, sequence_length, 1))\n",
    "            total_reward += reward\n",
    "\n",
    "            memory.append((state, action, reward, next_state, done))\n",
    "            state = next_state\n",
    "\n",
    "            if done:\n",
    "                print(f\"Episode: {episode+1}/{num_episodes}, Reward: {total_reward}\")\n",
    "                break\n",
    "\n",
    "            if len(memory) > batch_size:\n",
    "                batch = random.sample(memory, batch_size)\n",
    "                for state, action, reward, next_state, done in batch:\n",
    "                    target = reward\n",
    "                    if not done:\n",
    "                        target += gamma * np.amax(model.predict(next_state)[0])\n",
    "                    target_f = model.predict(state)\n",
    "                    target_f[0][action] = target\n",
    "                    model.fit(state, target_f, epochs=1, verbose=0)\n",
    "\n",
    "        if epsilon > epsilon_min:\n",
    "            epsilon *= epsilon_decay"
   ]
  },
  {
   "cell_type": "markdown",
   "metadata": {},
   "source": [
    "## Hyperparameters"
   ]
  },
  {
   "cell_type": "code",
   "execution_count": 6,
   "metadata": {},
   "outputs": [],
   "source": [
    "num_episodes = 1000\n",
    "gamma = 0.99  # Discount factor\n",
    "epsilon = 1.0  # Exploration rate\n",
    "epsilon_min = 0.1\n",
    "epsilon_decay = 0.995\n",
    "learning_rate = 0.001\n",
    "batch_size = 32\n",
    "memory_size = 2000\n",
    "sequence_length = 10  # LSTM input sequence length"
   ]
  },
  {
   "cell_type": "code",
   "execution_count": null,
   "metadata": {},
   "outputs": [],
   "source": [
    "# Experience Replay Memory\n",
    "memory = deque(maxlen=memory_size)"
   ]
  },
  {
   "cell_type": "code",
   "execution_count": 7,
   "metadata": {},
   "outputs": [
    {
     "name": "stderr",
     "output_type": "stream",
     "text": [
      "/Users/taryn.tsui/Documents/Alvin/GitHub/alvinlui99/Algo Trading/.venv/lib/python3.12/site-packages/keras/src/layers/rnn/rnn.py:204: UserWarning: Do not pass an `input_shape`/`input_dim` argument to a layer. When using Sequential models, prefer using an `Input(shape)` object as the first layer in the model instead.\n",
      "  super().__init__(**kwargs)\n"
     ]
    },
    {
     "ename": "NameError",
     "evalue": "name 'memory' is not defined",
     "output_type": "error",
     "traceback": [
      "\u001b[0;31m---------------------------------------------------------------------------\u001b[0m",
      "\u001b[0;31mNameError\u001b[0m                                 Traceback (most recent call last)",
      "Cell \u001b[0;32mIn[7], line 4\u001b[0m\n\u001b[1;32m      2\u001b[0m env \u001b[38;5;241m=\u001b[39m StockTradingEnv(data)\n\u001b[1;32m      3\u001b[0m model \u001b[38;5;241m=\u001b[39m create_model((sequence_length, \u001b[38;5;241m1\u001b[39m), \u001b[38;5;241m3\u001b[39m)\n\u001b[0;32m----> 4\u001b[0m \u001b[43mtrain\u001b[49m\u001b[43m(\u001b[49m\u001b[43menv\u001b[49m\u001b[43m,\u001b[49m\u001b[43m \u001b[49m\u001b[43mmodel\u001b[49m\u001b[43m)\u001b[49m\n",
      "Cell \u001b[0;32mIn[4], line 20\u001b[0m, in \u001b[0;36mtrain\u001b[0;34m(env, model)\u001b[0m\n\u001b[1;32m     17\u001b[0m next_state \u001b[38;5;241m=\u001b[39m np\u001b[38;5;241m.\u001b[39mreshape(next_state, (\u001b[38;5;241m1\u001b[39m, sequence_length, \u001b[38;5;241m1\u001b[39m))\n\u001b[1;32m     18\u001b[0m total_reward \u001b[38;5;241m+\u001b[39m\u001b[38;5;241m=\u001b[39m reward\n\u001b[0;32m---> 20\u001b[0m \u001b[43mmemory\u001b[49m\u001b[38;5;241m.\u001b[39mappend((state, action, reward, next_state, done))\n\u001b[1;32m     21\u001b[0m state \u001b[38;5;241m=\u001b[39m next_state\n\u001b[1;32m     23\u001b[0m \u001b[38;5;28;01mif\u001b[39;00m done:\n",
      "\u001b[0;31mNameError\u001b[0m: name 'memory' is not defined"
     ]
    }
   ],
   "source": [
    "data = pd.read_csv(\"../Binance Data/1h/BTCUSDT.csv\")[\"Close\"].values\n",
    "env = StockTradingEnv(data)\n",
    "model = create_model((sequence_length, 1), 3)\n",
    "train(env, model)"
   ]
  },
  {
   "cell_type": "code",
   "execution_count": null,
   "metadata": {},
   "outputs": [],
   "source": []
  }
 ],
 "metadata": {
  "kernelspec": {
   "display_name": "Python 3",
   "language": "python",
   "name": "python3"
  },
  "language_info": {
   "codemirror_mode": {
    "name": "ipython",
    "version": 3
   },
   "file_extension": ".py",
   "mimetype": "text/x-python",
   "name": "python",
   "nbconvert_exporter": "python",
   "pygments_lexer": "ipython3",
   "version": "3.12.4"
  }
 },
 "nbformat": 4,
 "nbformat_minor": 2
}
