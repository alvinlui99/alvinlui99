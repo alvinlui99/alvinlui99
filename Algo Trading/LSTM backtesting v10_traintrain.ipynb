{
 "cells": [
  {
   "cell_type": "markdown",
   "metadata": {},
   "source": [
    "Key features in v8:\n",
    "\n",
    "1. Long Short\n",
    "\n",
    "Reference\n",
    "Binance Margin Bracket\n",
    "https://www.binance.com/en/futures/trading-rules/quarterly/leverage-margin"
   ]
  },
  {
   "cell_type": "markdown",
   "metadata": {},
   "source": [
    "## Import Library"
   ]
  },
  {
   "cell_type": "code",
   "execution_count": 1,
   "metadata": {},
   "outputs": [
    {
     "name": "stderr",
     "output_type": "stream",
     "text": [
      "2024-09-02 16:31:49.701014: I tensorflow/core/platform/cpu_feature_guard.cc:210] This TensorFlow binary is optimized to use available CPU instructions in performance-critical operations.\n",
      "To enable the following instructions: AVX2 FMA, in other operations, rebuild TensorFlow with the appropriate compiler flags.\n"
     ]
    }
   ],
   "source": [
    "from datetime import datetime\n",
    "import pandas as pd\n",
    "import numpy as np\n",
    "import matplotlib.pyplot as plt\n",
    "\n",
    "import ta\n",
    "\n",
    "from tensorflow import keras\n",
    "from tensorflow.keras import layers, models\n",
    "\n",
    "from sklearn.decomposition import PCA\n",
    "from sklearn.preprocessing import StandardScaler"
   ]
  },
  {
   "cell_type": "code",
   "execution_count": 2,
   "metadata": {},
   "outputs": [],
   "source": [
    "import warnings\n",
    "warnings.filterwarnings(\"ignore\")"
   ]
  },
  {
   "cell_type": "markdown",
   "metadata": {},
   "source": [
    "## Defining Functions"
   ]
  },
  {
   "cell_type": "markdown",
   "metadata": {},
   "source": [
    "### Feature Engineering"
   ]
  },
  {
   "cell_type": "code",
   "execution_count": 3,
   "metadata": {},
   "outputs": [],
   "source": [
    "def addSMA(data, sma_start: int, sma_end: int, sma_step: int):\n",
    "    sma_range = range(sma_start, sma_end, sma_step)\n",
    "\n",
    "    for window in sma_range:\n",
    "        # SMA/Close\n",
    "        # relative value of SMA to closing price\n",
    "        data.loc[:,f\"SMA_{window}\"] = ta.trend.SMAIndicator(data.Close, window=window).sma_indicator() / data.Close\n",
    "\n",
    "    for i in range(len(sma_range)):\n",
    "        for j in range(i+1, len(sma_range)):\n",
    "            # (SMA_1 - SMA_2) / Close\n",
    "            data.loc[:,f\"SMA_DELTA_{sma_range[i]}_{sma_range[j]}\"] = data.loc[:,f\"SMA_{sma_range[i]}\"] - data.loc[:,f\"SMA_{sma_range[j]}\"]\n",
    "\n",
    "    return data"
   ]
  },
  {
   "cell_type": "code",
   "execution_count": 4,
   "metadata": {},
   "outputs": [],
   "source": [
    "def addEMA(data, ema_start: int, ema_end: int, ema_step: int):\n",
    "    ema_range = range(ema_start, ema_end, ema_step)\n",
    "\n",
    "    for window in ema_range:\n",
    "        # EMA/Close\n",
    "        # relative value of EMA to closing price\n",
    "        data.loc[:,f\"EMA_{window}\"] = ta.trend.EMAIndicator(data.Close, window=window).ema_indicator() / data.Close\n",
    "\n",
    "    for i in range(len(ema_range)):\n",
    "        for j in range(i+1, len(ema_range)):\n",
    "            # (EMA_1 - EMA_2) / Close\n",
    "            data.loc[:,f\"EMA_DELTA_{ema_range[i]}_{ema_range[j]}\"] = data.loc[:,f\"EMA_{ema_range[i]}\"] - data.loc[:,f\"EMA_{ema_range[j]}\"]\n",
    "\n",
    "    return data"
   ]
  },
  {
   "cell_type": "code",
   "execution_count": 5,
   "metadata": {},
   "outputs": [],
   "source": [
    "def feature_generation(\n",
    "    data,\n",
    "    sma_start: int = 20,\n",
    "    sma_end  : int = 100,\n",
    "    sma_step : int = 20,\n",
    "    ema_start: int = 20,\n",
    "    ema_end  : int = 100,\n",
    "    ema_step : int = 20\n",
    "    ):\n",
    "    \"\"\"\n",
    "    Input\n",
    "    --------\n",
    "    X: pd.DataFrame\n",
    "\n",
    "\n",
    "    Output\n",
    "    --------\n",
    "    X: pd.DataFrame\n",
    "    \"\"\"\n",
    "    close = data.Close\n",
    "\n",
    "    # SMA\n",
    "    data = addSMA(data=data, sma_start=sma_start, sma_end=sma_end, sma_step=sma_step)\n",
    "\n",
    "    # EMA\n",
    "    data = addEMA(data=data, ema_start=ema_start, ema_end=ema_end, ema_step=ema_step)\n",
    "\n",
    "    # RSI\n",
    "    data[\"RSI\"] = ta.momentum.RSIIndicator(data.Close).rsi()\n",
    "  \n",
    "    # MACD\n",
    "    data[\"MACD\"] = ta.trend.MACD(data.Close).macd()\n",
    "\n",
    "    # ATR\n",
    "    data[\"ATR\"] = ta.volatility.AverageTrueRange(data.High, data.Low, data.Close).average_true_range()\n",
    "\n",
    "    # BollingerBands\n",
    "    upper = ta.volatility.BollingerBands(data.Close).bollinger_hband()\n",
    "    lower = ta.volatility.BollingerBands(data.Close).bollinger_lband()\n",
    "\n",
    "    data[\"BB_upper\"] = (upper - close) / close\n",
    "    data[\"BB_lower\"] = (lower - close) / close\n",
    "    data[\"BB_width\"] = (upper - lower) / close\n",
    "\n",
    "    # Garman Klass Volatility\n",
    "    data[\"garman_klass_vol\"] = ((np.log(data.High)-np.log(data.Low))**2)/2-(2*np.log(2)-1)*((np.log(data.Close)-np.log(data.Open))**2)\n",
    "\n",
    "    return data"
   ]
  },
  {
   "cell_type": "code",
   "execution_count": 6,
   "metadata": {},
   "outputs": [],
   "source": [
    "def preprocess(data,\n",
    "               PCA_components = 8):\n",
    "  # Feature generation\n",
    "  data_features = feature_generation(data)\n",
    "\n",
    "  # Feature\n",
    "  remove_columns = [\"Open\",\n",
    "                    \"High\",\n",
    "                    \"Low\",\n",
    "                    \"Close\"]\n",
    "  features = data_features.drop(remove_columns, axis=1).dropna()\n",
    "\n",
    "  # normalize\n",
    "  scaler = StandardScaler()\n",
    "  features = pd.DataFrame(\n",
    "    scaler.fit_transform(features),\n",
    "    index=features.index,\n",
    "    columns=features.columns)\n",
    "\n",
    "  # PCA\n",
    "  pca = PCA(n_components=PCA_components)\n",
    "  features = pd.DataFrame(\n",
    "    pca.fit_transform(features),\n",
    "    index=features.index)\n",
    "  \n",
    "  return features"
   ]
  },
  {
   "cell_type": "code",
   "execution_count": 7,
   "metadata": {},
   "outputs": [],
   "source": [
    "def create_LSTM_input(data, time_steps=10):\n",
    "    num_samples = data.shape[0] - time_steps + 1\n",
    "    X = np.array([data[i:i+time_steps] for i in range(num_samples)])\n",
    "    return X\n"
   ]
  },
  {
   "cell_type": "markdown",
   "metadata": {},
   "source": [
    "## Defining Model"
   ]
  },
  {
   "cell_type": "code",
   "execution_count": 8,
   "metadata": {},
   "outputs": [],
   "source": [
    "class LSTM_stack(layers.Layer):\n",
    "    \"\"\"stacks of LSTM with dropout, followed by dense layer\"\"\"\n",
    "\n",
    "    def __init__(\n",
    "        self,\n",
    "        dropout_rate: float = 0.2\n",
    "        ):\n",
    "        super().__init__()\n",
    "\n",
    "        self.lstm_1 = layers.LSTM(\n",
    "            units=50,\n",
    "            return_sequences=True,\n",
    "            )\n",
    "\n",
    "        self.lstm_2 = layers.LSTM(\n",
    "            units=50,\n",
    "            return_sequences=True,\n",
    "            )\n",
    "\n",
    "        self.lstm_3 = layers.LSTM(\n",
    "            units=50,\n",
    "            return_sequences=False,\n",
    "            )\n",
    "\n",
    "        self.dense_1 = layers.Dense(\n",
    "            units=1\n",
    "            )\n",
    "\n",
    "        self.dropout_1 = layers.Dropout(dropout_rate)\n",
    "\n",
    "    def call(self, inputs):\n",
    "        x = self.lstm_1(inputs)\n",
    "        x = self.dropout_1(x)\n",
    "        x = self.lstm_2(inputs)\n",
    "        x = self.dropout_1(x)\n",
    "        x = self.lstm_3(inputs)\n",
    "        x = self.dropout_1(x)\n",
    "        return self.dense_1(x)"
   ]
  },
  {
   "cell_type": "markdown",
   "metadata": {},
   "source": [
    "## Defining Trading Environment"
   ]
  },
  {
   "cell_type": "code",
   "execution_count": 9,
   "metadata": {},
   "outputs": [],
   "source": [
    "class Coin:\n",
    "    def __init__(self, symbol, ohlcv):\n",
    "        self.symbol = symbol\n",
    "        self.ohlcv = ohlcv\n",
    "        self.logret = self.calculate_logret()\n",
    "        self.trading_history = []  # List to store trading history\n",
    "        self.volatility = self.calculate_volatility()\n",
    "        self.features = preprocess(\n",
    "            pd.concat([\n",
    "                self.ohlcv,\n",
    "                self.logret,\n",
    "                self.volatility],\n",
    "                axis=1))\n",
    "        self.y = self.logret.shift(-1)\n",
    "\n",
    "    def calculate_logret(self):\n",
    "        return pd.DataFrame(\n",
    "            np.log((self.ohlcv.Close / self.ohlcv.Close.shift(1)))).rename(columns={\"Close\": \"logret\"})\n",
    "\n",
    "    def calculate_volatility(self):\n",
    "        return pd.DataFrame(\n",
    "            self.logret.rolling(window=14).std()).rename(columns={\"logret\": \"vol\"})"
   ]
  },
  {
   "cell_type": "code",
   "execution_count": 10,
   "metadata": {},
   "outputs": [],
   "source": [
    "class Market:\n",
    "    def __init__(\n",
    "        self,\n",
    "        cash = 10000):\n",
    "        self.coins = {}  # Dictionary to store coins\n",
    "        self.init_cash = cash\n",
    "        self.cash = self.init_cash  # Initial cash balance\n",
    "        self.assets = {}  # Dictionary to store quantity of each asset\n",
    "        self.prices = pd.DataFrame()\n",
    "\n",
    "        self.margin_rate = 0.004\n",
    "\n",
    "\n",
    "    def add_coin(self, coin):\n",
    "        self.coins[coin.symbol] = coin\n",
    "        self.assets[coin.symbol] = 0  # Initialize asset quantity to 0\n",
    "\n",
    "        close = pd.DataFrame(coin.ohlcv.Close).rename(columns={\"Close\": coin.symbol})\n",
    "        self.prices = pd.concat([self.prices, close], axis=1)\n",
    "        \n",
    "        self.coins[coin.symbol].trading_history = []\n",
    "        self.coins[coin.symbol].position = \"Closed\"\n",
    "\n",
    "        self.coins[coin.symbol].entry_cost = 0\n",
    "\n",
    "    def reset(self):\n",
    "        self.cash = self.init_cash\n",
    "        for symbol in self.coins:\n",
    "            self.coins[symbol].trading_history = []\n",
    "            self.assets[symbol] = 0  # Initialize asset quantity to 0\n",
    "            self.coins[symbol].position = \"Closed\"\n",
    "            self.coins[symbol].entry_cost = 0\n",
    "\n",
    "    def trade(self, symbol, action, quantity, price, time):\n",
    "        if action == \"long\":\n",
    "            self.market_long(symbol, quantity, price, time)\n",
    "\n",
    "        if action == \"short\":\n",
    "            self.market_short(symbol, quantity, price, time)\n",
    "\n",
    "        elif action == \"close\":\n",
    "            if self.coins[symbol].position != \"Closed\":\n",
    "                if self.coins[symbol].position == \"Long\":\n",
    "                    self.market_long_close(symbol, quantity, price, time)\n",
    "                if self.coins[symbol].position == \"Short\":\n",
    "                    self.market_short_close(symbol, quantity, price, time)\n",
    "\n",
    "    def market_long(self, symbol, quantity, price, time):        \n",
    "        available_margin = self.cash\n",
    "        maintenance_margin = quantity * price * self.margin_rate\n",
    "        margin_balance = available_margin\n",
    "        margin_ratio = maintenance_margin / margin_balance\n",
    "\n",
    "        if margin_ratio < 1:\n",
    "            self.assets[symbol] += quantity\n",
    "            self.coins[symbol].trading_history.append(\n",
    "                {\n",
    "                    \"action\": \"long\",\n",
    "                    \"quantity\": quantity,\n",
    "                    \"price\": price,\n",
    "                    \"time\": time\n",
    "                })\n",
    "            self.coins[symbol].entry_cost = quantity * price\n",
    "            self.coins[symbol].position = \"Long\"\n",
    "\n",
    "    def market_long_close(self, symbol, quantity, price, time):\n",
    "        notional_value = quantity * price\n",
    "\n",
    "        self.cash += notional_value - self.coins[symbol].entry_cost\n",
    "\n",
    "        self.assets[symbol] -= quantity\n",
    "        self.coins[symbol].trading_history.append(\n",
    "            {\n",
    "                \"action\": \"close\",\n",
    "                \"quantity\": quantity,\n",
    "                \"price\": price,\n",
    "                \"time\": time\n",
    "            })\n",
    "        self.coins[symbol].entry_cost = 0\n",
    "        self.coins[symbol].position = \"Closed\"\n",
    "\n",
    "    def market_short(self, symbol, quantity, price, time):\n",
    "        self.assets[symbol] += quantity\n",
    "        self.coins[symbol].trading_history.append(\n",
    "            {\n",
    "                \"action\": \"short\",\n",
    "                \"quantity\": quantity,\n",
    "                \"price\": price,\n",
    "                \"time\": time\n",
    "            })\n",
    "        self.coins[symbol].entry_cost = quantity * price\n",
    "        self.coins[symbol].position = \"Short\"\n",
    "\n",
    "    def market_short_close(self, symbol, quantity, price, time):\n",
    "        notional_value = quantity * price\n",
    "\n",
    "        self.cash += notional_value - self.coins[symbol].entry_cost\n",
    "\n",
    "        self.assets[symbol] -= quantity\n",
    "        self.coins[symbol].trading_history.append(\n",
    "            {\n",
    "                \"action\": \"close\",\n",
    "                \"quantity\": quantity,\n",
    "                \"price\": price,\n",
    "                \"time\": time\n",
    "            })\n",
    "        self.coins[symbol].entry_cost = 0\n",
    "        self.coins[symbol].position = \"Closed\"\n",
    "\n",
    "    def get_margin_ratio(self, time):\n",
    "        maintenance_margin = 0\n",
    "        margin_balance = self.cash\n",
    "        for symbol in self.coins:\n",
    "            qty = self.assets[symbol]\n",
    "            price = self.prices.loc[time, symbol]\n",
    "            entry_cost = self.coins[symbol].entry_cost\n",
    "\n",
    "            notional_value = qty * price\n",
    "\n",
    "            maintenance_margin += notional_value * self.margin_rate\n",
    "            margin_balance += notional_value - entry_cost\n",
    "        \n",
    "        margin_ratio = maintenance_margin / margin_balance\n",
    "\n",
    "        return margin_ratio\n"
   ]
  },
  {
   "cell_type": "markdown",
   "metadata": {},
   "source": [
    "## Parameters"
   ]
  },
  {
   "cell_type": "markdown",
   "metadata": {},
   "source": [
    "This section contains all the parameters."
   ]
  },
  {
   "cell_type": "code",
   "execution_count": 11,
   "metadata": {},
   "outputs": [],
   "source": [
    "symbols = [\n",
    "    \"ADAUSDT\",\n",
    "    \"BNBUSDT\",\n",
    "    \"BTCUSDT\",\n",
    "    \"EOSUSDT\",\n",
    "    \"ETHUSDT\",\n",
    "    \"LTCUSDT\",\n",
    "    \"NEOUSDT\",\n",
    "    \"QTUMUSDT\",\n",
    "    \"XRPUSDT\"\n",
    "    ]\n",
    "\n",
    "interval = \"15m\""
   ]
  },
  {
   "cell_type": "markdown",
   "metadata": {},
   "source": [
    "## Training the Model"
   ]
  },
  {
   "cell_type": "markdown",
   "metadata": {},
   "source": [
    "This section outputs training and testing data for the use of the following sections."
   ]
  },
  {
   "cell_type": "markdown",
   "metadata": {},
   "source": [
    "### Creating the market for training the model"
   ]
  },
  {
   "cell_type": "code",
   "execution_count": 12,
   "metadata": {},
   "outputs": [],
   "source": [
    "model = keras.models.load_model(\"LSTM_full.keras\")"
   ]
  },
  {
   "cell_type": "markdown",
   "metadata": {},
   "source": [
    "## Testing the model"
   ]
  },
  {
   "cell_type": "code",
   "execution_count": 13,
   "metadata": {},
   "outputs": [],
   "source": [
    "market_test = Market()\n",
    "for symbol in symbols:\n",
    "    data_test = pd.read_csv(f\"Binance Data/Training/{interval}/{symbol}.csv\", index_col=\"index\")\n",
    "    data_test = data_test.set_index(pd.DatetimeIndex(pd.to_datetime(data_test.index)))\n",
    "    coin = Coin(symbol, data_test)\n",
    "    market_test.add_coin(coin)"
   ]
  },
  {
   "cell_type": "code",
   "execution_count": 20,
   "metadata": {},
   "outputs": [
    {
     "name": "stdout",
     "output_type": "stream",
     "text": [
      "\u001b[1m2183/2183\u001b[0m \u001b[32m━━━━━━━━━━━━━━━━━━━━\u001b[0m\u001b[37m\u001b[0m \u001b[1m9s\u001b[0m 4ms/step\n",
      "\u001b[1m2183/2183\u001b[0m \u001b[32m━━━━━━━━━━━━━━━━━━━━\u001b[0m\u001b[37m\u001b[0m \u001b[1m9s\u001b[0m 4ms/step\n",
      "\u001b[1m2183/2183\u001b[0m \u001b[32m━━━━━━━━━━━━━━━━━━━━\u001b[0m\u001b[37m\u001b[0m \u001b[1m9s\u001b[0m 4ms/step\n",
      "\u001b[1m2183/2183\u001b[0m \u001b[32m━━━━━━━━━━━━━━━━━━━━\u001b[0m\u001b[37m\u001b[0m \u001b[1m9s\u001b[0m 4ms/step\n",
      "\u001b[1m2183/2183\u001b[0m \u001b[32m━━━━━━━━━━━━━━━━━━━━\u001b[0m\u001b[37m\u001b[0m \u001b[1m9s\u001b[0m 4ms/step\n",
      "\u001b[1m2183/2183\u001b[0m \u001b[32m━━━━━━━━━━━━━━━━━━━━\u001b[0m\u001b[37m\u001b[0m \u001b[1m8s\u001b[0m 4ms/step\n",
      "\u001b[1m2183/2183\u001b[0m \u001b[32m━━━━━━━━━━━━━━━━━━━━\u001b[0m\u001b[37m\u001b[0m \u001b[1m9s\u001b[0m 4ms/step\n",
      "\u001b[1m2183/2183\u001b[0m \u001b[32m━━━━━━━━━━━━━━━━━━━━\u001b[0m\u001b[37m\u001b[0m \u001b[1m9s\u001b[0m 4ms/step\n",
      "\u001b[1m2183/2183\u001b[0m \u001b[32m━━━━━━━━━━━━━━━━━━━━\u001b[0m\u001b[37m\u001b[0m \u001b[1m9s\u001b[0m 4ms/step\n"
     ]
    }
   ],
   "source": [
    "predictions = {}\n",
    "\n",
    "for symbol in symbols:\n",
    "    X_test = create_LSTM_input(market_test.coins[symbol].features)\n",
    "    scaler = StandardScaler()\n",
    "    predictions[symbol] = scaler.fit_transform(model.predict(X_test))\n"
   ]
  },
  {
   "cell_type": "code",
   "execution_count": null,
   "metadata": {},
   "outputs": [
    {
     "name": "stdout",
     "output_type": "stream",
     "text": [
      "\u001b[1m2183/2183\u001b[0m \u001b[32m━━━━━━━━━━━━━━━━━━━━\u001b[0m\u001b[37m\u001b[0m \u001b[1m9s\u001b[0m 4ms/step\n",
      "\u001b[1m2183/2183\u001b[0m \u001b[32m━━━━━━━━━━━━━━━━━━━━\u001b[0m\u001b[37m\u001b[0m \u001b[1m9s\u001b[0m 4ms/step\n",
      "\u001b[1m2183/2183\u001b[0m \u001b[32m━━━━━━━━━━━━━━━━━━━━\u001b[0m\u001b[37m\u001b[0m \u001b[1m9s\u001b[0m 4ms/step\n",
      "\u001b[1m2183/2183\u001b[0m \u001b[32m━━━━━━━━━━━━━━━━━━━━\u001b[0m\u001b[37m\u001b[0m \u001b[1m9s\u001b[0m 4ms/step\n",
      "\u001b[1m2183/2183\u001b[0m \u001b[32m━━━━━━━━━━━━━━━━━━━━\u001b[0m\u001b[37m\u001b[0m \u001b[1m9s\u001b[0m 4ms/step\n",
      "\u001b[1m2183/2183\u001b[0m \u001b[32m━━━━━━━━━━━━━━━━━━━━\u001b[0m\u001b[37m\u001b[0m \u001b[1m8s\u001b[0m 4ms/step\n",
      "\u001b[1m2183/2183\u001b[0m \u001b[32m━━━━━━━━━━━━━━━━━━━━\u001b[0m\u001b[37m\u001b[0m \u001b[1m9s\u001b[0m 4ms/step\n",
      "\u001b[1m2183/2183\u001b[0m \u001b[32m━━━━━━━━━━━━━━━━━━━━\u001b[0m\u001b[37m\u001b[0m \u001b[1m9s\u001b[0m 4ms/step\n",
      "\u001b[1m2183/2183\u001b[0m \u001b[32m━━━━━━━━━━━━━━━━━━━━\u001b[0m\u001b[37m\u001b[0m \u001b[1m9s\u001b[0m 4ms/step\n"
     ]
    }
   ],
   "source": [
    "predictions = {}\n",
    "\n",
    "for symbol in symbols:\n",
    "    X_test = create_LSTM_input(market_test.coins[symbol].features)\n",
    "    scaler = StandardScaler()\n",
    "    predictions[symbol] = scaler.fit_transform(model.predict(X_test))\n"
   ]
  },
  {
   "cell_type": "markdown",
   "metadata": {},
   "source": [
    "### Long Only"
   ]
  },
  {
   "cell_type": "code",
   "execution_count": 21,
   "metadata": {},
   "outputs": [],
   "source": [
    "long_threshold = 0.5\n",
    "close_long_threshold = 0\n",
    "\n",
    "short_threshold = -0.5\n",
    "close_short_threshold = 0\n",
    "\n",
    "leverage = 1\n",
    "\n",
    "results_long = {}\n",
    "\n",
    "for symbol in symbols:\n",
    "    market_test.reset()\n",
    "    test_time = market_test.coins[symbol].features[-len(X_test):].index\n",
    "    account_values = np.zeros((len(test_time)))\n",
    "    for index, time in enumerate(test_time):\n",
    "        price = market_test.prices.loc[time, symbol]\n",
    "\n",
    "        if market_test.coins[symbol].position == \"Closed\" and predictions[symbol][index] > long_threshold:\n",
    "            qty = market_test.cash * leverage / price\n",
    "            market_test.trade(\n",
    "                symbol=symbol,\n",
    "                action=\"long\",\n",
    "                quantity=qty,\n",
    "                price=price,\n",
    "                time=time\n",
    "            )\n",
    "\n",
    "        if market_test.coins[symbol].position == \"Long\" and predictions[symbol][index] < close_long_threshold:\n",
    "            qty = market_test.assets[symbol]\n",
    "            market_test.trade(\n",
    "                symbol=symbol,\n",
    "                action=\"close\",\n",
    "                quantity=qty,\n",
    "                price=price,\n",
    "                time=time\n",
    "            )\n",
    "\n",
    "        if market_test.get_margin_ratio(time) >= 1:\n",
    "            print(f\"{symbol} liquidated\")\n",
    "            continue\n",
    "\n",
    "        account_values[index] = market_test.cash + \\\n",
    "            market_test.assets[symbol] * market_test.prices.loc[time, symbol] - \\\n",
    "                market_test.coins[symbol].entry_cost\n",
    "\n",
    "    if market_test.coins[symbol].position != \"Closed\":\n",
    "        price = market_test.prices.loc[time, symbol]\n",
    "        qty = market_test.assets[symbol]\n",
    "        market_test.trade(symbol, \"close\", qty, price, time)\n",
    "\n",
    "    account_values[index] = market_test.cash + \\\n",
    "        market_test.assets[symbol] * market_test.prices.loc[time, symbol] - \\\n",
    "            market_test.coins[symbol].entry_cost\n",
    "\n",
    "    results_long[symbol] = account_values"
   ]
  },
  {
   "cell_type": "code",
   "execution_count": 42,
   "metadata": {},
   "outputs": [
    {
     "data": {
      "image/png": "[encoded data removed]",
      "text/plain": [
       "<Figure size 640x480 with 1 Axes>"
      ]
     },
     "metadata": {},
     "output_type": "display_data"
    }
   ],
   "source": [
    "# plt.plot(results_long[symbol])\n",
    "plt.plot(market_test.prices[symbol])\n",
    "plt.show()"
   ]
  },
  {
   "cell_type": "code",
   "execution_count": 22,
   "metadata": {},
   "outputs": [
    {
     "data": {
      "image/png": "[encoded data removed]",
      "text/plain": [
       "<Figure size 640x480 with 1 Axes>"
      ]
     },
     "metadata": {},
     "output_type": "display_data"
    }
   ],
   "source": [
    "for symbol in symbols:\n",
    "    buy_and_hold = market_test.prices.loc[test_time,symbol] / market_test.prices.loc[test_time[0],symbol]\n",
    "    strategy_pl = results_long[symbol] / results_long[symbol][0]\n",
    "    score = strategy_pl / buy_and_hold\n",
    "\n",
    "    plt.plot(\n",
    "        test_time,\n",
    "        score,\n",
    "        label = symbol\n",
    "    )\n",
    "\n",
    "plt.axhline(y=1, linestyle='--')\n",
    "\n",
    "plt.title(\"Long Only\")\n",
    "plt.legend()\n",
    "plt.show()"
   ]
  },
  {
   "cell_type": "markdown",
   "metadata": {},
   "source": [
    "### Short Only"
   ]
  },
  {
   "cell_type": "code",
   "execution_count": 23,
   "metadata": {},
   "outputs": [],
   "source": [
    "long_threshold = 0.5\n",
    "close_long_threshold = 0\n",
    "\n",
    "short_threshold = -0.5\n",
    "close_short_threshold = 0\n",
    "\n",
    "leverage = 1\n",
    "\n",
    "results_short = {}\n",
    "\n",
    "for symbol in symbols:\n",
    "    market_test.reset()\n",
    "    test_time = market_test.coins[symbol].features[-len(X_test):].index\n",
    "\n",
    "    account_values = np.zeros((len(test_time)))\n",
    "    for index, time in enumerate(test_time):\n",
    "        price = market_test.prices.loc[time, symbol]\n",
    "\n",
    "        if market_test.coins[symbol].position == \"Closed\" and predictions[symbol][index] < short_threshold:\n",
    "            qty = - market_test.cash * leverage / price\n",
    "            market_test.trade(\n",
    "                symbol=symbol,\n",
    "                action=\"short\",\n",
    "                quantity=qty,\n",
    "                price=price,\n",
    "                time=time\n",
    "            )\n",
    "\n",
    "        if market_test.coins[symbol].position == \"Short\" and predictions[symbol][index] > close_short_threshold:\n",
    "            qty = market_test.assets[symbol]\n",
    "            market_test.trade(\n",
    "                symbol=symbol,\n",
    "                action=\"close\",\n",
    "                quantity=qty,\n",
    "                price=price,\n",
    "                time=time\n",
    "            )\n",
    "\n",
    "        if market_test.get_margin_ratio(time) >= 1:\n",
    "            print(f\"{symbol} liquidated\")\n",
    "            continue\n",
    "\n",
    "        account_values[index] = market_test.cash + \\\n",
    "            market_test.assets[symbol] * market_test.prices.loc[time, symbol] - \\\n",
    "                market_test.coins[symbol].entry_cost\n",
    "\n",
    "    if market_test.coins[symbol].position != \"Closed\":\n",
    "        price = market_test.prices.loc[time, symbol]\n",
    "        qty = market_test.assets[symbol]\n",
    "        market_test.trade(symbol, \"close\", qty, price, time)\n",
    "\n",
    "    account_values[index] = market_test.cash + \\\n",
    "        market_test.assets[symbol] * market_test.prices.loc[time, symbol] - \\\n",
    "            market_test.coins[symbol].entry_cost\n",
    "\n",
    "    results_short[symbol] = account_values"
   ]
  },
  {
   "cell_type": "code",
   "execution_count": 24,
   "metadata": {},
   "outputs": [
    {
     "data": {
      "image/png": "[encoded data removed]",
      "text/plain": [
       "<Figure size 640x480 with 1 Axes>"
      ]
     },
     "metadata": {},
     "output_type": "display_data"
    }
   ],
   "source": [
    "for symbol in symbols:\n",
    "    buy_and_hold = market_test.prices.loc[test_time,symbol] / market_test.prices.loc[test_time[0],symbol]\n",
    "    strategy_pl = results_short[symbol] / results_short[symbol][0]\n",
    "    score = strategy_pl / buy_and_hold\n",
    "\n",
    "    plt.plot(\n",
    "        test_time,\n",
    "        score,\n",
    "        label = symbol\n",
    "    )\n",
    "\n",
    "plt.axhline(y=1, linestyle='--')\n",
    "\n",
    "plt.title(\"Short Only\")\n",
    "plt.legend()\n",
    "plt.show()"
   ]
  },
  {
   "cell_type": "markdown",
   "metadata": {},
   "source": [
    "### Long Short"
   ]
  },
  {
   "cell_type": "code",
   "execution_count": 25,
   "metadata": {},
   "outputs": [],
   "source": [
    "long_threshold = 0.5\n",
    "close_long_threshold = 0\n",
    "\n",
    "short_threshold = -0.5\n",
    "close_short_threshold = 0\n",
    "\n",
    "leverage = 1\n",
    "\n",
    "results_long_short = {}\n",
    "\n",
    "for symbol in symbols:\n",
    "    market_test.reset()\n",
    "\n",
    "    test_time = market_test.coins[symbol].features[-len(X_test):].index\n",
    "\n",
    "    account_values = np.zeros((len(test_time)))\n",
    "    for index, time in enumerate(test_time):\n",
    "        price = market_test.prices.loc[time, symbol]\n",
    "\n",
    "        if market_test.coins[symbol].position == \"Closed\" and predictions[symbol][index] > long_threshold:\n",
    "            qty = market_test.cash * leverage / price\n",
    "            market_test.trade(\n",
    "                symbol=symbol,\n",
    "                action=\"long\",\n",
    "                quantity=qty,\n",
    "                price=price,\n",
    "                time=time\n",
    "            )\n",
    "\n",
    "        if market_test.coins[symbol].position == \"Long\" and predictions[symbol][index] < close_long_threshold:\n",
    "            qty = market_test.assets[symbol]\n",
    "            market_test.trade(\n",
    "                symbol=symbol,\n",
    "                action=\"close\",\n",
    "                quantity=qty,\n",
    "                price=price,\n",
    "                time=time\n",
    "            )\n",
    "\n",
    "        if market_test.coins[symbol].position == \"Closed\" and predictions[symbol][index] < short_threshold:\n",
    "            qty = - market_test.cash * leverage / price\n",
    "            market_test.trade(\n",
    "                symbol=symbol,\n",
    "                action=\"short\",\n",
    "                quantity=qty,\n",
    "                price=price,\n",
    "                time=time\n",
    "            )\n",
    "\n",
    "        if market_test.coins[symbol].position == \"Short\" and predictions[symbol][index] > close_short_threshold:\n",
    "            qty = market_test.assets[symbol]\n",
    "            market_test.trade(\n",
    "                symbol=symbol,\n",
    "                action=\"close\",\n",
    "                quantity=qty,\n",
    "                price=price,\n",
    "                time=time\n",
    "            )\n",
    "\n",
    "        if market_test.get_margin_ratio(time) >= 1:\n",
    "            print(f\"{symbol} liquidated\")\n",
    "            continue\n",
    "\n",
    "        account_values[index] = market_test.cash + \\\n",
    "            market_test.assets[symbol] * market_test.prices.loc[time, symbol] - \\\n",
    "                market_test.coins[symbol].entry_cost\n",
    "\n",
    "    if market_test.coins[symbol].position != \"Closed\":\n",
    "        price = market_test.prices.loc[time, symbol]\n",
    "        qty = market_test.assets[symbol]\n",
    "        market_test.trade(symbol, \"close\", qty, price, time)\n",
    "\n",
    "    account_values[index] = market_test.cash + \\\n",
    "        market_test.assets[symbol] * market_test.prices.loc[time, symbol] - \\\n",
    "            market_test.coins[symbol].entry_cost\n",
    "\n",
    "    results_long_short[symbol] = account_values"
   ]
  },
  {
   "cell_type": "code",
   "execution_count": 26,
   "metadata": {},
   "outputs": [
    {
     "data": {
      "image/png": "[encoded data removed]",
      "text/plain": [
       "<Figure size 640x480 with 1 Axes>"
      ]
     },
     "metadata": {},
     "output_type": "display_data"
    }
   ],
   "source": [
    "for symbol in symbols:\n",
    "    buy_and_hold = market_test.prices.loc[test_time,symbol] / market_test.prices.loc[test_time[0],symbol]\n",
    "    strategy_pl = results_long_short[symbol] / results_long_short[symbol][0]\n",
    "    score = strategy_pl / buy_and_hold\n",
    "\n",
    "    plt.plot(\n",
    "        test_time,\n",
    "        score,\n",
    "        label = symbol\n",
    "    )\n",
    "\n",
    "plt.axhline(y=1, linestyle='--')\n",
    "\n",
    "plt.title(\"Long Short\")\n",
    "plt.legend()\n",
    "plt.show()"
   ]
  },
  {
   "cell_type": "code",
   "execution_count": null,
   "metadata": {},
   "outputs": [],
   "source": []
  },
  {
   "cell_type": "markdown",
   "metadata": {},
   "source": [
    "# To Do\n",
    "- test with simple strategy\n",
    "    - only one asset in a portfolio\n",
    "    - test which asset performs the best\n",
    "    - check G/L distribution at different time\n",
    "    - see if can mitigate loss by creating a portfolio\n",
    "- Model volatility and trade option\n",
    "- Apply the same PCA and MinMaxScaler to train, val and test"
   ]
  },
  {
   "cell_type": "code",
   "execution_count": null,
   "metadata": {},
   "outputs": [],
   "source": []
  },
  {
   "cell_type": "code",
   "execution_count": null,
   "metadata": {},
   "outputs": [],
   "source": []
  },
  {
   "cell_type": "code",
   "execution_count": null,
   "metadata": {},
   "outputs": [],
   "source": []
  },
  {
   "cell_type": "code",
   "execution_count": null,
   "metadata": {},
   "outputs": [],
   "source": []
  },
  {
   "cell_type": "code",
   "execution_count": null,
   "metadata": {},
   "outputs": [],
   "source": []
  },
  {
   "cell_type": "code",
   "execution_count": null,
   "metadata": {},
   "outputs": [],
   "source": []
  },
  {
   "cell_type": "markdown",
   "metadata": {},
   "source": [
    "## Backtesting"
   ]
  },
  {
   "cell_type": "code",
   "execution_count": null,
   "metadata": {},
   "outputs": [],
   "source": []
  },
  {
   "cell_type": "markdown",
   "metadata": {},
   "source": [
    "## Results"
   ]
  },
  {
   "cell_type": "code",
   "execution_count": null,
   "metadata": {},
   "outputs": [],
   "source": []
  },
  {
   "cell_type": "markdown",
   "metadata": {},
   "source": [
    "## Ad hoc"
   ]
  },
  {
   "cell_type": "code",
   "execution_count": null,
   "metadata": {},
   "outputs": [],
   "source": []
  },
  {
   "cell_type": "code",
   "execution_count": null,
   "metadata": {},
   "outputs": [],
   "source": []
  },
  {
   "cell_type": "code",
   "execution_count": null,
   "metadata": {},
   "outputs": [],
   "source": []
  },
  {
   "cell_type": "code",
   "execution_count": null,
   "metadata": {},
   "outputs": [],
   "source": []
  },
  {
   "cell_type": "code",
   "execution_count": null,
   "metadata": {},
   "outputs": [],
   "source": []
  },
  {
   "cell_type": "code",
   "execution_count": null,
   "metadata": {},
   "outputs": [],
   "source": []
  }
 ],
 "metadata": {
  "kernelspec": {
   "display_name": "Python 3",
   "language": "python",
   "name": "python3"
  },
  "language_info": {
   "codemirror_mode": {
    "name": "ipython",
    "version": 3
   },
   "file_extension": ".py",
   "mimetype": "text/x-python",
   "name": "python",
   "nbconvert_exporter": "python",
   "pygments_lexer": "ipython3",
   "version": "3.12.4"
  }
 },
 "nbformat": 4,
 "nbformat_minor": 2
}
