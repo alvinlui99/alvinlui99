{
 "cells": [
  {
   "cell_type": "markdown",
   "metadata": {},
   "source": [
    "### Library"
   ]
  },
  {
   "cell_type": "code",
   "execution_count": 4,
   "metadata": {},
   "outputs": [],
   "source": [
    "from humpback import *\n",
    "\n",
    "import pandas as pd\n",
    "import numpy as np\n",
    "from datetime import datetime\n",
    "import ta\n",
    "\n",
    "from keras.models import Sequential\n",
    "from keras.layers import LSTM, Dense, Dropout\n",
    "\n",
    "from backtesting import Backtest, Strategy"
   ]
  },
  {
   "cell_type": "markdown",
   "metadata": {},
   "source": [
    "### TA Calculation Functions"
   ]
  },
  {
   "cell_type": "markdown",
   "metadata": {},
   "source": [
    "#### SMA"
   ]
  },
  {
   "cell_type": "code",
   "execution_count": 5,
   "metadata": {},
   "outputs": [],
   "source": [
    "def sma(df, window):\n",
    "    sma = ta.trend.SMAIndicator(pd.Series(df), window=window).sma_indicator()\n",
    "    return sma"
   ]
  },
  {
   "cell_type": "markdown",
   "metadata": {},
   "source": [
    "#### RSI"
   ]
  },
  {
   "cell_type": "code",
   "execution_count": 6,
   "metadata": {},
   "outputs": [],
   "source": [
    "def rsi(df, window=14):\n",
    "    rsi = ta.momentum.RSIIndicator(pd.Series(df), window=window).rsi()\n",
    "    return rsi"
   ]
  },
  {
   "cell_type": "markdown",
   "metadata": {},
   "source": [
    "#### EMA"
   ]
  },
  {
   "cell_type": "code",
   "execution_count": 7,
   "metadata": {},
   "outputs": [],
   "source": [
    "def ema(df, period=200):\n",
    "    ema = ta.trend.EMAIndicator(pd.Series(df), window=window).ema_indicator()\n",
    "    return ema"
   ]
  },
  {
   "cell_type": "markdown",
   "metadata": {},
   "source": [
    "#### MACD"
   ]
  },
  {
   "cell_type": "code",
   "execution_count": 8,
   "metadata": {},
   "outputs": [],
   "source": [
    "def macd(df):\n",
    "    macd = ta.trend.MACD(pd.Series(df)).macd()\n",
    "    return macd"
   ]
  },
  {
   "cell_type": "markdown",
   "metadata": {},
   "source": [
    "#### Bollinger Bands"
   ]
  },
  {
   "cell_type": "code",
   "execution_count": 9,
   "metadata": {},
   "outputs": [],
   "source": [
    "def signal_h(df):\n",
    "    return ta.volatility.BollingerBands(pd.Series(df)).bollinger_hband()\n",
    "def signal_l(df):\n",
    "    return ta.volatility.BollingerBands(pd.Series(df)).bollinger_lband()"
   ]
  },
  {
   "cell_type": "markdown",
   "metadata": {},
   "source": [
    "### other handy functions"
   ]
  },
  {
   "cell_type": "code",
   "execution_count": 10,
   "metadata": {},
   "outputs": [],
   "source": [
    "def get_X(data):\n",
    "    return data.filter(like='X')"
   ]
  },
  {
   "cell_type": "code",
   "execution_count": 11,
   "metadata": {},
   "outputs": [],
   "source": [
    "def get_y(data):\n",
    "    return data['Close']"
   ]
  },
  {
   "cell_type": "code",
   "execution_count": 12,
   "metadata": {},
   "outputs": [],
   "source": [
    "def get_clean_Xy(data):\n",
    "    data.dropna(inplace=True)\n",
    "    X = get_X(data)\n",
    "    y = get_y(data)\n",
    "    return X, y"
   ]
  },
  {
   "cell_type": "code",
   "execution_count": 13,
   "metadata": {},
   "outputs": [],
   "source": [
    "def featureGeneration(data):\n",
    "    close = data.Close\n",
    "\n",
    "    sma10 = sma(data.Close, 10)\n",
    "    sma20 = sma(data.Close, 20)\n",
    "    sma50 = sma(data.Close, 50)\n",
    "    sma100 = sma(data.Close, 100)\n",
    "    upper = signal_h(data.Close)\n",
    "    lower = signal_l(data.Close)\n",
    "\n",
    "    # Design matrix / independent features:\n",
    "\n",
    "    # Price-derived features\n",
    "    data['X_SMA10'] = (close - sma10) / close\n",
    "    data['X_SMA20'] = (close - sma20) / close\n",
    "    data['X_SMA50'] = (close - sma50) / close\n",
    "    data['X_SMA100'] = (close - sma100) / close\n",
    "\n",
    "    data['X_DELTA_SMA10'] = (sma10 - sma20) / close\n",
    "    data['X_DELTA_SMA20'] = (sma20 - sma50) / close\n",
    "    data['X_DELTA_SMA50'] = (sma50 - sma100) / close\n",
    "\n",
    "    # Indicator features\n",
    "    data['X_MOM'] = data.Close.pct_change(periods=2)\n",
    "    data['X_BB_upper'] = (upper - close) / close\n",
    "    data['X_BB_lower'] = (lower - close) / close\n",
    "    data['X_BB_width'] = (upper - lower) / close\n",
    "\n",
    "    # Some datetime features for good measure\n",
    "    data['X_day'] = data.index.dayofweek\n",
    "    data['X_hour'] = data.index.hour\n",
    "\n",
    "    data = data.dropna().astype(float)\n",
    "    return data"
   ]
  },
  {
   "cell_type": "markdown",
   "metadata": {},
   "source": [
    "### Strategy Class"
   ]
  },
  {
   "cell_type": "markdown",
   "metadata": {},
   "source": [
    "#### ML Strategy"
   ]
  },
  {
   "cell_type": "code",
   "execution_count": null,
   "metadata": {},
   "outputs": [],
   "source": [
    "class MLstr(Strategy):\n",
    "    train_split = .7 # 70% training 30% testing\n",
    "\n",
    "    def init(self):\n",
    "        \n",
    "        pass\n",
    "\n",
    "    def next(self):\n",
    "        pass"
   ]
  },
  {
   "cell_type": "markdown",
   "metadata": {},
   "source": [
    "### ML Model\n"
   ]
  },
  {
   "cell_type": "markdown",
   "metadata": {},
   "source": [
    "## Main"
   ]
  },
  {
   "cell_type": "markdown",
   "metadata": {},
   "source": [
    "### Binance API"
   ]
  },
  {
   "cell_type": "code",
   "execution_count": 15,
   "metadata": {},
   "outputs": [],
   "source": [
    "client = connectBinanceAPI()"
   ]
  },
  {
   "cell_type": "markdown",
   "metadata": {},
   "source": [
    "### Parameters"
   ]
  },
  {
   "cell_type": "code",
   "execution_count": 24,
   "metadata": {},
   "outputs": [],
   "source": [
    "symbol = 'BTCUSDT'\n",
    "interval = '1h'\n",
    "window_LSTM = 60\n",
    "\n",
    "start_str = int(datetime(2020,1,1,0,0).timestamp() * 1000)\n",
    "end_str    = int(datetime(2023,12,31,0,0).timestamp() * 1000)"
   ]
  },
  {
   "cell_type": "code",
   "execution_count": 20,
   "metadata": {},
   "outputs": [],
   "source": [
    "data = getBinanceData(client=client,\n",
    "                      symbol=symbol,\n",
    "                      interval=interval,\n",
    "                      start_str=start_str,\n",
    "                      end_str=end_str)"
   ]
  },
  {
   "cell_type": "code",
   "execution_count": 21,
   "metadata": {},
   "outputs": [],
   "source": [
    "data_raw = data.copy()"
   ]
  },
  {
   "cell_type": "code",
   "execution_count": 25,
   "metadata": {},
   "outputs": [],
   "source": [
    "data_forLSTM = create_previous_data_df(data[['Close']], window_LSTM)"
   ]
  },
  {
   "cell_type": "markdown",
   "metadata": {},
   "source": [
    "### Fetch Historical Data"
   ]
  },
  {
   "cell_type": "markdown",
   "metadata": {},
   "source": [
    "### Backtesting"
   ]
  },
  {
   "cell_type": "markdown",
   "metadata": {},
   "source": [
    "#### Backtesting"
   ]
  },
  {
   "cell_type": "markdown",
   "metadata": {},
   "source": [
    "#### Graph"
   ]
  },
  {
   "cell_type": "markdown",
   "metadata": {},
   "source": [
    "## For Temp Ad Hoc Testing"
   ]
  },
  {
   "cell_type": "code",
   "execution_count": null,
   "metadata": {},
   "outputs": [],
   "source": [
    "bt = Backtest(data, MLstr, cash = 1000000, commission = .0007, margin = .05)\n",
    "bt.run()\n",
    "bt.plot()"
   ]
  },
  {
   "cell_type": "markdown",
   "metadata": {},
   "source": [
    "## Reference"
   ]
  },
  {
   "cell_type": "markdown",
   "metadata": {},
   "source": [
    "Backtesting User Manual\n",
    "\n",
    "https://kernc.github.io/backtesting.py/doc/examples/Quick%20Start%20User%20Guide.html"
   ]
  }
 ],
 "metadata": {
  "kernelspec": {
   "display_name": "Python 3",
   "language": "python",
   "name": "python3"
  },
  "language_info": {
   "codemirror_mode": {
    "name": "ipython",
    "version": 3
   },
   "file_extension": ".py",
   "mimetype": "text/x-python",
   "name": "python",
   "nbconvert_exporter": "python",
   "pygments_lexer": "ipython3",
   "version": "3.12.4"
  }
 },
 "nbformat": 4,
 "nbformat_minor": 2
}
